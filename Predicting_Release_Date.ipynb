{
  "cells": [
    {
      "cell_type": "markdown",
      "metadata": {
        "id": "tpBBF-HbfBnL"
      },
      "source": [
        "# Predicting Animation Movie Release Date"
      ]
    },
    {
      "cell_type": "code",
      "execution_count": null,
      "metadata": {
        "id": "49rpG2ZAdm0b"
      },
      "outputs": [],
      "source": [
        "import pandas as pd\n"
      ]
    },
    {
      "cell_type": "markdown",
      "metadata": {
        "id": "FhP-QxDwfHwA"
      },
      "source": [
        "## Exploring the data"
      ]
    },
    {
      "cell_type": "code",
      "execution_count": null,
      "metadata": {
        "colab": {
          "base_uri": "https://localhost:8080/",
          "height": 1000
        },
        "id": "GeJKmyF2dwb0",
        "outputId": "a2d8351b-b486-4c67-9636-35662265f0b2"
      },
      "outputs": [
        {
          "output_type": "execute_result",
          "data": {
            "text/plain": [
              "           id                                              title  \\\n",
              "0      150540                                         Inside Out   \n",
              "1       14160                                                 Up   \n",
              "2          12                                       Finding Nemo   \n",
              "3      354912                                               Coco   \n",
              "4       10681                                             WALL·E   \n",
              "...       ...                                                ...   \n",
              "51940  656677                                          Белозубка   \n",
              "51941  657149                     Shimajiro to Ururu no Heroland   \n",
              "51942  656945                  Robo Force: The Revenge of Nazgar   \n",
              "51943  656893  Beginning Responsibility: A Lunchroom Goes Ban...   \n",
              "51944  656966                                  Natural Selection   \n",
              "\n",
              "       vote_average  vote_count    status release_date    revenue  runtime  \\\n",
              "0             7.922       19463  Released   2015-06-09  857611174       95   \n",
              "1             7.949       18857  Released   2009-05-28  735099082       96   \n",
              "2             7.824       18061  Released   2003-05-30  940335536      100   \n",
              "3             8.222       17742  Released   2017-10-27  800526015      105   \n",
              "4             8.078       17446  Released   2008-06-22  521311860       98   \n",
              "...             ...         ...       ...          ...        ...      ...   \n",
              "51940         0.000           0  Released   2018-12-20          0        0   \n",
              "51941         0.000           0  Released   2019-03-15          0       60   \n",
              "51942         0.000           0  Released   1984-12-08          0       22   \n",
              "51943         0.000           0  Released   1978-01-01          0       12   \n",
              "51944         0.000           0  Released   2019-08-20          0       10   \n",
              "\n",
              "       adult                     backdrop_path  ...  original_language  \\\n",
              "0      False  /j29ekbcLpBvxnGk6LjdTc2EI5SA.jpg  ...                 en   \n",
              "1      False  /hGGC9gKo7CFE3fW07RA587e5kol.jpg  ...                 en   \n",
              "2      False  /h3uqFk7sZRJvLZDdLiFB9qwbL07.jpg  ...                 en   \n",
              "3      False  /askg3SMvhqEl4OL52YuvdtY40Yb.jpg  ...                 en   \n",
              "4      False  /fK5ssgvtI43z19FoWigdlqgpLRE.jpg  ...                 en   \n",
              "...      ...                               ...  ...                ...   \n",
              "51940  False                               NaN  ...                 ru   \n",
              "51941  False  /jQMHu7B7LOY3R2PNJA4bBahEewN.jpg  ...                 ja   \n",
              "51942  False                               NaN  ...                 en   \n",
              "51943  False                               NaN  ...                 en   \n",
              "51944  False                               NaN  ...                 bs   \n",
              "\n",
              "                                          original_title  \\\n",
              "0                                             Inside Out   \n",
              "1                                                     Up   \n",
              "2                                           Finding Nemo   \n",
              "3                                                   Coco   \n",
              "4                                                 WALL·E   \n",
              "...                                                  ...   \n",
              "51940                                          Белозубка   \n",
              "51941                          映画しまじろう しまじろうとうるるのヒーローランド   \n",
              "51942                  Robo Force: The Revenge of Nazgar   \n",
              "51943  Beginning Responsibility: A Lunchroom Goes Ban...   \n",
              "51944                                    Prirodni odabir   \n",
              "\n",
              "                                                overview popularity  \\\n",
              "0      Growing up can be a bumpy road, and it's no ex...    107.292   \n",
              "1      Carl Fredricksen spent his entire life dreamin...     90.968   \n",
              "2      Nemo, an adventurous young clownfish, is unexp...     55.456   \n",
              "3      Despite his family’s baffling generations-old ...    166.578   \n",
              "4      What if mankind had to leave Earth and somebod...     58.517   \n",
              "...                                                  ...        ...   \n",
              "51940                                                NaN      0.600   \n",
              "51941  Hero Land is a world where you can meet the he...      2.531   \n",
              "51942  TV Short for Robo Force, included in Challenge...      1.952   \n",
              "51943  The food in Plumcrest School Cafeteria has gon...      0.600   \n",
              "51944  Woman-Doe is a living sculpture trapped in urb...      0.600   \n",
              "\n",
              "                            poster_path  \\\n",
              "0      /2H1TmgdfNtsKlU9jKdeNyYL5y8T.jpg   \n",
              "1      /vpbaStTMt8qqXaEgnOR2EE4DNJk.jpg   \n",
              "2      /ggQ6o8X5984OCh3kZi2UIJQJY5y.jpg   \n",
              "3      /gGEsBPAijhVUFoiNpgZXqRVWJt2.jpg   \n",
              "4      /hbhFnRzzg6ZDmm8YAmxBnQpQIPh.jpg   \n",
              "...                                 ...   \n",
              "51940  /r9rYEqBVJIHDUZZPyCkstkiM8Z2.jpg   \n",
              "51941  /yGthNH49g4ezKLrn6cUNKygcbtz.jpg   \n",
              "51942  /2l6C7P7zFE5WaLdpyzayYfWdIbW.jpg   \n",
              "51943                               NaN   \n",
              "51944  /sC6Zo37mqJ3Lf4xTXJTJy02mC67.jpg   \n",
              "\n",
              "                                                 tagline  \\\n",
              "0               Meet the little voices inside your head.   \n",
              "1      The greatest adventure is just getting back home.   \n",
              "2      There are 3.7 trillion fish in the ocean. They...   \n",
              "3                          The celebration of a lifetime   \n",
              "4      After 700 years of doing what he was built for...   \n",
              "...                                                  ...   \n",
              "51940                                                NaN   \n",
              "51941                                                NaN   \n",
              "51942                                                NaN   \n",
              "51943                                                NaN   \n",
              "51944                                                NaN   \n",
              "\n",
              "                                                  genres  \\\n",
              "0            Animation, Family, Adventure, Drama, Comedy   \n",
              "1                   Animation, Comedy, Family, Adventure   \n",
              "2                                      Animation, Family   \n",
              "3      Family, Animation, Fantasy, Music, Comedy, Adv...   \n",
              "4                     Animation, Family, Science Fiction   \n",
              "...                                                  ...   \n",
              "51940                                          Animation   \n",
              "51941                         Family, Animation, Fantasy   \n",
              "51942                 Animation, Action, Science Fiction   \n",
              "51943                     Animation, Documentary, Family   \n",
              "51944                                          Animation   \n",
              "\n",
              "                                    production_companies  \\\n",
              "0                            Pixar, Walt Disney Pictures   \n",
              "1                                                  Pixar   \n",
              "2                                                  Pixar   \n",
              "3                            Pixar, Walt Disney Pictures   \n",
              "4                            Pixar, Walt Disney Pictures   \n",
              "...                                                  ...   \n",
              "51940                                                NaN   \n",
              "51941  Benesse, Sony Music Direct, TOHO, The Answer S...   \n",
              "51942                                                NaN   \n",
              "51943                                      Coronet Films   \n",
              "51944                           Studio Neum, Zagreb Film   \n",
              "\n",
              "                  production_countries             spoken_languages  \n",
              "0             United States of America                      English  \n",
              "1             United States of America                      English  \n",
              "2             United States of America                      English  \n",
              "3             United States of America             English, Spanish  \n",
              "4             United States of America                      English  \n",
              "...                                ...                          ...  \n",
              "51940                           Russia                          NaN  \n",
              "51941                            Japan  Japanese, English, Mandarin  \n",
              "51942                              NaN                      English  \n",
              "51943                              NaN                      English  \n",
              "51944  Bosnia and Herzegovina, Croatia                      Bosnian  \n",
              "\n",
              "[51945 rows x 23 columns]"
            ],
            "text/html": [
              "\n",
              "  <div id=\"df-2339d9ad-889c-4bb4-ad2c-670fa8b2f890\" class=\"colab-df-container\">\n",
              "    <div>\n",
              "<style scoped>\n",
              "    .dataframe tbody tr th:only-of-type {\n",
              "        vertical-align: middle;\n",
              "    }\n",
              "\n",
              "    .dataframe tbody tr th {\n",
              "        vertical-align: top;\n",
              "    }\n",
              "\n",
              "    .dataframe thead th {\n",
              "        text-align: right;\n",
              "    }\n",
              "</style>\n",
              "<table border=\"1\" class=\"dataframe\">\n",
              "  <thead>\n",
              "    <tr style=\"text-align: right;\">\n",
              "      <th></th>\n",
              "      <th>id</th>\n",
              "      <th>title</th>\n",
              "      <th>vote_average</th>\n",
              "      <th>vote_count</th>\n",
              "      <th>status</th>\n",
              "      <th>release_date</th>\n",
              "      <th>revenue</th>\n",
              "      <th>runtime</th>\n",
              "      <th>adult</th>\n",
              "      <th>backdrop_path</th>\n",
              "      <th>...</th>\n",
              "      <th>original_language</th>\n",
              "      <th>original_title</th>\n",
              "      <th>overview</th>\n",
              "      <th>popularity</th>\n",
              "      <th>poster_path</th>\n",
              "      <th>tagline</th>\n",
              "      <th>genres</th>\n",
              "      <th>production_companies</th>\n",
              "      <th>production_countries</th>\n",
              "      <th>spoken_languages</th>\n",
              "    </tr>\n",
              "  </thead>\n",
              "  <tbody>\n",
              "    <tr>\n",
              "      <th>0</th>\n",
              "      <td>150540</td>\n",
              "      <td>Inside Out</td>\n",
              "      <td>7.922</td>\n",
              "      <td>19463</td>\n",
              "      <td>Released</td>\n",
              "      <td>2015-06-09</td>\n",
              "      <td>857611174</td>\n",
              "      <td>95</td>\n",
              "      <td>False</td>\n",
              "      <td>/j29ekbcLpBvxnGk6LjdTc2EI5SA.jpg</td>\n",
              "      <td>...</td>\n",
              "      <td>en</td>\n",
              "      <td>Inside Out</td>\n",
              "      <td>Growing up can be a bumpy road, and it's no ex...</td>\n",
              "      <td>107.292</td>\n",
              "      <td>/2H1TmgdfNtsKlU9jKdeNyYL5y8T.jpg</td>\n",
              "      <td>Meet the little voices inside your head.</td>\n",
              "      <td>Animation, Family, Adventure, Drama, Comedy</td>\n",
              "      <td>Pixar, Walt Disney Pictures</td>\n",
              "      <td>United States of America</td>\n",
              "      <td>English</td>\n",
              "    </tr>\n",
              "    <tr>\n",
              "      <th>1</th>\n",
              "      <td>14160</td>\n",
              "      <td>Up</td>\n",
              "      <td>7.949</td>\n",
              "      <td>18857</td>\n",
              "      <td>Released</td>\n",
              "      <td>2009-05-28</td>\n",
              "      <td>735099082</td>\n",
              "      <td>96</td>\n",
              "      <td>False</td>\n",
              "      <td>/hGGC9gKo7CFE3fW07RA587e5kol.jpg</td>\n",
              "      <td>...</td>\n",
              "      <td>en</td>\n",
              "      <td>Up</td>\n",
              "      <td>Carl Fredricksen spent his entire life dreamin...</td>\n",
              "      <td>90.968</td>\n",
              "      <td>/vpbaStTMt8qqXaEgnOR2EE4DNJk.jpg</td>\n",
              "      <td>The greatest adventure is just getting back home.</td>\n",
              "      <td>Animation, Comedy, Family, Adventure</td>\n",
              "      <td>Pixar</td>\n",
              "      <td>United States of America</td>\n",
              "      <td>English</td>\n",
              "    </tr>\n",
              "    <tr>\n",
              "      <th>2</th>\n",
              "      <td>12</td>\n",
              "      <td>Finding Nemo</td>\n",
              "      <td>7.824</td>\n",
              "      <td>18061</td>\n",
              "      <td>Released</td>\n",
              "      <td>2003-05-30</td>\n",
              "      <td>940335536</td>\n",
              "      <td>100</td>\n",
              "      <td>False</td>\n",
              "      <td>/h3uqFk7sZRJvLZDdLiFB9qwbL07.jpg</td>\n",
              "      <td>...</td>\n",
              "      <td>en</td>\n",
              "      <td>Finding Nemo</td>\n",
              "      <td>Nemo, an adventurous young clownfish, is unexp...</td>\n",
              "      <td>55.456</td>\n",
              "      <td>/ggQ6o8X5984OCh3kZi2UIJQJY5y.jpg</td>\n",
              "      <td>There are 3.7 trillion fish in the ocean. They...</td>\n",
              "      <td>Animation, Family</td>\n",
              "      <td>Pixar</td>\n",
              "      <td>United States of America</td>\n",
              "      <td>English</td>\n",
              "    </tr>\n",
              "    <tr>\n",
              "      <th>3</th>\n",
              "      <td>354912</td>\n",
              "      <td>Coco</td>\n",
              "      <td>8.222</td>\n",
              "      <td>17742</td>\n",
              "      <td>Released</td>\n",
              "      <td>2017-10-27</td>\n",
              "      <td>800526015</td>\n",
              "      <td>105</td>\n",
              "      <td>False</td>\n",
              "      <td>/askg3SMvhqEl4OL52YuvdtY40Yb.jpg</td>\n",
              "      <td>...</td>\n",
              "      <td>en</td>\n",
              "      <td>Coco</td>\n",
              "      <td>Despite his family’s baffling generations-old ...</td>\n",
              "      <td>166.578</td>\n",
              "      <td>/gGEsBPAijhVUFoiNpgZXqRVWJt2.jpg</td>\n",
              "      <td>The celebration of a lifetime</td>\n",
              "      <td>Family, Animation, Fantasy, Music, Comedy, Adv...</td>\n",
              "      <td>Pixar, Walt Disney Pictures</td>\n",
              "      <td>United States of America</td>\n",
              "      <td>English, Spanish</td>\n",
              "    </tr>\n",
              "    <tr>\n",
              "      <th>4</th>\n",
              "      <td>10681</td>\n",
              "      <td>WALL·E</td>\n",
              "      <td>8.078</td>\n",
              "      <td>17446</td>\n",
              "      <td>Released</td>\n",
              "      <td>2008-06-22</td>\n",
              "      <td>521311860</td>\n",
              "      <td>98</td>\n",
              "      <td>False</td>\n",
              "      <td>/fK5ssgvtI43z19FoWigdlqgpLRE.jpg</td>\n",
              "      <td>...</td>\n",
              "      <td>en</td>\n",
              "      <td>WALL·E</td>\n",
              "      <td>What if mankind had to leave Earth and somebod...</td>\n",
              "      <td>58.517</td>\n",
              "      <td>/hbhFnRzzg6ZDmm8YAmxBnQpQIPh.jpg</td>\n",
              "      <td>After 700 years of doing what he was built for...</td>\n",
              "      <td>Animation, Family, Science Fiction</td>\n",
              "      <td>Pixar, Walt Disney Pictures</td>\n",
              "      <td>United States of America</td>\n",
              "      <td>English</td>\n",
              "    </tr>\n",
              "    <tr>\n",
              "      <th>...</th>\n",
              "      <td>...</td>\n",
              "      <td>...</td>\n",
              "      <td>...</td>\n",
              "      <td>...</td>\n",
              "      <td>...</td>\n",
              "      <td>...</td>\n",
              "      <td>...</td>\n",
              "      <td>...</td>\n",
              "      <td>...</td>\n",
              "      <td>...</td>\n",
              "      <td>...</td>\n",
              "      <td>...</td>\n",
              "      <td>...</td>\n",
              "      <td>...</td>\n",
              "      <td>...</td>\n",
              "      <td>...</td>\n",
              "      <td>...</td>\n",
              "      <td>...</td>\n",
              "      <td>...</td>\n",
              "      <td>...</td>\n",
              "      <td>...</td>\n",
              "    </tr>\n",
              "    <tr>\n",
              "      <th>51940</th>\n",
              "      <td>656677</td>\n",
              "      <td>Белозубка</td>\n",
              "      <td>0.000</td>\n",
              "      <td>0</td>\n",
              "      <td>Released</td>\n",
              "      <td>2018-12-20</td>\n",
              "      <td>0</td>\n",
              "      <td>0</td>\n",
              "      <td>False</td>\n",
              "      <td>NaN</td>\n",
              "      <td>...</td>\n",
              "      <td>ru</td>\n",
              "      <td>Белозубка</td>\n",
              "      <td>NaN</td>\n",
              "      <td>0.600</td>\n",
              "      <td>/r9rYEqBVJIHDUZZPyCkstkiM8Z2.jpg</td>\n",
              "      <td>NaN</td>\n",
              "      <td>Animation</td>\n",
              "      <td>NaN</td>\n",
              "      <td>Russia</td>\n",
              "      <td>NaN</td>\n",
              "    </tr>\n",
              "    <tr>\n",
              "      <th>51941</th>\n",
              "      <td>657149</td>\n",
              "      <td>Shimajiro to Ururu no Heroland</td>\n",
              "      <td>0.000</td>\n",
              "      <td>0</td>\n",
              "      <td>Released</td>\n",
              "      <td>2019-03-15</td>\n",
              "      <td>0</td>\n",
              "      <td>60</td>\n",
              "      <td>False</td>\n",
              "      <td>/jQMHu7B7LOY3R2PNJA4bBahEewN.jpg</td>\n",
              "      <td>...</td>\n",
              "      <td>ja</td>\n",
              "      <td>映画しまじろう しまじろうとうるるのヒーローランド</td>\n",
              "      <td>Hero Land is a world where you can meet the he...</td>\n",
              "      <td>2.531</td>\n",
              "      <td>/yGthNH49g4ezKLrn6cUNKygcbtz.jpg</td>\n",
              "      <td>NaN</td>\n",
              "      <td>Family, Animation, Fantasy</td>\n",
              "      <td>Benesse, Sony Music Direct, TOHO, The Answer S...</td>\n",
              "      <td>Japan</td>\n",
              "      <td>Japanese, English, Mandarin</td>\n",
              "    </tr>\n",
              "    <tr>\n",
              "      <th>51942</th>\n",
              "      <td>656945</td>\n",
              "      <td>Robo Force: The Revenge of Nazgar</td>\n",
              "      <td>0.000</td>\n",
              "      <td>0</td>\n",
              "      <td>Released</td>\n",
              "      <td>1984-12-08</td>\n",
              "      <td>0</td>\n",
              "      <td>22</td>\n",
              "      <td>False</td>\n",
              "      <td>NaN</td>\n",
              "      <td>...</td>\n",
              "      <td>en</td>\n",
              "      <td>Robo Force: The Revenge of Nazgar</td>\n",
              "      <td>TV Short for Robo Force, included in Challenge...</td>\n",
              "      <td>1.952</td>\n",
              "      <td>/2l6C7P7zFE5WaLdpyzayYfWdIbW.jpg</td>\n",
              "      <td>NaN</td>\n",
              "      <td>Animation, Action, Science Fiction</td>\n",
              "      <td>NaN</td>\n",
              "      <td>NaN</td>\n",
              "      <td>English</td>\n",
              "    </tr>\n",
              "    <tr>\n",
              "      <th>51943</th>\n",
              "      <td>656893</td>\n",
              "      <td>Beginning Responsibility: A Lunchroom Goes Ban...</td>\n",
              "      <td>0.000</td>\n",
              "      <td>0</td>\n",
              "      <td>Released</td>\n",
              "      <td>1978-01-01</td>\n",
              "      <td>0</td>\n",
              "      <td>12</td>\n",
              "      <td>False</td>\n",
              "      <td>NaN</td>\n",
              "      <td>...</td>\n",
              "      <td>en</td>\n",
              "      <td>Beginning Responsibility: A Lunchroom Goes Ban...</td>\n",
              "      <td>The food in Plumcrest School Cafeteria has gon...</td>\n",
              "      <td>0.600</td>\n",
              "      <td>NaN</td>\n",
              "      <td>NaN</td>\n",
              "      <td>Animation, Documentary, Family</td>\n",
              "      <td>Coronet Films</td>\n",
              "      <td>NaN</td>\n",
              "      <td>English</td>\n",
              "    </tr>\n",
              "    <tr>\n",
              "      <th>51944</th>\n",
              "      <td>656966</td>\n",
              "      <td>Natural Selection</td>\n",
              "      <td>0.000</td>\n",
              "      <td>0</td>\n",
              "      <td>Released</td>\n",
              "      <td>2019-08-20</td>\n",
              "      <td>0</td>\n",
              "      <td>10</td>\n",
              "      <td>False</td>\n",
              "      <td>NaN</td>\n",
              "      <td>...</td>\n",
              "      <td>bs</td>\n",
              "      <td>Prirodni odabir</td>\n",
              "      <td>Woman-Doe is a living sculpture trapped in urb...</td>\n",
              "      <td>0.600</td>\n",
              "      <td>/sC6Zo37mqJ3Lf4xTXJTJy02mC67.jpg</td>\n",
              "      <td>NaN</td>\n",
              "      <td>Animation</td>\n",
              "      <td>Studio Neum, Zagreb Film</td>\n",
              "      <td>Bosnia and Herzegovina, Croatia</td>\n",
              "      <td>Bosnian</td>\n",
              "    </tr>\n",
              "  </tbody>\n",
              "</table>\n",
              "<p>51945 rows × 23 columns</p>\n",
              "</div>\n",
              "    <div class=\"colab-df-buttons\">\n",
              "\n",
              "  <div class=\"colab-df-container\">\n",
              "    <button class=\"colab-df-convert\" onclick=\"convertToInteractive('df-2339d9ad-889c-4bb4-ad2c-670fa8b2f890')\"\n",
              "            title=\"Convert this dataframe to an interactive table.\"\n",
              "            style=\"display:none;\">\n",
              "\n",
              "  <svg xmlns=\"http://www.w3.org/2000/svg\" height=\"24px\" viewBox=\"0 -960 960 960\">\n",
              "    <path d=\"M120-120v-720h720v720H120Zm60-500h600v-160H180v160Zm220 220h160v-160H400v160Zm0 220h160v-160H400v160ZM180-400h160v-160H180v160Zm440 0h160v-160H620v160ZM180-180h160v-160H180v160Zm440 0h160v-160H620v160Z\"/>\n",
              "  </svg>\n",
              "    </button>\n",
              "\n",
              "  <style>\n",
              "    .colab-df-container {\n",
              "      display:flex;\n",
              "      gap: 12px;\n",
              "    }\n",
              "\n",
              "    .colab-df-convert {\n",
              "      background-color: #E8F0FE;\n",
              "      border: none;\n",
              "      border-radius: 50%;\n",
              "      cursor: pointer;\n",
              "      display: none;\n",
              "      fill: #1967D2;\n",
              "      height: 32px;\n",
              "      padding: 0 0 0 0;\n",
              "      width: 32px;\n",
              "    }\n",
              "\n",
              "    .colab-df-convert:hover {\n",
              "      background-color: #E2EBFA;\n",
              "      box-shadow: 0px 1px 2px rgba(60, 64, 67, 0.3), 0px 1px 3px 1px rgba(60, 64, 67, 0.15);\n",
              "      fill: #174EA6;\n",
              "    }\n",
              "\n",
              "    .colab-df-buttons div {\n",
              "      margin-bottom: 4px;\n",
              "    }\n",
              "\n",
              "    [theme=dark] .colab-df-convert {\n",
              "      background-color: #3B4455;\n",
              "      fill: #D2E3FC;\n",
              "    }\n",
              "\n",
              "    [theme=dark] .colab-df-convert:hover {\n",
              "      background-color: #434B5C;\n",
              "      box-shadow: 0px 1px 3px 1px rgba(0, 0, 0, 0.15);\n",
              "      filter: drop-shadow(0px 1px 2px rgba(0, 0, 0, 0.3));\n",
              "      fill: #FFFFFF;\n",
              "    }\n",
              "  </style>\n",
              "\n",
              "    <script>\n",
              "      const buttonEl =\n",
              "        document.querySelector('#df-2339d9ad-889c-4bb4-ad2c-670fa8b2f890 button.colab-df-convert');\n",
              "      buttonEl.style.display =\n",
              "        google.colab.kernel.accessAllowed ? 'block' : 'none';\n",
              "\n",
              "      async function convertToInteractive(key) {\n",
              "        const element = document.querySelector('#df-2339d9ad-889c-4bb4-ad2c-670fa8b2f890');\n",
              "        const dataTable =\n",
              "          await google.colab.kernel.invokeFunction('convertToInteractive',\n",
              "                                                    [key], {});\n",
              "        if (!dataTable) return;\n",
              "\n",
              "        const docLinkHtml = 'Like what you see? Visit the ' +\n",
              "          '<a target=\"_blank\" href=https://colab.research.google.com/notebooks/data_table.ipynb>data table notebook</a>'\n",
              "          + ' to learn more about interactive tables.';\n",
              "        element.innerHTML = '';\n",
              "        dataTable['output_type'] = 'display_data';\n",
              "        await google.colab.output.renderOutput(dataTable, element);\n",
              "        const docLink = document.createElement('div');\n",
              "        docLink.innerHTML = docLinkHtml;\n",
              "        element.appendChild(docLink);\n",
              "      }\n",
              "    </script>\n",
              "  </div>\n",
              "\n",
              "\n",
              "<div id=\"df-ea7fc751-8328-459d-beab-9eab3ea9d5b8\">\n",
              "  <button class=\"colab-df-quickchart\" onclick=\"quickchart('df-ea7fc751-8328-459d-beab-9eab3ea9d5b8')\"\n",
              "            title=\"Suggest charts\"\n",
              "            style=\"display:none;\">\n",
              "\n",
              "<svg xmlns=\"http://www.w3.org/2000/svg\" height=\"24px\"viewBox=\"0 0 24 24\"\n",
              "     width=\"24px\">\n",
              "    <g>\n",
              "        <path d=\"M19 3H5c-1.1 0-2 .9-2 2v14c0 1.1.9 2 2 2h14c1.1 0 2-.9 2-2V5c0-1.1-.9-2-2-2zM9 17H7v-7h2v7zm4 0h-2V7h2v10zm4 0h-2v-4h2v4z\"/>\n",
              "    </g>\n",
              "</svg>\n",
              "  </button>\n",
              "\n",
              "<style>\n",
              "  .colab-df-quickchart {\n",
              "      --bg-color: #E8F0FE;\n",
              "      --fill-color: #1967D2;\n",
              "      --hover-bg-color: #E2EBFA;\n",
              "      --hover-fill-color: #174EA6;\n",
              "      --disabled-fill-color: #AAA;\n",
              "      --disabled-bg-color: #DDD;\n",
              "  }\n",
              "\n",
              "  [theme=dark] .colab-df-quickchart {\n",
              "      --bg-color: #3B4455;\n",
              "      --fill-color: #D2E3FC;\n",
              "      --hover-bg-color: #434B5C;\n",
              "      --hover-fill-color: #FFFFFF;\n",
              "      --disabled-bg-color: #3B4455;\n",
              "      --disabled-fill-color: #666;\n",
              "  }\n",
              "\n",
              "  .colab-df-quickchart {\n",
              "    background-color: var(--bg-color);\n",
              "    border: none;\n",
              "    border-radius: 50%;\n",
              "    cursor: pointer;\n",
              "    display: none;\n",
              "    fill: var(--fill-color);\n",
              "    height: 32px;\n",
              "    padding: 0;\n",
              "    width: 32px;\n",
              "  }\n",
              "\n",
              "  .colab-df-quickchart:hover {\n",
              "    background-color: var(--hover-bg-color);\n",
              "    box-shadow: 0 1px 2px rgba(60, 64, 67, 0.3), 0 1px 3px 1px rgba(60, 64, 67, 0.15);\n",
              "    fill: var(--button-hover-fill-color);\n",
              "  }\n",
              "\n",
              "  .colab-df-quickchart-complete:disabled,\n",
              "  .colab-df-quickchart-complete:disabled:hover {\n",
              "    background-color: var(--disabled-bg-color);\n",
              "    fill: var(--disabled-fill-color);\n",
              "    box-shadow: none;\n",
              "  }\n",
              "\n",
              "  .colab-df-spinner {\n",
              "    border: 2px solid var(--fill-color);\n",
              "    border-color: transparent;\n",
              "    border-bottom-color: var(--fill-color);\n",
              "    animation:\n",
              "      spin 1s steps(1) infinite;\n",
              "  }\n",
              "\n",
              "  @keyframes spin {\n",
              "    0% {\n",
              "      border-color: transparent;\n",
              "      border-bottom-color: var(--fill-color);\n",
              "      border-left-color: var(--fill-color);\n",
              "    }\n",
              "    20% {\n",
              "      border-color: transparent;\n",
              "      border-left-color: var(--fill-color);\n",
              "      border-top-color: var(--fill-color);\n",
              "    }\n",
              "    30% {\n",
              "      border-color: transparent;\n",
              "      border-left-color: var(--fill-color);\n",
              "      border-top-color: var(--fill-color);\n",
              "      border-right-color: var(--fill-color);\n",
              "    }\n",
              "    40% {\n",
              "      border-color: transparent;\n",
              "      border-right-color: var(--fill-color);\n",
              "      border-top-color: var(--fill-color);\n",
              "    }\n",
              "    60% {\n",
              "      border-color: transparent;\n",
              "      border-right-color: var(--fill-color);\n",
              "    }\n",
              "    80% {\n",
              "      border-color: transparent;\n",
              "      border-right-color: var(--fill-color);\n",
              "      border-bottom-color: var(--fill-color);\n",
              "    }\n",
              "    90% {\n",
              "      border-color: transparent;\n",
              "      border-bottom-color: var(--fill-color);\n",
              "    }\n",
              "  }\n",
              "</style>\n",
              "\n",
              "  <script>\n",
              "    async function quickchart(key) {\n",
              "      const quickchartButtonEl =\n",
              "        document.querySelector('#' + key + ' button');\n",
              "      quickchartButtonEl.disabled = true;  // To prevent multiple clicks.\n",
              "      quickchartButtonEl.classList.add('colab-df-spinner');\n",
              "      try {\n",
              "        const charts = await google.colab.kernel.invokeFunction(\n",
              "            'suggestCharts', [key], {});\n",
              "      } catch (error) {\n",
              "        console.error('Error during call to suggestCharts:', error);\n",
              "      }\n",
              "      quickchartButtonEl.classList.remove('colab-df-spinner');\n",
              "      quickchartButtonEl.classList.add('colab-df-quickchart-complete');\n",
              "    }\n",
              "    (() => {\n",
              "      let quickchartButtonEl =\n",
              "        document.querySelector('#df-ea7fc751-8328-459d-beab-9eab3ea9d5b8 button');\n",
              "      quickchartButtonEl.style.display =\n",
              "        google.colab.kernel.accessAllowed ? 'block' : 'none';\n",
              "    })();\n",
              "  </script>\n",
              "</div>\n",
              "    </div>\n",
              "  </div>\n"
            ],
            "application/vnd.google.colaboratory.intrinsic+json": {
              "type": "dataframe",
              "variable_name": "data"
            }
          },
          "metadata": {},
          "execution_count": 4
        }
      ],
      "source": [
        "path = \"/content/Animation_Movies.csv\"\n",
        "data = pd.read_csv(\"Animation_Movies.csv\")\n",
        "#data = pd.read_csv(path)\n",
        "data"
      ]
    },
    {
      "cell_type": "code",
      "execution_count": null,
      "metadata": {
        "colab": {
          "base_uri": "https://localhost:8080/"
        },
        "id": "Wco0kK-md4ux",
        "outputId": "6b34ddc8-022d-4284-c050-95de08440922"
      },
      "outputs": [
        {
          "output_type": "execute_result",
          "data": {
            "text/plain": [
              "id                          0\n",
              "title                       1\n",
              "vote_average                0\n",
              "vote_count                  0\n",
              "status                      0\n",
              "release_date             2137\n",
              "revenue                     0\n",
              "runtime                     0\n",
              "adult                       0\n",
              "backdrop_path           36110\n",
              "budget                      0\n",
              "homepage                43692\n",
              "imdb_id                 22393\n",
              "original_language           0\n",
              "original_title              1\n",
              "overview                 6079\n",
              "popularity                  0\n",
              "poster_path             14011\n",
              "tagline                 47267\n",
              "genres                      0\n",
              "production_companies    22547\n",
              "production_countries    12245\n",
              "spoken_languages        18127\n",
              "dtype: int64"
            ]
          },
          "metadata": {},
          "execution_count": 5
        }
      ],
      "source": [
        "data.isnull().sum()"
      ]
    },
    {
      "cell_type": "code",
      "source": [
        "# Filter out observations where revenue is non-positive\n",
        "data = data[data['revenue'] > 0]\n",
        "\n",
        "# Check the shape of the DataFrame after filtering\n",
        "print(data.shape)"
      ],
      "metadata": {
        "colab": {
          "base_uri": "https://localhost:8080/"
        },
        "id": "MVQRV-_wzjuj",
        "outputId": "b0e0ca8c-e5c8-46ab-d592-781d5ccae535"
      },
      "execution_count": null,
      "outputs": [
        {
          "output_type": "stream",
          "name": "stdout",
          "text": [
            "(1100, 23)\n"
          ]
        }
      ]
    },
    {
      "cell_type": "code",
      "execution_count": null,
      "metadata": {
        "colab": {
          "base_uri": "https://localhost:8080/"
        },
        "id": "VwdlbtcRfNdt",
        "outputId": "4377c580-8249-470b-92d1-817f8f7c13b8"
      },
      "outputs": [
        {
          "output_type": "stream",
          "name": "stdout",
          "text": [
            "Null Percentages:\n",
            "id                       0.000000\n",
            "title                    0.000000\n",
            "vote_average             0.000000\n",
            "vote_count               0.000000\n",
            "status                   0.000000\n",
            "release_date             1.090909\n",
            "revenue                  0.000000\n",
            "runtime                  0.000000\n",
            "adult                    0.000000\n",
            "backdrop_path           11.363636\n",
            "budget                   0.000000\n",
            "homepage                49.000000\n",
            "imdb_id                  6.363636\n",
            "original_language        0.000000\n",
            "original_title           0.000000\n",
            "overview                 4.000000\n",
            "popularity               0.000000\n",
            "poster_path              3.454545\n",
            "tagline                 36.727273\n",
            "genres                   0.000000\n",
            "production_companies     7.363636\n",
            "production_countries     4.909091\n",
            "spoken_languages         3.636364\n",
            "dtype: float64\n"
          ]
        }
      ],
      "source": [
        "# Calculate null percentages\n",
        "null_percentages = (data.isnull().sum() / len(data)) * 100\n",
        "\n",
        "print(\"Null Percentages:\")\n",
        "print(null_percentages)"
      ]
    },
    {
      "cell_type": "markdown",
      "metadata": {
        "id": "8mX53TIjfQ6L"
      },
      "source": [
        "Remove predictors where more than 25% of the data is missing and isnt relevant to our analysis"
      ]
    },
    {
      "cell_type": "code",
      "execution_count": null,
      "metadata": {
        "id": "Hf1QjHAogKqP",
        "colab": {
          "base_uri": "https://localhost:8080/"
        },
        "outputId": "e416110f-0993-4ca6-86b8-60d51a3d4f05"
      },
      "outputs": [
        {
          "output_type": "stream",
          "name": "stdout",
          "text": [
            "(1100, 16)\n"
          ]
        }
      ],
      "source": [
        "animation = data.drop([\"backdrop_path\",\"homepage\",\"imdb_id\", \"poster_path\", \"tagline\", \"production_companies\",\"production_countries\" ],axis=1)\n",
        "print(animation.shape)"
      ]
    },
    {
      "cell_type": "code",
      "execution_count": null,
      "metadata": {
        "id": "E48NlWt0lDgX"
      },
      "outputs": [],
      "source": [
        "# Drop the rows with the remaining null values, imputing doesnt make sense in this context\n",
        "animation_processed = animation.dropna()"
      ]
    },
    {
      "cell_type": "code",
      "execution_count": null,
      "metadata": {
        "id": "dBbycfGAlVER",
        "colab": {
          "base_uri": "https://localhost:8080/"
        },
        "outputId": "0e969211-5487-415b-fce9-6ca959d9e88b"
      },
      "outputs": [
        {
          "output_type": "execute_result",
          "data": {
            "text/plain": [
              "(1022, 16)"
            ]
          },
          "metadata": {},
          "execution_count": 10
        }
      ],
      "source": [
        "animation_processed.shape"
      ]
    },
    {
      "cell_type": "code",
      "execution_count": null,
      "metadata": {
        "colab": {
          "base_uri": "https://localhost:8080/"
        },
        "id": "VQcLAJIbmIcM",
        "outputId": "d498651a-b1b9-4a12-ec39-86b5665e11aa"
      },
      "outputs": [
        {
          "output_type": "stream",
          "name": "stdout",
          "text": [
            "Null Percentages:\n",
            "id                   0.0\n",
            "title                0.0\n",
            "vote_average         0.0\n",
            "vote_count           0.0\n",
            "status               0.0\n",
            "release_date         0.0\n",
            "revenue              0.0\n",
            "runtime              0.0\n",
            "adult                0.0\n",
            "budget               0.0\n",
            "original_language    0.0\n",
            "original_title       0.0\n",
            "overview             0.0\n",
            "popularity           0.0\n",
            "genres               0.0\n",
            "spoken_languages     0.0\n",
            "dtype: float64\n"
          ]
        }
      ],
      "source": [
        "# Calculate null percentages\n",
        "null_percentages = (animation_processed.isnull().sum() / len(animation_processed)) * 100\n",
        "\n",
        "print(\"Null Percentages:\")\n",
        "print(null_percentages)"
      ]
    },
    {
      "cell_type": "code",
      "execution_count": null,
      "metadata": {
        "colab": {
          "base_uri": "https://localhost:8080/"
        },
        "id": "fUPo_6h3mb4q",
        "outputId": "b2f33c22-8a0c-4307-d72c-978f0e0c0a47"
      },
      "outputs": [
        {
          "output_type": "stream",
          "name": "stdout",
          "text": [
            "(1022, 16)\n"
          ]
        }
      ],
      "source": [
        "# data dimensions after removing NA values\n",
        "print(animation_processed.shape)"
      ]
    },
    {
      "cell_type": "markdown",
      "metadata": {
        "id": "5AYtGGgRmpxE"
      },
      "source": [
        "### 14855 observations and 19 features"
      ]
    },
    {
      "cell_type": "markdown",
      "metadata": {
        "id": "5tQ-VmXQrCeP"
      },
      "source": [
        "## Preprocessing"
      ]
    },
    {
      "cell_type": "code",
      "execution_count": null,
      "metadata": {
        "id": "xnPbbrjmrASt",
        "colab": {
          "base_uri": "https://localhost:8080/"
        },
        "outputId": "5b3ed9c6-aff5-48b3-dff0-91287ad22438"
      },
      "outputs": [
        {
          "output_type": "stream",
          "name": "stderr",
          "text": [
            "<ipython-input-13-45715a33d49f>:5: SettingWithCopyWarning: \n",
            "A value is trying to be set on a copy of a slice from a DataFrame.\n",
            "Try using .loc[row_indexer,col_indexer] = value instead\n",
            "\n",
            "See the caveats in the documentation: https://pandas.pydata.org/pandas-docs/stable/user_guide/indexing.html#returning-a-view-versus-a-copy\n",
            "  animation_processed['release_date'] = pd.to_datetime(animation_processed['release_date'])\n",
            "<ipython-input-13-45715a33d49f>:7: SettingWithCopyWarning: \n",
            "A value is trying to be set on a copy of a slice from a DataFrame.\n",
            "Try using .loc[row_indexer,col_indexer] = value instead\n",
            "\n",
            "See the caveats in the documentation: https://pandas.pydata.org/pandas-docs/stable/user_guide/indexing.html#returning-a-view-versus-a-copy\n",
            "  animation_processed['release_month'] = animation_processed['release_date'].dt.month\n",
            "<ipython-input-13-45715a33d49f>:8: SettingWithCopyWarning: \n",
            "A value is trying to be set on a copy of a slice from a DataFrame.\n",
            "Try using .loc[row_indexer,col_indexer] = value instead\n",
            "\n",
            "See the caveats in the documentation: https://pandas.pydata.org/pandas-docs/stable/user_guide/indexing.html#returning-a-view-versus-a-copy\n",
            "  animation_processed['release_year'] = animation_processed['release_date'].dt.year\n",
            "<ipython-input-13-45715a33d49f>:9: SettingWithCopyWarning: \n",
            "A value is trying to be set on a copy of a slice from a DataFrame.\n",
            "Try using .loc[row_indexer,col_indexer] = value instead\n",
            "\n",
            "See the caveats in the documentation: https://pandas.pydata.org/pandas-docs/stable/user_guide/indexing.html#returning-a-view-versus-a-copy\n",
            "  animation_processed['release_day_of_week'] = animation_processed['release_date'].dt.dayofweek  # Monday=0, Sunday=6\n",
            "<ipython-input-13-45715a33d49f>:10: SettingWithCopyWarning: \n",
            "A value is trying to be set on a copy of a slice from a DataFrame.\n",
            "Try using .loc[row_indexer,col_indexer] = value instead\n",
            "\n",
            "See the caveats in the documentation: https://pandas.pydata.org/pandas-docs/stable/user_guide/indexing.html#returning-a-view-versus-a-copy\n",
            "  animation_processed['release_season'] = (animation_processed['release_month'] % 12 + 3) // 3  # Calculate season based on month\n"
          ]
        }
      ],
      "source": [
        "from sklearn.model_selection import train_test_split\n",
        "from sklearn.preprocessing import StandardScaler\n",
        "\n",
        "# Convert release_date column to datetime\n",
        "animation_processed['release_date'] = pd.to_datetime(animation_processed['release_date'])\n",
        "# Extract temporal features\n",
        "animation_processed['release_month'] = animation_processed['release_date'].dt.month\n",
        "animation_processed['release_year'] = animation_processed['release_date'].dt.year\n",
        "animation_processed['release_day_of_week'] = animation_processed['release_date'].dt.dayofweek  # Monday=0, Sunday=6\n",
        "animation_processed['release_season'] = (animation_processed['release_month'] % 12 + 3) // 3  # Calculate season based on month\n",
        "\n",
        "# Create a new DataFrame containing only numeric columns from X\n",
        "numeric_data = animation_processed.select_dtypes(include=['float64', 'int64'])  # Select only numeric columns (float64 and int64)\n",
        "# remove response var\n",
        "numeric_data = numeric_data.drop(columns=['revenue'])"
      ]
    },
    {
      "cell_type": "code",
      "execution_count": null,
      "metadata": {
        "colab": {
          "base_uri": "https://localhost:8080/",
          "height": 756
        },
        "id": "8jyrPBzj2cCv",
        "outputId": "429feefa-02e9-465f-ce27-1643445ef59a"
      },
      "outputs": [
        {
          "output_type": "display_data",
          "data": {
            "text/plain": [
              "<Figure size 1500x1000 with 6 Axes>"
            ],
            "image/png": "[encoded data removed]"
          },
          "metadata": {}
        }
      ],
      "source": [
        "import matplotlib.pyplot as plt\n",
        "\n",
        "num_cols = 3\n",
        "\n",
        "num_rows = (len(numeric_data.columns) + num_cols - 1) // num_cols\n",
        "\n",
        "fig, axs = plt.subplots(num_rows, num_cols, figsize=(15, 5*num_rows))\n",
        "\n",
        "axs = axs.flatten()\n",
        "\n",
        "for i, column in enumerate(numeric_data.columns):\n",
        "    ax = axs[i]\n",
        "    ax.hist(numeric_data[column], bins=10)\n",
        "    ax.set_title(column)\n",
        "    ax.set_xlabel('Value')\n",
        "    ax.set_ylabel('Frequency')\n",
        "\n",
        "plt.tight_layout()\n",
        "plt.show()"
      ]
    },
    {
      "cell_type": "markdown",
      "metadata": {
        "id": "x9l17CMQ2H0v"
      },
      "source": [
        "## Degenerative Distributions"
      ]
    },
    {
      "cell_type": "code",
      "execution_count": null,
      "metadata": {
        "colab": {
          "base_uri": "https://localhost:8080/"
        },
        "id": "hvvbuwEc2Hmi",
        "outputId": "e93ebadb-03c9-4f08-88d2-a704ac3fc2a6"
      },
      "outputs": [
        {
          "output_type": "stream",
          "name": "stdout",
          "text": [
            "Columns with near-zero variance:\n",
            "[]\n"
          ]
        }
      ],
      "source": [
        "# Near Zero Variance\n",
        "# Ratio of the frequency of the most prevalent value to the frequency of the second most prevalent is large ex: ratio of 20\n",
        "import pandas as pd\n",
        "\n",
        "\n",
        "# Function to check if both criteria are met\n",
        "def is_near_zero_variance(series):\n",
        "    unique_fraction = series.nunique() / len(series)\n",
        "    value_counts = series.value_counts()\n",
        "    if len(value_counts) > 1:\n",
        "        freq_ratio = value_counts.iloc[0] / value_counts.iloc[1]\n",
        "        if unique_fraction < 0.05 and freq_ratio > 20:\n",
        "            return True\n",
        "    return False\n",
        "\n",
        "# Filter columns that meet the criteria\n",
        "near_zero_variance_columns = []\n",
        "for col in numeric_data.columns:\n",
        "    if is_near_zero_variance(numeric_data[col]):\n",
        "        near_zero_variance_columns.append(col)\n",
        "\n",
        "# Print the indices or column names with near-zero variance\n",
        "print(\"Columns with near-zero variance:\")\n",
        "print(near_zero_variance_columns)\n",
        "\n",
        "# Drop columns with near-zero variance\n",
        "#numeric_data.drop(columns=near_zero_variance_columns, inplace=True)\n"
      ]
    },
    {
      "cell_type": "code",
      "execution_count": null,
      "metadata": {
        "id": "P_9h04nVFl3M",
        "colab": {
          "base_uri": "https://localhost:8080/",
          "height": 1000
        },
        "outputId": "fe24b1eb-7ec3-488d-d45e-6e78074a26f3"
      },
      "outputs": [
        {
          "output_type": "stream",
          "name": "stdout",
          "text": [
            "Number of outliers: 127\n",
            "Skewness:\n",
            "id               0.951165\n",
            "vote_average    -2.045109\n",
            "vote_count       3.051876\n",
            "runtime         -1.449774\n",
            "budget           2.082128\n",
            "popularity      10.652583\n",
            "dtype: float64\n"
          ]
        },
        {
          "output_type": "display_data",
          "data": {
            "text/plain": [
              "<Figure size 1200x600 with 1 Axes>"
            ],
            "image/png": "[encoded data removed]"
          },
          "metadata": {}
        },
        {
          "output_type": "display_data",
          "data": {
            "text/plain": [
              "<Figure size 1200x800 with 2 Axes>"
            ],
            "image/png": "[encoded data removed]"
          },
          "metadata": {}
        }
      ],
      "source": [
        "# Need to Check for Outliers\n",
        "import pandas as pd\n",
        "import numpy as np\n",
        "import seaborn as sns\n",
        "import matplotlib.pyplot as plt\n",
        "# Check for outliers\n",
        "def detect_outliers(data, threshold=3):\n",
        "    z_scores = np.abs((data - data.mean()) / data.std())\n",
        "    return (z_scores > threshold).any(axis=1)\n",
        "\n",
        "outliers = detect_outliers(numeric_data)\n",
        "print(\"Number of outliers:\", outliers.sum())\n",
        "\n",
        "# Check skewness\n",
        "skewness = numeric_data.skew()\n",
        "print(\"Skewness:\")\n",
        "print(skewness)\n",
        "\n",
        "# Visualize skewness\n",
        "plt.figure(figsize=(12, 6))\n",
        "sns.barplot(x=skewness.index, y=skewness.values)\n",
        "plt.title('Skewness of Numeric Features')\n",
        "plt.xticks(rotation=45)\n",
        "plt.ylabel('Skewness')\n",
        "plt.show()\n",
        "\n",
        "# Check correlations\n",
        "correlation_matrix = numeric_data.corr()\n",
        "\n",
        "# Visualize correlation matrix\n",
        "plt.figure(figsize=(12, 8))\n",
        "sns.heatmap(correlation_matrix, annot=True, cmap='coolwarm', fmt=\".2f\")\n",
        "plt.title('Correlation Matrix of Numeric Features')\n",
        "plt.show()\n"
      ]
    },
    {
      "cell_type": "code",
      "source": [
        "from scipy.stats import boxcox\n",
        "\n",
        "# Apply Box-Cox transformation to reduce skewness for all numeric features\n",
        "for feature in numeric_data.columns:\n",
        "    numeric_data[feature], _ = boxcox(numeric_data[feature] + 1)  # Adding 1 to handle zero values\n",
        "\n",
        "# Recheck Skewness\n",
        "skewness = numeric_data.skew()\n",
        "print(\"Skewness:\")\n",
        "print(skewness)\n",
        "\n",
        "# Visualize skewness\n",
        "plt.figure(figsize=(12, 6))\n",
        "sns.barplot(x=skewness.index, y=skewness.values)\n",
        "plt.title('Skewness of Numeric Features After BoxCox')\n",
        "plt.xticks(rotation=45)\n",
        "plt.ylabel('Skewness')\n",
        "plt.show()\n",
        "\n",
        "# detect outliers after transformation\n",
        "def detect_outliers(data, threshold=3):\n",
        "    z_scores = np.abs((data - data.mean()) / data.std())\n",
        "    return (z_scores > threshold).any(axis=1)\n",
        "\n",
        "outliers = detect_outliers(numeric_data)\n",
        "print(\"Number of outliers After Box Cox:\", outliers.sum())\n",
        "\n"
      ],
      "metadata": {
        "colab": {
          "base_uri": "https://localhost:8080/",
          "height": 783
        },
        "id": "LC83AK2gFQtF",
        "outputId": "22675e3b-5a6b-4f72-e07f-bab7a441a452"
      },
      "execution_count": null,
      "outputs": [
        {
          "output_type": "stream",
          "name": "stdout",
          "text": [
            "Skewness:\n",
            "id             -0.187793\n",
            "vote_average   -0.279025\n",
            "vote_count     -0.061265\n",
            "runtime        -0.603186\n",
            "budget         -0.072158\n",
            "popularity     -0.003517\n",
            "dtype: float64\n"
          ]
        },
        {
          "output_type": "display_data",
          "data": {
            "text/plain": [
              "<Figure size 1200x600 with 1 Axes>"
            ],
            "image/png": "[encoded data removed]"
          },
          "metadata": {}
        },
        {
          "output_type": "stream",
          "name": "stdout",
          "text": [
            "Number of outliers After Box Cox: 27\n"
          ]
        }
      ]
    },
    {
      "cell_type": "markdown",
      "source": [
        "No predictors are highly skewed anymore\n",
        "Outliers were drastically reduced to only 24"
      ],
      "metadata": {
        "id": "BpkML27FF8Ws"
      }
    },
    {
      "cell_type": "code",
      "source": [
        "# Compute the correlation matrix\n",
        "correlation_matrix = numeric_data.corr()\n",
        "\n",
        "# Print out highly correlated variables\n",
        "highly_correlated_vars = correlation_matrix[(correlation_matrix > 0.75) & (correlation_matrix < 1.0)]\n",
        "highly_correlated_vars = highly_correlated_vars.dropna(axis=1, how='all').dropna(axis=0, how='all')\n",
        "\n",
        "print(\"Highly correlated variables:\")\n",
        "print(highly_correlated_vars)\n"
      ],
      "metadata": {
        "colab": {
          "base_uri": "https://localhost:8080/"
        },
        "id": "adISDg8vGRLb",
        "outputId": "0b6cd9d0-cdd0-46d9-f4f3-c0075fa07104"
      },
      "execution_count": null,
      "outputs": [
        {
          "output_type": "stream",
          "name": "stdout",
          "text": [
            "Highly correlated variables:\n",
            "            vote_count  popularity\n",
            "vote_count         NaN    0.883102\n",
            "popularity    0.883102         NaN\n"
          ]
        }
      ]
    },
    {
      "cell_type": "markdown",
      "source": [
        "Remove one of these since its almost identical information"
      ],
      "metadata": {
        "id": "C4-AdqDTHdM5"
      }
    },
    {
      "cell_type": "code",
      "source": [
        "numeric_data.drop(columns=['popularity'], inplace=True)"
      ],
      "metadata": {
        "id": "9JRwOAhAHhIy"
      },
      "execution_count": null,
      "outputs": []
    },
    {
      "cell_type": "code",
      "source": [
        "animation_processed[ ['vote_average', 'vote_count', 'runtime', 'budget'] ] = numeric_data[['vote_average', 'vote_count', 'runtime', 'budget']]"
      ],
      "metadata": {
        "id": "gRJm1vo5lrUn"
      },
      "execution_count": null,
      "outputs": []
    },
    {
      "cell_type": "markdown",
      "metadata": {
        "id": "HL_OyEE5e-dN"
      },
      "source": [
        "## Text Preprocessing for BERT"
      ]
    },
    {
      "cell_type": "code",
      "execution_count": null,
      "metadata": {
        "id": "sN7zOpPThEys",
        "colab": {
          "base_uri": "https://localhost:8080/",
          "height": 301,
          "referenced_widgets": [
            "bf7ffb451f0843a5a86bd23481e44156",
            "69003bb755504ff88a25ae6f2e2055c1",
            "c1a03a3d8efb4631954e072a733c877c",
            "7e869f69ac2a4d83ac8de245843a0710",
            "a6b0b01235a34cb7ab020f999997ca80",
            "a51ae7de335245618710f65cf10e0a37",
            "496b51e1286d4ea98a5736bc298cdaba",
            "2d1261cfc85d4621b4f4c0acc3cabfe2",
            "8c75ec15731444729cf39ecedfffbe65",
            "d9a9fc43f77d4ebdbb11086e65c1e1ce",
            "eec8efde20da4f24b24f19032782dc4d",
            "ba3bf67994874310ad15dd10d92c4589",
            "b5622cfad91241538566b5cbd8b82ee8",
            "ef7bca9b28a74a5a8a6f4793ae8fdd5e",
            "87d847e2dfe74269ae1fe319ae497468",
            "f98f8c211ccd4b3cba1f52cb240e26f4",
            "bc9a2af59e424db7860bcb4177c36c59",
            "a3d1fb6911594dd0b84872fae7c172ef",
            "013b6345c03a493f8f9ea832e9fbb4f7",
            "5895c88da6c746f8b0a215e2ac8a5aa1",
            "d61b9fb2cd5e4b4da5a9f72c494961e3",
            "6dd55dc5a33b4b56bd39db97d652bb55",
            "20d6b2d650c04da7b58ea890f05ce82d",
            "53596094c22141ae9a59bde0887fe5ef",
            "641e13142b9741c096173abd179f18c2",
            "8fbd8aec4ae74c16bb5908a6a29408cd",
            "00993cda3a514e4da38988de2dd32a93",
            "4e5d068569be4bf3b51b814b9d8cef51",
            "cdb53ef93b6a4c30985416aa5b8a686f",
            "39ed5ab4e539441684c4ea2aade066af",
            "692c005aa01e43da9ba9233206c78e84",
            "91f8656f2ae14f23975f8c1ab79262da",
            "b77949dc588f4b5797692ada7dde137e",
            "b9d81dfa5cb54c6d9c0fbd46720df6d7",
            "e32dce9df740494fa34f13367c3137fb",
            "bc0e57afc9e0456bb1d4dad69c92c238",
            "84c6aaa26cd44d419c99437a4e836176",
            "93515a315da941efa17f54ac12d55e80",
            "4fe33fd5f88d4053b7c4d1d3b3432573",
            "f047a77654124203944f04cfbf604be7",
            "ebfe1174cecf406481a1278ad715852f",
            "ae2f264145c040acb05c3a3c220a5d6d",
            "75cf346e50a5451dac644cefd322884b",
            "4f0cb31a7ecf4445bce60511eb9c2894",
            "e067b50056ce41c0a7d83c75ad3ae362",
            "518c2dd8a0904b59bfebe68e5b4cd4e6",
            "0b7d1d97b7e742cfb274e454a1670136",
            "ab2caa4baaab4fb6a892156212d65f79",
            "1d259b482fb24caeba11ce211a3c06e0",
            "814d256101f84ca4960f9e1a7a577792",
            "aa28d72b32c247d3828f15922dd61dcd",
            "51d125e593d74a35b034498085bb2b0d",
            "decaabaa5e884c23b39df9c155841f4b",
            "93fa0a0d767f4608aa4a02d60c3cb989",
            "e7e4efa3cbb94a868f5e9302b862a0bb"
          ]
        },
        "outputId": "67e7bd2f-53a6-43e1-b195-03dcd10267d0"
      },
      "outputs": [
        {
          "output_type": "stream",
          "name": "stderr",
          "text": [
            "/usr/local/lib/python3.10/dist-packages/huggingface_hub/utils/_token.py:88: UserWarning: \n",
            "The secret `HF_TOKEN` does not exist in your Colab secrets.\n",
            "To authenticate with the Hugging Face Hub, create a token in your settings tab (https://huggingface.co/settings/tokens), set it as secret in your Google Colab and restart your session.\n",
            "You will be able to reuse this secret in all of your notebooks.\n",
            "Please note that authentication is recommended but still optional to access public models or datasets.\n",
            "  warnings.warn(\n"
          ]
        },
        {
          "output_type": "display_data",
          "data": {
            "text/plain": [
              "tokenizer_config.json:   0%|          | 0.00/49.0 [00:00<?, ?B/s]"
            ],
            "application/vnd.jupyter.widget-view+json": {
              "version_major": 2,
              "version_minor": 0,
              "model_id": "bf7ffb451f0843a5a86bd23481e44156"
            }
          },
          "metadata": {}
        },
        {
          "output_type": "display_data",
          "data": {
            "text/plain": [
              "config.json:   0%|          | 0.00/570 [00:00<?, ?B/s]"
            ],
            "application/vnd.jupyter.widget-view+json": {
              "version_major": 2,
              "version_minor": 0,
              "model_id": "ba3bf67994874310ad15dd10d92c4589"
            }
          },
          "metadata": {}
        },
        {
          "output_type": "display_data",
          "data": {
            "text/plain": [
              "vocab.txt:   0%|          | 0.00/213k [00:00<?, ?B/s]"
            ],
            "application/vnd.jupyter.widget-view+json": {
              "version_major": 2,
              "version_minor": 0,
              "model_id": "20d6b2d650c04da7b58ea890f05ce82d"
            }
          },
          "metadata": {}
        },
        {
          "output_type": "display_data",
          "data": {
            "text/plain": [
              "tokenizer.json:   0%|          | 0.00/436k [00:00<?, ?B/s]"
            ],
            "application/vnd.jupyter.widget-view+json": {
              "version_major": 2,
              "version_minor": 0,
              "model_id": "b9d81dfa5cb54c6d9c0fbd46720df6d7"
            }
          },
          "metadata": {}
        },
        {
          "output_type": "display_data",
          "data": {
            "text/plain": [
              "model.safetensors:   0%|          | 0.00/436M [00:00<?, ?B/s]"
            ],
            "application/vnd.jupyter.widget-view+json": {
              "version_major": 2,
              "version_minor": 0,
              "model_id": "e067b50056ce41c0a7d83c75ad3ae362"
            }
          },
          "metadata": {}
        }
      ],
      "source": [
        "from transformers import AutoTokenizer, BertModel\n",
        "import torch\n",
        "\n",
        "# Load pre-trained BERT model and tokenizer\n",
        "tokenizer = AutoTokenizer.from_pretrained(\"google-bert/bert-base-cased\")\n",
        "model = BertModel.from_pretrained(\"google-bert/bert-base-cased\")\n",
        "\n",
        "# Adjust batch size and sequence length\n",
        "batch_size = 8\n",
        "max_seq_length = 512\n",
        "\n",
        "# Tokenize and process in batches\n",
        "num_samples = len(animation_processed['overview'])\n",
        "overview_embeddings = []\n",
        "\n",
        "for i in range(0, num_samples, batch_size):\n",
        "    batch_overviews = animation_processed['overview'][i:i+batch_size].tolist()\n",
        "    tokenized_overviews = tokenizer(batch_overviews, max_length=max_seq_length, truncation=True, padding=True, return_tensors=\"pt\")\n",
        "\n",
        "    input_ids_batch = tokenized_overviews['input_ids']\n",
        "    attention_mask_batch = tokenized_overviews['attention_mask']\n",
        "\n",
        "    with torch.no_grad():\n",
        "        outputs = model(input_ids_batch, attention_mask=attention_mask_batch)\n",
        "\n",
        "    # Extract BERT embeddings\n",
        "    bert_embeddings = outputs.last_hidden_state\n",
        "\n",
        "    # Compute mean over sequence length dimension\n",
        "    overview_embeddings_batch = torch.mean(bert_embeddings, dim=1)\n",
        "\n",
        "    # Append to list\n",
        "    overview_embeddings.append(overview_embeddings_batch)\n",
        "\n",
        "# Concatenate embeddings from all batches\n",
        "overview_embeddings = torch.cat(overview_embeddings, dim=0)\n",
        "\n",
        "# Update animation_processed with embeddings\n",
        "animation_processed['overview'] = overview_embeddings.numpy()\n"
      ]
    },
    {
      "cell_type": "markdown",
      "metadata": {
        "id": "OHaLEr1Yy5Rv"
      },
      "source": [
        "## Split the Data"
      ]
    },
    {
      "cell_type": "code",
      "execution_count": null,
      "metadata": {
        "id": "5Pd8lCpvy4xQ"
      },
      "outputs": [],
      "source": [
        "from sklearn.preprocessing import StandardScaler\n",
        "from sklearn.model_selection import train_test_split\n",
        "\n",
        "\n",
        "# Extract relevant features for prediction\n",
        "X = animation_processed[['vote_average', 'vote_count', 'runtime', 'overview', 'release_month', 'release_year',\n",
        "                         'release_day_of_week', 'release_season', 'budget']]\n",
        "y = animation_processed['revenue']\n",
        "\n",
        "# Split data into train and test sets\n",
        "X_train, X_test, y_train, y_test = train_test_split(X, y, test_size=0.2, random_state=42)\n",
        "\n",
        "# Scale the features\n",
        "scaler = StandardScaler()\n",
        "X_train_scaled = scaler.fit_transform(X_train)\n",
        "X_test_scaled = scaler.transform(X_test)\n",
        "# Scale the target variable\n",
        "y_scaler = StandardScaler()\n",
        "y_train_scaled = y_scaler.fit_transform(y_train.values.reshape(-1, 1)).flatten()\n",
        "y_test_scaled = y_scaler.transform(y_test.values.reshape(-1, 1)).flatten()\n"
      ]
    },
    {
      "cell_type": "code",
      "source": [
        "X_train"
      ],
      "metadata": {
        "colab": {
          "base_uri": "https://localhost:8080/",
          "height": 423
        },
        "id": "c6IbDwO0flR6",
        "outputId": "7ea1e11c-ea26-4e1d-c194-599ccc4ec93e"
      },
      "execution_count": null,
      "outputs": [
        {
          "output_type": "execute_result",
          "data": {
            "text/plain": [
              "       vote_average  vote_count     runtime  overview  release_month  \\\n",
              "458       55.528205    8.394077  320.572496 -0.006654              3   \n",
              "4443      38.399508    3.273604  588.495303 -0.131877              7   \n",
              "14659     63.997865    1.142439  462.458151 -0.186697              6   \n",
              "340       42.971855    9.012470  999.495346  0.041408             12   \n",
              "23475      0.000000    0.000000    1.239653 -0.085917              7   \n",
              "...             ...         ...         ...       ...            ...   \n",
              "575       39.933712    7.854225  524.146554  0.027997              4   \n",
              "230       36.302550    9.945037  524.146554  0.044839              4   \n",
              "624       47.499497    7.652578  644.086182  0.112741              9   \n",
              "17        60.668574   13.606942  833.443133  0.047799              6   \n",
              "6142      48.887327    2.613318   12.375210  0.002729              8   \n",
              "\n",
              "       release_year  release_day_of_week  release_season     budget  \n",
              "458            1995                    5               2   0.000000  \n",
              "4443           2018                    5               3   0.000000  \n",
              "14659          2021                    4               3   0.000000  \n",
              "340            2018                    4               1  19.847091  \n",
              "23475          2019                    0               3   4.534883  \n",
              "...             ...                  ...             ...        ...  \n",
              "575            1992                    4               2  19.226493  \n",
              "230            2004                    4               2  21.186987  \n",
              "624            2019                    3               4   0.000000  \n",
              "17             2010                    2               3  21.968546  \n",
              "6142           1991                    2               3   0.000000  \n",
              "\n",
              "[817 rows x 9 columns]"
            ],
            "text/html": [
              "\n",
              "  <div id=\"df-6f761190-42f5-4843-b640-b78a38c6934a\" class=\"colab-df-container\">\n",
              "    <div>\n",
              "<style scoped>\n",
              "    .dataframe tbody tr th:only-of-type {\n",
              "        vertical-align: middle;\n",
              "    }\n",
              "\n",
              "    .dataframe tbody tr th {\n",
              "        vertical-align: top;\n",
              "    }\n",
              "\n",
              "    .dataframe thead th {\n",
              "        text-align: right;\n",
              "    }\n",
              "</style>\n",
              "<table border=\"1\" class=\"dataframe\">\n",
              "  <thead>\n",
              "    <tr style=\"text-align: right;\">\n",
              "      <th></th>\n",
              "      <th>vote_average</th>\n",
              "      <th>vote_count</th>\n",
              "      <th>runtime</th>\n",
              "      <th>overview</th>\n",
              "      <th>release_month</th>\n",
              "      <th>release_year</th>\n",
              "      <th>release_day_of_week</th>\n",
              "      <th>release_season</th>\n",
              "      <th>budget</th>\n",
              "    </tr>\n",
              "  </thead>\n",
              "  <tbody>\n",
              "    <tr>\n",
              "      <th>458</th>\n",
              "      <td>55.528205</td>\n",
              "      <td>8.394077</td>\n",
              "      <td>320.572496</td>\n",
              "      <td>-0.006654</td>\n",
              "      <td>3</td>\n",
              "      <td>1995</td>\n",
              "      <td>5</td>\n",
              "      <td>2</td>\n",
              "      <td>0.000000</td>\n",
              "    </tr>\n",
              "    <tr>\n",
              "      <th>4443</th>\n",
              "      <td>38.399508</td>\n",
              "      <td>3.273604</td>\n",
              "      <td>588.495303</td>\n",
              "      <td>-0.131877</td>\n",
              "      <td>7</td>\n",
              "      <td>2018</td>\n",
              "      <td>5</td>\n",
              "      <td>3</td>\n",
              "      <td>0.000000</td>\n",
              "    </tr>\n",
              "    <tr>\n",
              "      <th>14659</th>\n",
              "      <td>63.997865</td>\n",
              "      <td>1.142439</td>\n",
              "      <td>462.458151</td>\n",
              "      <td>-0.186697</td>\n",
              "      <td>6</td>\n",
              "      <td>2021</td>\n",
              "      <td>4</td>\n",
              "      <td>3</td>\n",
              "      <td>0.000000</td>\n",
              "    </tr>\n",
              "    <tr>\n",
              "      <th>340</th>\n",
              "      <td>42.971855</td>\n",
              "      <td>9.012470</td>\n",
              "      <td>999.495346</td>\n",
              "      <td>0.041408</td>\n",
              "      <td>12</td>\n",
              "      <td>2018</td>\n",
              "      <td>4</td>\n",
              "      <td>1</td>\n",
              "      <td>19.847091</td>\n",
              "    </tr>\n",
              "    <tr>\n",
              "      <th>23475</th>\n",
              "      <td>0.000000</td>\n",
              "      <td>0.000000</td>\n",
              "      <td>1.239653</td>\n",
              "      <td>-0.085917</td>\n",
              "      <td>7</td>\n",
              "      <td>2019</td>\n",
              "      <td>0</td>\n",
              "      <td>3</td>\n",
              "      <td>4.534883</td>\n",
              "    </tr>\n",
              "    <tr>\n",
              "      <th>...</th>\n",
              "      <td>...</td>\n",
              "      <td>...</td>\n",
              "      <td>...</td>\n",
              "      <td>...</td>\n",
              "      <td>...</td>\n",
              "      <td>...</td>\n",
              "      <td>...</td>\n",
              "      <td>...</td>\n",
              "      <td>...</td>\n",
              "    </tr>\n",
              "    <tr>\n",
              "      <th>575</th>\n",
              "      <td>39.933712</td>\n",
              "      <td>7.854225</td>\n",
              "      <td>524.146554</td>\n",
              "      <td>0.027997</td>\n",
              "      <td>4</td>\n",
              "      <td>1992</td>\n",
              "      <td>4</td>\n",
              "      <td>2</td>\n",
              "      <td>19.226493</td>\n",
              "    </tr>\n",
              "    <tr>\n",
              "      <th>230</th>\n",
              "      <td>36.302550</td>\n",
              "      <td>9.945037</td>\n",
              "      <td>524.146554</td>\n",
              "      <td>0.044839</td>\n",
              "      <td>4</td>\n",
              "      <td>2004</td>\n",
              "      <td>4</td>\n",
              "      <td>2</td>\n",
              "      <td>21.186987</td>\n",
              "    </tr>\n",
              "    <tr>\n",
              "      <th>624</th>\n",
              "      <td>47.499497</td>\n",
              "      <td>7.652578</td>\n",
              "      <td>644.086182</td>\n",
              "      <td>0.112741</td>\n",
              "      <td>9</td>\n",
              "      <td>2019</td>\n",
              "      <td>3</td>\n",
              "      <td>4</td>\n",
              "      <td>0.000000</td>\n",
              "    </tr>\n",
              "    <tr>\n",
              "      <th>17</th>\n",
              "      <td>60.668574</td>\n",
              "      <td>13.606942</td>\n",
              "      <td>833.443133</td>\n",
              "      <td>0.047799</td>\n",
              "      <td>6</td>\n",
              "      <td>2010</td>\n",
              "      <td>2</td>\n",
              "      <td>3</td>\n",
              "      <td>21.968546</td>\n",
              "    </tr>\n",
              "    <tr>\n",
              "      <th>6142</th>\n",
              "      <td>48.887327</td>\n",
              "      <td>2.613318</td>\n",
              "      <td>12.375210</td>\n",
              "      <td>0.002729</td>\n",
              "      <td>8</td>\n",
              "      <td>1991</td>\n",
              "      <td>2</td>\n",
              "      <td>3</td>\n",
              "      <td>0.000000</td>\n",
              "    </tr>\n",
              "  </tbody>\n",
              "</table>\n",
              "<p>817 rows × 9 columns</p>\n",
              "</div>\n",
              "    <div class=\"colab-df-buttons\">\n",
              "\n",
              "  <div class=\"colab-df-container\">\n",
              "    <button class=\"colab-df-convert\" onclick=\"convertToInteractive('df-6f761190-42f5-4843-b640-b78a38c6934a')\"\n",
              "            title=\"Convert this dataframe to an interactive table.\"\n",
              "            style=\"display:none;\">\n",
              "\n",
              "  <svg xmlns=\"http://www.w3.org/2000/svg\" height=\"24px\" viewBox=\"0 -960 960 960\">\n",
              "    <path d=\"M120-120v-720h720v720H120Zm60-500h600v-160H180v160Zm220 220h160v-160H400v160Zm0 220h160v-160H400v160ZM180-400h160v-160H180v160Zm440 0h160v-160H620v160ZM180-180h160v-160H180v160Zm440 0h160v-160H620v160Z\"/>\n",
              "  </svg>\n",
              "    </button>\n",
              "\n",
              "  <style>\n",
              "    .colab-df-container {\n",
              "      display:flex;\n",
              "      gap: 12px;\n",
              "    }\n",
              "\n",
              "    .colab-df-convert {\n",
              "      background-color: #E8F0FE;\n",
              "      border: none;\n",
              "      border-radius: 50%;\n",
              "      cursor: pointer;\n",
              "      display: none;\n",
              "      fill: #1967D2;\n",
              "      height: 32px;\n",
              "      padding: 0 0 0 0;\n",
              "      width: 32px;\n",
              "    }\n",
              "\n",
              "    .colab-df-convert:hover {\n",
              "      background-color: #E2EBFA;\n",
              "      box-shadow: 0px 1px 2px rgba(60, 64, 67, 0.3), 0px 1px 3px 1px rgba(60, 64, 67, 0.15);\n",
              "      fill: #174EA6;\n",
              "    }\n",
              "\n",
              "    .colab-df-buttons div {\n",
              "      margin-bottom: 4px;\n",
              "    }\n",
              "\n",
              "    [theme=dark] .colab-df-convert {\n",
              "      background-color: #3B4455;\n",
              "      fill: #D2E3FC;\n",
              "    }\n",
              "\n",
              "    [theme=dark] .colab-df-convert:hover {\n",
              "      background-color: #434B5C;\n",
              "      box-shadow: 0px 1px 3px 1px rgba(0, 0, 0, 0.15);\n",
              "      filter: drop-shadow(0px 1px 2px rgba(0, 0, 0, 0.3));\n",
              "      fill: #FFFFFF;\n",
              "    }\n",
              "  </style>\n",
              "\n",
              "    <script>\n",
              "      const buttonEl =\n",
              "        document.querySelector('#df-6f761190-42f5-4843-b640-b78a38c6934a button.colab-df-convert');\n",
              "      buttonEl.style.display =\n",
              "        google.colab.kernel.accessAllowed ? 'block' : 'none';\n",
              "\n",
              "      async function convertToInteractive(key) {\n",
              "        const element = document.querySelector('#df-6f761190-42f5-4843-b640-b78a38c6934a');\n",
              "        const dataTable =\n",
              "          await google.colab.kernel.invokeFunction('convertToInteractive',\n",
              "                                                    [key], {});\n",
              "        if (!dataTable) return;\n",
              "\n",
              "        const docLinkHtml = 'Like what you see? Visit the ' +\n",
              "          '<a target=\"_blank\" href=https://colab.research.google.com/notebooks/data_table.ipynb>data table notebook</a>'\n",
              "          + ' to learn more about interactive tables.';\n",
              "        element.innerHTML = '';\n",
              "        dataTable['output_type'] = 'display_data';\n",
              "        await google.colab.output.renderOutput(dataTable, element);\n",
              "        const docLink = document.createElement('div');\n",
              "        docLink.innerHTML = docLinkHtml;\n",
              "        element.appendChild(docLink);\n",
              "      }\n",
              "    </script>\n",
              "  </div>\n",
              "\n",
              "\n",
              "<div id=\"df-9feb9a24-81b5-45bf-95fb-c9388177849a\">\n",
              "  <button class=\"colab-df-quickchart\" onclick=\"quickchart('df-9feb9a24-81b5-45bf-95fb-c9388177849a')\"\n",
              "            title=\"Suggest charts\"\n",
              "            style=\"display:none;\">\n",
              "\n",
              "<svg xmlns=\"http://www.w3.org/2000/svg\" height=\"24px\"viewBox=\"0 0 24 24\"\n",
              "     width=\"24px\">\n",
              "    <g>\n",
              "        <path d=\"M19 3H5c-1.1 0-2 .9-2 2v14c0 1.1.9 2 2 2h14c1.1 0 2-.9 2-2V5c0-1.1-.9-2-2-2zM9 17H7v-7h2v7zm4 0h-2V7h2v10zm4 0h-2v-4h2v4z\"/>\n",
              "    </g>\n",
              "</svg>\n",
              "  </button>\n",
              "\n",
              "<style>\n",
              "  .colab-df-quickchart {\n",
              "      --bg-color: #E8F0FE;\n",
              "      --fill-color: #1967D2;\n",
              "      --hover-bg-color: #E2EBFA;\n",
              "      --hover-fill-color: #174EA6;\n",
              "      --disabled-fill-color: #AAA;\n",
              "      --disabled-bg-color: #DDD;\n",
              "  }\n",
              "\n",
              "  [theme=dark] .colab-df-quickchart {\n",
              "      --bg-color: #3B4455;\n",
              "      --fill-color: #D2E3FC;\n",
              "      --hover-bg-color: #434B5C;\n",
              "      --hover-fill-color: #FFFFFF;\n",
              "      --disabled-bg-color: #3B4455;\n",
              "      --disabled-fill-color: #666;\n",
              "  }\n",
              "\n",
              "  .colab-df-quickchart {\n",
              "    background-color: var(--bg-color);\n",
              "    border: none;\n",
              "    border-radius: 50%;\n",
              "    cursor: pointer;\n",
              "    display: none;\n",
              "    fill: var(--fill-color);\n",
              "    height: 32px;\n",
              "    padding: 0;\n",
              "    width: 32px;\n",
              "  }\n",
              "\n",
              "  .colab-df-quickchart:hover {\n",
              "    background-color: var(--hover-bg-color);\n",
              "    box-shadow: 0 1px 2px rgba(60, 64, 67, 0.3), 0 1px 3px 1px rgba(60, 64, 67, 0.15);\n",
              "    fill: var(--button-hover-fill-color);\n",
              "  }\n",
              "\n",
              "  .colab-df-quickchart-complete:disabled,\n",
              "  .colab-df-quickchart-complete:disabled:hover {\n",
              "    background-color: var(--disabled-bg-color);\n",
              "    fill: var(--disabled-fill-color);\n",
              "    box-shadow: none;\n",
              "  }\n",
              "\n",
              "  .colab-df-spinner {\n",
              "    border: 2px solid var(--fill-color);\n",
              "    border-color: transparent;\n",
              "    border-bottom-color: var(--fill-color);\n",
              "    animation:\n",
              "      spin 1s steps(1) infinite;\n",
              "  }\n",
              "\n",
              "  @keyframes spin {\n",
              "    0% {\n",
              "      border-color: transparent;\n",
              "      border-bottom-color: var(--fill-color);\n",
              "      border-left-color: var(--fill-color);\n",
              "    }\n",
              "    20% {\n",
              "      border-color: transparent;\n",
              "      border-left-color: var(--fill-color);\n",
              "      border-top-color: var(--fill-color);\n",
              "    }\n",
              "    30% {\n",
              "      border-color: transparent;\n",
              "      border-left-color: var(--fill-color);\n",
              "      border-top-color: var(--fill-color);\n",
              "      border-right-color: var(--fill-color);\n",
              "    }\n",
              "    40% {\n",
              "      border-color: transparent;\n",
              "      border-right-color: var(--fill-color);\n",
              "      border-top-color: var(--fill-color);\n",
              "    }\n",
              "    60% {\n",
              "      border-color: transparent;\n",
              "      border-right-color: var(--fill-color);\n",
              "    }\n",
              "    80% {\n",
              "      border-color: transparent;\n",
              "      border-right-color: var(--fill-color);\n",
              "      border-bottom-color: var(--fill-color);\n",
              "    }\n",
              "    90% {\n",
              "      border-color: transparent;\n",
              "      border-bottom-color: var(--fill-color);\n",
              "    }\n",
              "  }\n",
              "</style>\n",
              "\n",
              "  <script>\n",
              "    async function quickchart(key) {\n",
              "      const quickchartButtonEl =\n",
              "        document.querySelector('#' + key + ' button');\n",
              "      quickchartButtonEl.disabled = true;  // To prevent multiple clicks.\n",
              "      quickchartButtonEl.classList.add('colab-df-spinner');\n",
              "      try {\n",
              "        const charts = await google.colab.kernel.invokeFunction(\n",
              "            'suggestCharts', [key], {});\n",
              "      } catch (error) {\n",
              "        console.error('Error during call to suggestCharts:', error);\n",
              "      }\n",
              "      quickchartButtonEl.classList.remove('colab-df-spinner');\n",
              "      quickchartButtonEl.classList.add('colab-df-quickchart-complete');\n",
              "    }\n",
              "    (() => {\n",
              "      let quickchartButtonEl =\n",
              "        document.querySelector('#df-9feb9a24-81b5-45bf-95fb-c9388177849a button');\n",
              "      quickchartButtonEl.style.display =\n",
              "        google.colab.kernel.accessAllowed ? 'block' : 'none';\n",
              "    })();\n",
              "  </script>\n",
              "</div>\n",
              "    </div>\n",
              "  </div>\n"
            ],
            "application/vnd.google.colaboratory.intrinsic+json": {
              "type": "dataframe",
              "variable_name": "X_train",
              "summary": "{\n  \"name\": \"X_train\",\n  \"rows\": 817,\n  \"fields\": [\n    {\n      \"column\": \"vote_average\",\n      \"properties\": {\n        \"dtype\": \"number\",\n        \"std\": 19.158950121855327,\n        \"min\": 0.0,\n        \"max\": 101.15316049625186,\n        \"num_unique_values\": 531,\n        \"samples\": [\n          48.80343183237546,\n          44.79009383665348,\n          52.774680319382924\n        ],\n        \"semantic_type\": \"\",\n        \"description\": \"\"\n      }\n    },\n    {\n      \"column\": \"vote_count\",\n      \"properties\": {\n        \"dtype\": \"number\",\n        \"std\": 3.8651797046024035,\n        \"min\": 0.0,\n        \"max\": 14.293414581915313,\n        \"num_unique_values\": 537,\n        \"samples\": [\n          8.338369744935024,\n          6.7493703051951375,\n          9.79651111155757\n        ],\n        \"semantic_type\": \"\",\n        \"description\": \"\"\n      }\n    },\n    {\n      \"column\": \"runtime\",\n      \"properties\": {\n        \"dtype\": \"number\",\n        \"std\": 274.94534772516346,\n        \"min\": 0.0,\n        \"max\": 1557.6419362838124,\n        \"num_unique_values\": 117,\n        \"samples\": [\n          18.53718240191257,\n          1.2396532327975982,\n          1106.839705338851\n        ],\n        \"semantic_type\": \"\",\n        \"description\": \"\"\n      }\n    },\n    {\n      \"column\": \"overview\",\n      \"properties\": {\n        \"dtype\": \"float32\",\n        \"num_unique_values\": 817,\n        \"samples\": [\n          -0.046648021787405014,\n          -0.34061217308044434,\n          0.040667369961738586\n        ],\n        \"semantic_type\": \"\",\n        \"description\": \"\"\n      }\n    },\n    {\n      \"column\": \"release_month\",\n      \"properties\": {\n        \"dtype\": \"int32\",\n        \"num_unique_values\": 12,\n        \"samples\": [\n          1,\n          8,\n          3\n        ],\n        \"semantic_type\": \"\",\n        \"description\": \"\"\n      }\n    },\n    {\n      \"column\": \"release_year\",\n      \"properties\": {\n        \"dtype\": \"int32\",\n        \"num_unique_values\": 68,\n        \"samples\": [\n          1979,\n          1998,\n          2003\n        ],\n        \"semantic_type\": \"\",\n        \"description\": \"\"\n      }\n    },\n    {\n      \"column\": \"release_day_of_week\",\n      \"properties\": {\n        \"dtype\": \"int32\",\n        \"num_unique_values\": 7,\n        \"samples\": [\n          5,\n          4,\n          6\n        ],\n        \"semantic_type\": \"\",\n        \"description\": \"\"\n      }\n    },\n    {\n      \"column\": \"release_season\",\n      \"properties\": {\n        \"dtype\": \"int32\",\n        \"num_unique_values\": 4,\n        \"samples\": [\n          3,\n          4,\n          2\n        ],\n        \"semantic_type\": \"\",\n        \"description\": \"\"\n      }\n    },\n    {\n      \"column\": \"budget\",\n      \"properties\": {\n        \"dtype\": \"number\",\n        \"std\": 9.27351484835297,\n        \"min\": 0.0,\n        \"max\": 21.968546101047025,\n        \"num_unique_values\": 220,\n        \"samples\": [\n          21.394633262700157,\n          15.619848373155856,\n          12.022388670909002\n        ],\n        \"semantic_type\": \"\",\n        \"description\": \"\"\n      }\n    }\n  ]\n}"
            }
          },
          "metadata": {},
          "execution_count": 32
        }
      ]
    },
    {
      "cell_type": "markdown",
      "metadata": {
        "id": "4N37jwuLsfzV"
      },
      "source": [
        "## Train Models"
      ]
    },
    {
      "cell_type": "code",
      "execution_count": null,
      "metadata": {
        "id": "-4ijhrKKaVgq"
      },
      "outputs": [],
      "source": [
        "from sklearn.model_selection import GridSearchCV, KFold\n",
        "from sklearn.metrics import mean_absolute_error, mean_squared_error, r2_score\n",
        "\n",
        "def train_model(model, grid, x, y):\n",
        "    cv = KFold(n_splits=10, shuffle=True, random_state=1)\n",
        "    scoring = {'MAE': 'neg_mean_absolute_error',\n",
        "               'MSE': 'neg_mean_squared_error',\n",
        "               'R2': 'r2'}\n",
        "    grid_search = GridSearchCV(estimator=model, param_grid=grid,\n",
        "                               n_jobs=-1, cv=cv, scoring=scoring,\n",
        "                               refit='R2', error_score=0)\n",
        "    grid_result = grid_search.fit(x, y)\n",
        "    best_model = grid_result.best_estimator_\n",
        "    best_params = grid_result.best_params_\n",
        "\n",
        "    # Training the best model using the entire dataset\n",
        "    best_model.fit(x, y)\n",
        "\n",
        "    # Predicting on the same dataset to compute training metrics\n",
        "    y_pred = best_model.predict(x)\n",
        "\n",
        "    n = len(y)  # Number of observations\n",
        "    p = x.shape[1]  # Number of features\n",
        "    r2 = r2_score(y, y_pred)\n",
        "    adjusted_r2 = 1 - (1 - r2) * (n - 1) / (n - p - 1)\n",
        "\n",
        "    # Printing training metrics\n",
        "    print(\"Training Metrics:\")\n",
        "    print(\"-----------------\")\n",
        "    print(\"Best R-squared on training data: %f using the following parameters: %s\" % (r2_score(y, y_pred), best_params))\n",
        "    print(\"Best Adjusted R-squared on training data: %f\" % adjusted_r2)\n",
        "    print(\"Mean Absolute Error on training data: %f\" % mean_absolute_error(y, y_pred))\n",
        "    print(\"Mean Squared Error on training data: %f\" % mean_squared_error(y, y_pred))\n",
        "\n",
        "    # Additional information: printing cross-validation results\n",
        "    print(\"\\nCross-Validation Metrics:\")\n",
        "    print(\"-------------------------\")\n",
        "    means = grid_result.cv_results_['mean_test_R2']\n",
        "    stds = grid_result.cv_results_['std_test_R2']\n",
        "    params = grid_result.cv_results_['params']\n",
        "    for mean, stdev, param in zip(means, stds, params):\n",
        "        print(\"R-squared: %f (%f) with parameters: %s\" % (mean, stdev, param))\n",
        "    return best_model\n",
        "# Example usage:\n",
        "# train_model(your_model, your_grid, your_X, your_y)\n"
      ]
    },
    {
      "cell_type": "code",
      "execution_count": null,
      "metadata": {
        "colab": {
          "base_uri": "https://localhost:8080/",
          "height": 303
        },
        "id": "2mj0HDmQfdXM",
        "outputId": "d88014bb-ac85-4dbf-d898-fe6f38488ec0"
      },
      "outputs": [
        {
          "output_type": "stream",
          "name": "stderr",
          "text": [
            "/usr/local/lib/python3.10/dist-packages/joblib/externals/loky/backend/fork_exec.py:38: RuntimeWarning: os.fork() was called. os.fork() is incompatible with multithreaded code, and JAX is multithreaded, so this will likely lead to a deadlock.\n",
            "  pid = os.fork()\n"
          ]
        },
        {
          "output_type": "stream",
          "name": "stdout",
          "text": [
            "Training Metrics:\n",
            "-----------------\n",
            "Best R-squared on training data: 0.418999 using the following parameters: {}\n",
            "Best Adjusted R-squared on training data: 0.412520\n",
            "Mean Absolute Error on training data: 0.495966\n",
            "Mean Squared Error on training data: 0.581001\n",
            "\n",
            "Cross-Validation Metrics:\n",
            "-------------------------\n",
            "R-squared: 0.382582 (0.082466) with parameters: {}\n"
          ]
        },
        {
          "output_type": "execute_result",
          "data": {
            "text/plain": [
              "LinearRegression()"
            ],
            "text/html": [
              "<style>#sk-container-id-1 {color: black;background-color: white;}#sk-container-id-1 pre{padding: 0;}#sk-container-id-1 div.sk-toggleable {background-color: white;}#sk-container-id-1 label.sk-toggleable__label {cursor: pointer;display: block;width: 100%;margin-bottom: 0;padding: 0.3em;box-sizing: border-box;text-align: center;}#sk-container-id-1 label.sk-toggleable__label-arrow:before {content: \"▸\";float: left;margin-right: 0.25em;color: #696969;}#sk-container-id-1 label.sk-toggleable__label-arrow:hover:before {color: black;}#sk-container-id-1 div.sk-estimator:hover label.sk-toggleable__label-arrow:before {color: black;}#sk-container-id-1 div.sk-toggleable__content {max-height: 0;max-width: 0;overflow: hidden;text-align: left;background-color: #f0f8ff;}#sk-container-id-1 div.sk-toggleable__content pre {margin: 0.2em;color: black;border-radius: 0.25em;background-color: #f0f8ff;}#sk-container-id-1 input.sk-toggleable__control:checked~div.sk-toggleable__content {max-height: 200px;max-width: 100%;overflow: auto;}#sk-container-id-1 input.sk-toggleable__control:checked~label.sk-toggleable__label-arrow:before {content: \"▾\";}#sk-container-id-1 div.sk-estimator input.sk-toggleable__control:checked~label.sk-toggleable__label {background-color: #d4ebff;}#sk-container-id-1 div.sk-label input.sk-toggleable__control:checked~label.sk-toggleable__label {background-color: #d4ebff;}#sk-container-id-1 input.sk-hidden--visually {border: 0;clip: rect(1px 1px 1px 1px);clip: rect(1px, 1px, 1px, 1px);height: 1px;margin: -1px;overflow: hidden;padding: 0;position: absolute;width: 1px;}#sk-container-id-1 div.sk-estimator {font-family: monospace;background-color: #f0f8ff;border: 1px dotted black;border-radius: 0.25em;box-sizing: border-box;margin-bottom: 0.5em;}#sk-container-id-1 div.sk-estimator:hover {background-color: #d4ebff;}#sk-container-id-1 div.sk-parallel-item::after {content: \"\";width: 100%;border-bottom: 1px solid gray;flex-grow: 1;}#sk-container-id-1 div.sk-label:hover label.sk-toggleable__label {background-color: #d4ebff;}#sk-container-id-1 div.sk-serial::before {content: \"\";position: absolute;border-left: 1px solid gray;box-sizing: border-box;top: 0;bottom: 0;left: 50%;z-index: 0;}#sk-container-id-1 div.sk-serial {display: flex;flex-direction: column;align-items: center;background-color: white;padding-right: 0.2em;padding-left: 0.2em;position: relative;}#sk-container-id-1 div.sk-item {position: relative;z-index: 1;}#sk-container-id-1 div.sk-parallel {display: flex;align-items: stretch;justify-content: center;background-color: white;position: relative;}#sk-container-id-1 div.sk-item::before, #sk-container-id-1 div.sk-parallel-item::before {content: \"\";position: absolute;border-left: 1px solid gray;box-sizing: border-box;top: 0;bottom: 0;left: 50%;z-index: -1;}#sk-container-id-1 div.sk-parallel-item {display: flex;flex-direction: column;z-index: 1;position: relative;background-color: white;}#sk-container-id-1 div.sk-parallel-item:first-child::after {align-self: flex-end;width: 50%;}#sk-container-id-1 div.sk-parallel-item:last-child::after {align-self: flex-start;width: 50%;}#sk-container-id-1 div.sk-parallel-item:only-child::after {width: 0;}#sk-container-id-1 div.sk-dashed-wrapped {border: 1px dashed gray;margin: 0 0.4em 0.5em 0.4em;box-sizing: border-box;padding-bottom: 0.4em;background-color: white;}#sk-container-id-1 div.sk-label label {font-family: monospace;font-weight: bold;display: inline-block;line-height: 1.2em;}#sk-container-id-1 div.sk-label-container {text-align: center;}#sk-container-id-1 div.sk-container {/* jupyter's `normalize.less` sets `[hidden] { display: none; }` but bootstrap.min.css set `[hidden] { display: none !important; }` so we also need the `!important` here to be able to override the default hidden behavior on the sphinx rendered scikit-learn.org. See: https://github.com/scikit-learn/scikit-learn/issues/21755 */display: inline-block !important;position: relative;}#sk-container-id-1 div.sk-text-repr-fallback {display: none;}</style><div id=\"sk-container-id-1\" class=\"sk-top-container\"><div class=\"sk-text-repr-fallback\"><pre>LinearRegression()</pre><b>In a Jupyter environment, please rerun this cell to show the HTML representation or trust the notebook. <br />On GitHub, the HTML representation is unable to render, please try loading this page with nbviewer.org.</b></div><div class=\"sk-container\" hidden><div class=\"sk-item\"><div class=\"sk-estimator sk-toggleable\"><input class=\"sk-toggleable__control sk-hidden--visually\" id=\"sk-estimator-id-1\" type=\"checkbox\" checked><label for=\"sk-estimator-id-1\" class=\"sk-toggleable__label sk-toggleable__label-arrow\">LinearRegression</label><div class=\"sk-toggleable__content\"><pre>LinearRegression()</pre></div></div></div></div></div>"
            ]
          },
          "metadata": {},
          "execution_count": 34
        }
      ],
      "source": [
        "#Linear Regression\n",
        "from sklearn.linear_model import LinearRegression\n",
        "from sklearn.model_selection import GridSearchCV\n",
        "model = LinearRegression()\n",
        "grid = {}\n",
        "train_model(model, grid, X_train_scaled, y_train_scaled)"
      ]
    },
    {
      "cell_type": "code",
      "execution_count": null,
      "metadata": {
        "colab": {
          "base_uri": "https://localhost:8080/",
          "height": 248
        },
        "id": "Pl7ji_hQqm9T",
        "outputId": "4b4dc88f-ac13-4b95-9221-2283854181bb"
      },
      "outputs": [
        {
          "output_type": "stream",
          "name": "stdout",
          "text": [
            "Training Metrics:\n",
            "-----------------\n",
            "Best R-squared on training data: 0.691751 using the following parameters: {}\n",
            "Best Adjusted R-squared on training data: 0.688314\n",
            "Mean Absolute Error on training data: 0.235629\n",
            "Mean Squared Error on training data: 0.308249\n",
            "\n",
            "Cross-Validation Metrics:\n",
            "-------------------------\n",
            "R-squared: 0.622957 (0.075789) with parameters: {}\n"
          ]
        },
        {
          "output_type": "execute_result",
          "data": {
            "text/plain": [
              "SVR()"
            ],
            "text/html": [
              "<style>#sk-container-id-2 {color: black;background-color: white;}#sk-container-id-2 pre{padding: 0;}#sk-container-id-2 div.sk-toggleable {background-color: white;}#sk-container-id-2 label.sk-toggleable__label {cursor: pointer;display: block;width: 100%;margin-bottom: 0;padding: 0.3em;box-sizing: border-box;text-align: center;}#sk-container-id-2 label.sk-toggleable__label-arrow:before {content: \"▸\";float: left;margin-right: 0.25em;color: #696969;}#sk-container-id-2 label.sk-toggleable__label-arrow:hover:before {color: black;}#sk-container-id-2 div.sk-estimator:hover label.sk-toggleable__label-arrow:before {color: black;}#sk-container-id-2 div.sk-toggleable__content {max-height: 0;max-width: 0;overflow: hidden;text-align: left;background-color: #f0f8ff;}#sk-container-id-2 div.sk-toggleable__content pre {margin: 0.2em;color: black;border-radius: 0.25em;background-color: #f0f8ff;}#sk-container-id-2 input.sk-toggleable__control:checked~div.sk-toggleable__content {max-height: 200px;max-width: 100%;overflow: auto;}#sk-container-id-2 input.sk-toggleable__control:checked~label.sk-toggleable__label-arrow:before {content: \"▾\";}#sk-container-id-2 div.sk-estimator input.sk-toggleable__control:checked~label.sk-toggleable__label {background-color: #d4ebff;}#sk-container-id-2 div.sk-label input.sk-toggleable__control:checked~label.sk-toggleable__label {background-color: #d4ebff;}#sk-container-id-2 input.sk-hidden--visually {border: 0;clip: rect(1px 1px 1px 1px);clip: rect(1px, 1px, 1px, 1px);height: 1px;margin: -1px;overflow: hidden;padding: 0;position: absolute;width: 1px;}#sk-container-id-2 div.sk-estimator {font-family: monospace;background-color: #f0f8ff;border: 1px dotted black;border-radius: 0.25em;box-sizing: border-box;margin-bottom: 0.5em;}#sk-container-id-2 div.sk-estimator:hover {background-color: #d4ebff;}#sk-container-id-2 div.sk-parallel-item::after {content: \"\";width: 100%;border-bottom: 1px solid gray;flex-grow: 1;}#sk-container-id-2 div.sk-label:hover label.sk-toggleable__label {background-color: #d4ebff;}#sk-container-id-2 div.sk-serial::before {content: \"\";position: absolute;border-left: 1px solid gray;box-sizing: border-box;top: 0;bottom: 0;left: 50%;z-index: 0;}#sk-container-id-2 div.sk-serial {display: flex;flex-direction: column;align-items: center;background-color: white;padding-right: 0.2em;padding-left: 0.2em;position: relative;}#sk-container-id-2 div.sk-item {position: relative;z-index: 1;}#sk-container-id-2 div.sk-parallel {display: flex;align-items: stretch;justify-content: center;background-color: white;position: relative;}#sk-container-id-2 div.sk-item::before, #sk-container-id-2 div.sk-parallel-item::before {content: \"\";position: absolute;border-left: 1px solid gray;box-sizing: border-box;top: 0;bottom: 0;left: 50%;z-index: -1;}#sk-container-id-2 div.sk-parallel-item {display: flex;flex-direction: column;z-index: 1;position: relative;background-color: white;}#sk-container-id-2 div.sk-parallel-item:first-child::after {align-self: flex-end;width: 50%;}#sk-container-id-2 div.sk-parallel-item:last-child::after {align-self: flex-start;width: 50%;}#sk-container-id-2 div.sk-parallel-item:only-child::after {width: 0;}#sk-container-id-2 div.sk-dashed-wrapped {border: 1px dashed gray;margin: 0 0.4em 0.5em 0.4em;box-sizing: border-box;padding-bottom: 0.4em;background-color: white;}#sk-container-id-2 div.sk-label label {font-family: monospace;font-weight: bold;display: inline-block;line-height: 1.2em;}#sk-container-id-2 div.sk-label-container {text-align: center;}#sk-container-id-2 div.sk-container {/* jupyter's `normalize.less` sets `[hidden] { display: none; }` but bootstrap.min.css set `[hidden] { display: none !important; }` so we also need the `!important` here to be able to override the default hidden behavior on the sphinx rendered scikit-learn.org. See: https://github.com/scikit-learn/scikit-learn/issues/21755 */display: inline-block !important;position: relative;}#sk-container-id-2 div.sk-text-repr-fallback {display: none;}</style><div id=\"sk-container-id-2\" class=\"sk-top-container\"><div class=\"sk-text-repr-fallback\"><pre>SVR()</pre><b>In a Jupyter environment, please rerun this cell to show the HTML representation or trust the notebook. <br />On GitHub, the HTML representation is unable to render, please try loading this page with nbviewer.org.</b></div><div class=\"sk-container\" hidden><div class=\"sk-item\"><div class=\"sk-estimator sk-toggleable\"><input class=\"sk-toggleable__control sk-hidden--visually\" id=\"sk-estimator-id-2\" type=\"checkbox\" checked><label for=\"sk-estimator-id-2\" class=\"sk-toggleable__label sk-toggleable__label-arrow\">SVR</label><div class=\"sk-toggleable__content\"><pre>SVR()</pre></div></div></div></div></div>"
            ]
          },
          "metadata": {},
          "execution_count": 35
        }
      ],
      "source": [
        "#SVM\n",
        "from sklearn.svm import SVR\n",
        "model = SVR()\n",
        "grid = {}\n",
        "train_model(model, grid, X_train_scaled, y_train_scaled)"
      ]
    },
    {
      "cell_type": "code",
      "execution_count": null,
      "metadata": {
        "id": "APBhL0V2bpgm",
        "colab": {
          "base_uri": "https://localhost:8080/",
          "height": 303
        },
        "outputId": "0fe3a73e-e00d-4ef9-a0bf-191523bfc0e0"
      },
      "outputs": [
        {
          "output_type": "stream",
          "name": "stderr",
          "text": [
            "/usr/local/lib/python3.10/dist-packages/joblib/externals/loky/backend/fork_exec.py:38: RuntimeWarning: os.fork() was called. os.fork() is incompatible with multithreaded code, and JAX is multithreaded, so this will likely lead to a deadlock.\n",
            "  pid = os.fork()\n"
          ]
        },
        {
          "output_type": "stream",
          "name": "stdout",
          "text": [
            "Training Metrics:\n",
            "-----------------\n",
            "Best R-squared on training data: 1.000000 using the following parameters: {}\n",
            "Best Adjusted R-squared on training data: 1.000000\n",
            "Mean Absolute Error on training data: 0.000000\n",
            "Mean Squared Error on training data: 0.000000\n",
            "\n",
            "Cross-Validation Metrics:\n",
            "-------------------------\n",
            "R-squared: 0.399047 (0.559850) with parameters: {}\n"
          ]
        },
        {
          "output_type": "execute_result",
          "data": {
            "text/plain": [
              "DecisionTreeRegressor()"
            ],
            "text/html": [
              "<style>#sk-container-id-7 {color: black;background-color: white;}#sk-container-id-7 pre{padding: 0;}#sk-container-id-7 div.sk-toggleable {background-color: white;}#sk-container-id-7 label.sk-toggleable__label {cursor: pointer;display: block;width: 100%;margin-bottom: 0;padding: 0.3em;box-sizing: border-box;text-align: center;}#sk-container-id-7 label.sk-toggleable__label-arrow:before {content: \"▸\";float: left;margin-right: 0.25em;color: #696969;}#sk-container-id-7 label.sk-toggleable__label-arrow:hover:before {color: black;}#sk-container-id-7 div.sk-estimator:hover label.sk-toggleable__label-arrow:before {color: black;}#sk-container-id-7 div.sk-toggleable__content {max-height: 0;max-width: 0;overflow: hidden;text-align: left;background-color: #f0f8ff;}#sk-container-id-7 div.sk-toggleable__content pre {margin: 0.2em;color: black;border-radius: 0.25em;background-color: #f0f8ff;}#sk-container-id-7 input.sk-toggleable__control:checked~div.sk-toggleable__content {max-height: 200px;max-width: 100%;overflow: auto;}#sk-container-id-7 input.sk-toggleable__control:checked~label.sk-toggleable__label-arrow:before {content: \"▾\";}#sk-container-id-7 div.sk-estimator input.sk-toggleable__control:checked~label.sk-toggleable__label {background-color: #d4ebff;}#sk-container-id-7 div.sk-label input.sk-toggleable__control:checked~label.sk-toggleable__label {background-color: #d4ebff;}#sk-container-id-7 input.sk-hidden--visually {border: 0;clip: rect(1px 1px 1px 1px);clip: rect(1px, 1px, 1px, 1px);height: 1px;margin: -1px;overflow: hidden;padding: 0;position: absolute;width: 1px;}#sk-container-id-7 div.sk-estimator {font-family: monospace;background-color: #f0f8ff;border: 1px dotted black;border-radius: 0.25em;box-sizing: border-box;margin-bottom: 0.5em;}#sk-container-id-7 div.sk-estimator:hover {background-color: #d4ebff;}#sk-container-id-7 div.sk-parallel-item::after {content: \"\";width: 100%;border-bottom: 1px solid gray;flex-grow: 1;}#sk-container-id-7 div.sk-label:hover label.sk-toggleable__label {background-color: #d4ebff;}#sk-container-id-7 div.sk-serial::before {content: \"\";position: absolute;border-left: 1px solid gray;box-sizing: border-box;top: 0;bottom: 0;left: 50%;z-index: 0;}#sk-container-id-7 div.sk-serial {display: flex;flex-direction: column;align-items: center;background-color: white;padding-right: 0.2em;padding-left: 0.2em;position: relative;}#sk-container-id-7 div.sk-item {position: relative;z-index: 1;}#sk-container-id-7 div.sk-parallel {display: flex;align-items: stretch;justify-content: center;background-color: white;position: relative;}#sk-container-id-7 div.sk-item::before, #sk-container-id-7 div.sk-parallel-item::before {content: \"\";position: absolute;border-left: 1px solid gray;box-sizing: border-box;top: 0;bottom: 0;left: 50%;z-index: -1;}#sk-container-id-7 div.sk-parallel-item {display: flex;flex-direction: column;z-index: 1;position: relative;background-color: white;}#sk-container-id-7 div.sk-parallel-item:first-child::after {align-self: flex-end;width: 50%;}#sk-container-id-7 div.sk-parallel-item:last-child::after {align-self: flex-start;width: 50%;}#sk-container-id-7 div.sk-parallel-item:only-child::after {width: 0;}#sk-container-id-7 div.sk-dashed-wrapped {border: 1px dashed gray;margin: 0 0.4em 0.5em 0.4em;box-sizing: border-box;padding-bottom: 0.4em;background-color: white;}#sk-container-id-7 div.sk-label label {font-family: monospace;font-weight: bold;display: inline-block;line-height: 1.2em;}#sk-container-id-7 div.sk-label-container {text-align: center;}#sk-container-id-7 div.sk-container {/* jupyter's `normalize.less` sets `[hidden] { display: none; }` but bootstrap.min.css set `[hidden] { display: none !important; }` so we also need the `!important` here to be able to override the default hidden behavior on the sphinx rendered scikit-learn.org. See: https://github.com/scikit-learn/scikit-learn/issues/21755 */display: inline-block !important;position: relative;}#sk-container-id-7 div.sk-text-repr-fallback {display: none;}</style><div id=\"sk-container-id-7\" class=\"sk-top-container\"><div class=\"sk-text-repr-fallback\"><pre>DecisionTreeRegressor()</pre><b>In a Jupyter environment, please rerun this cell to show the HTML representation or trust the notebook. <br />On GitHub, the HTML representation is unable to render, please try loading this page with nbviewer.org.</b></div><div class=\"sk-container\" hidden><div class=\"sk-item\"><div class=\"sk-estimator sk-toggleable\"><input class=\"sk-toggleable__control sk-hidden--visually\" id=\"sk-estimator-id-7\" type=\"checkbox\" checked><label for=\"sk-estimator-id-7\" class=\"sk-toggleable__label sk-toggleable__label-arrow\">DecisionTreeRegressor</label><div class=\"sk-toggleable__content\"><pre>DecisionTreeRegressor()</pre></div></div></div></div></div>"
            ]
          },
          "metadata": {},
          "execution_count": 57
        }
      ],
      "source": [
        "#Decision Tree\n",
        "from sklearn.tree import DecisionTreeRegressor\n",
        "import numpy as np\n",
        "model = DecisionTreeRegressor()\n",
        "grid = {}\n",
        "train_model(model, grid, X_train_scaled, y_train_scaled)"
      ]
    },
    {
      "cell_type": "code",
      "execution_count": null,
      "metadata": {
        "colab": {
          "base_uri": "https://localhost:8080/",
          "height": 1000
        },
        "id": "2Oh6FP98eS_x",
        "outputId": "56b76807-e48e-42aa-b15a-6d6635c856e9"
      },
      "outputs": [
        {
          "output_type": "stream",
          "name": "stderr",
          "text": [
            "/usr/local/lib/python3.10/dist-packages/joblib/externals/loky/backend/fork_exec.py:38: RuntimeWarning: os.fork() was called. os.fork() is incompatible with multithreaded code, and JAX is multithreaded, so this will likely lead to a deadlock.\n",
            "  pid = os.fork()\n"
          ]
        },
        {
          "output_type": "stream",
          "name": "stdout",
          "text": [
            "Training Metrics:\n",
            "-----------------\n",
            "Best R-squared on training data: 0.710321 using the following parameters: {'n_neighbors': 7, 'p': 1, 'weights': 'uniform'}\n",
            "Best Adjusted R-squared on training data: 0.707090\n",
            "Mean Absolute Error on training data: 0.256568\n",
            "Mean Squared Error on training data: 0.289679\n",
            "\n",
            "Cross-Validation Metrics:\n",
            "-------------------------\n",
            "R-squared: 0.055739 (0.407113) with parameters: {'n_neighbors': 1, 'p': 1, 'weights': 'uniform'}\n",
            "R-squared: 0.055739 (0.407113) with parameters: {'n_neighbors': 1, 'p': 1, 'weights': 'distance'}\n",
            "R-squared: 0.128635 (0.400240) with parameters: {'n_neighbors': 1, 'p': 2, 'weights': 'uniform'}\n",
            "R-squared: 0.128635 (0.400240) with parameters: {'n_neighbors': 1, 'p': 2, 'weights': 'distance'}\n",
            "R-squared: 0.346195 (0.240547) with parameters: {'n_neighbors': 2, 'p': 1, 'weights': 'uniform'}\n",
            "R-squared: 0.339686 (0.237778) with parameters: {'n_neighbors': 2, 'p': 1, 'weights': 'distance'}\n",
            "R-squared: 0.363979 (0.182226) with parameters: {'n_neighbors': 2, 'p': 2, 'weights': 'uniform'}\n",
            "R-squared: 0.358909 (0.189520) with parameters: {'n_neighbors': 2, 'p': 2, 'weights': 'distance'}\n",
            "R-squared: 0.503670 (0.158588) with parameters: {'n_neighbors': 3, 'p': 1, 'weights': 'uniform'}\n",
            "R-squared: 0.485198 (0.172821) with parameters: {'n_neighbors': 3, 'p': 1, 'weights': 'distance'}\n",
            "R-squared: 0.499503 (0.129007) with parameters: {'n_neighbors': 3, 'p': 2, 'weights': 'uniform'}\n",
            "R-squared: 0.481366 (0.137049) with parameters: {'n_neighbors': 3, 'p': 2, 'weights': 'distance'}\n",
            "R-squared: 0.523837 (0.146237) with parameters: {'n_neighbors': 4, 'p': 1, 'weights': 'uniform'}\n",
            "R-squared: 0.511389 (0.150959) with parameters: {'n_neighbors': 4, 'p': 1, 'weights': 'distance'}\n",
            "R-squared: 0.503426 (0.131465) with parameters: {'n_neighbors': 4, 'p': 2, 'weights': 'uniform'}\n",
            "R-squared: 0.493437 (0.143602) with parameters: {'n_neighbors': 4, 'p': 2, 'weights': 'distance'}\n",
            "R-squared: 0.545747 (0.164019) with parameters: {'n_neighbors': 5, 'p': 1, 'weights': 'uniform'}\n",
            "R-squared: 0.535853 (0.162874) with parameters: {'n_neighbors': 5, 'p': 1, 'weights': 'distance'}\n",
            "R-squared: 0.503263 (0.149431) with parameters: {'n_neighbors': 5, 'p': 2, 'weights': 'uniform'}\n",
            "R-squared: 0.499121 (0.148701) with parameters: {'n_neighbors': 5, 'p': 2, 'weights': 'distance'}\n",
            "R-squared: 0.555494 (0.132343) with parameters: {'n_neighbors': 6, 'p': 1, 'weights': 'uniform'}\n",
            "R-squared: 0.549979 (0.133821) with parameters: {'n_neighbors': 6, 'p': 1, 'weights': 'distance'}\n",
            "R-squared: 0.528230 (0.128393) with parameters: {'n_neighbors': 6, 'p': 2, 'weights': 'uniform'}\n",
            "R-squared: 0.524784 (0.132933) with parameters: {'n_neighbors': 6, 'p': 2, 'weights': 'distance'}\n",
            "R-squared: 0.565956 (0.100144) with parameters: {'n_neighbors': 7, 'p': 1, 'weights': 'uniform'}\n",
            "R-squared: 0.563464 (0.105999) with parameters: {'n_neighbors': 7, 'p': 1, 'weights': 'distance'}\n",
            "R-squared: 0.528596 (0.131381) with parameters: {'n_neighbors': 7, 'p': 2, 'weights': 'uniform'}\n",
            "R-squared: 0.529031 (0.131957) with parameters: {'n_neighbors': 7, 'p': 2, 'weights': 'distance'}\n",
            "R-squared: 0.561307 (0.100410) with parameters: {'n_neighbors': 8, 'p': 1, 'weights': 'uniform'}\n",
            "R-squared: 0.561288 (0.104577) with parameters: {'n_neighbors': 8, 'p': 1, 'weights': 'distance'}\n",
            "R-squared: 0.515856 (0.134235) with parameters: {'n_neighbors': 8, 'p': 2, 'weights': 'uniform'}\n",
            "R-squared: 0.520106 (0.134913) with parameters: {'n_neighbors': 8, 'p': 2, 'weights': 'distance'}\n",
            "R-squared: 0.552582 (0.103692) with parameters: {'n_neighbors': 9, 'p': 1, 'weights': 'uniform'}\n",
            "R-squared: 0.556923 (0.104781) with parameters: {'n_neighbors': 9, 'p': 1, 'weights': 'distance'}\n",
            "R-squared: 0.515618 (0.119110) with parameters: {'n_neighbors': 9, 'p': 2, 'weights': 'uniform'}\n",
            "R-squared: 0.520826 (0.120324) with parameters: {'n_neighbors': 9, 'p': 2, 'weights': 'distance'}\n",
            "R-squared: 0.548638 (0.103768) with parameters: {'n_neighbors': 10, 'p': 1, 'weights': 'uniform'}\n",
            "R-squared: 0.554051 (0.107215) with parameters: {'n_neighbors': 10, 'p': 1, 'weights': 'distance'}\n",
            "R-squared: 0.522742 (0.130543) with parameters: {'n_neighbors': 10, 'p': 2, 'weights': 'uniform'}\n",
            "R-squared: 0.528292 (0.127265) with parameters: {'n_neighbors': 10, 'p': 2, 'weights': 'distance'}\n",
            "R-squared: 0.557539 (0.109444) with parameters: {'n_neighbors': 11, 'p': 1, 'weights': 'uniform'}\n",
            "R-squared: 0.562758 (0.108695) with parameters: {'n_neighbors': 11, 'p': 1, 'weights': 'distance'}\n",
            "R-squared: 0.528249 (0.118602) with parameters: {'n_neighbors': 11, 'p': 2, 'weights': 'uniform'}\n",
            "R-squared: 0.533461 (0.119529) with parameters: {'n_neighbors': 11, 'p': 2, 'weights': 'distance'}\n",
            "R-squared: 0.550450 (0.114516) with parameters: {'n_neighbors': 12, 'p': 1, 'weights': 'uniform'}\n",
            "R-squared: 0.557894 (0.111891) with parameters: {'n_neighbors': 12, 'p': 1, 'weights': 'distance'}\n",
            "R-squared: 0.540850 (0.109853) with parameters: {'n_neighbors': 12, 'p': 2, 'weights': 'uniform'}\n",
            "R-squared: 0.545127 (0.110797) with parameters: {'n_neighbors': 12, 'p': 2, 'weights': 'distance'}\n"
          ]
        },
        {
          "output_type": "execute_result",
          "data": {
            "text/plain": [
              "KNeighborsRegressor(n_neighbors=7, p=1)"
            ],
            "text/html": [
              "<style>#sk-container-id-3 {color: black;background-color: white;}#sk-container-id-3 pre{padding: 0;}#sk-container-id-3 div.sk-toggleable {background-color: white;}#sk-container-id-3 label.sk-toggleable__label {cursor: pointer;display: block;width: 100%;margin-bottom: 0;padding: 0.3em;box-sizing: border-box;text-align: center;}#sk-container-id-3 label.sk-toggleable__label-arrow:before {content: \"▸\";float: left;margin-right: 0.25em;color: #696969;}#sk-container-id-3 label.sk-toggleable__label-arrow:hover:before {color: black;}#sk-container-id-3 div.sk-estimator:hover label.sk-toggleable__label-arrow:before {color: black;}#sk-container-id-3 div.sk-toggleable__content {max-height: 0;max-width: 0;overflow: hidden;text-align: left;background-color: #f0f8ff;}#sk-container-id-3 div.sk-toggleable__content pre {margin: 0.2em;color: black;border-radius: 0.25em;background-color: #f0f8ff;}#sk-container-id-3 input.sk-toggleable__control:checked~div.sk-toggleable__content {max-height: 200px;max-width: 100%;overflow: auto;}#sk-container-id-3 input.sk-toggleable__control:checked~label.sk-toggleable__label-arrow:before {content: \"▾\";}#sk-container-id-3 div.sk-estimator input.sk-toggleable__control:checked~label.sk-toggleable__label {background-color: #d4ebff;}#sk-container-id-3 div.sk-label input.sk-toggleable__control:checked~label.sk-toggleable__label {background-color: #d4ebff;}#sk-container-id-3 input.sk-hidden--visually {border: 0;clip: rect(1px 1px 1px 1px);clip: rect(1px, 1px, 1px, 1px);height: 1px;margin: -1px;overflow: hidden;padding: 0;position: absolute;width: 1px;}#sk-container-id-3 div.sk-estimator {font-family: monospace;background-color: #f0f8ff;border: 1px dotted black;border-radius: 0.25em;box-sizing: border-box;margin-bottom: 0.5em;}#sk-container-id-3 div.sk-estimator:hover {background-color: #d4ebff;}#sk-container-id-3 div.sk-parallel-item::after {content: \"\";width: 100%;border-bottom: 1px solid gray;flex-grow: 1;}#sk-container-id-3 div.sk-label:hover label.sk-toggleable__label {background-color: #d4ebff;}#sk-container-id-3 div.sk-serial::before {content: \"\";position: absolute;border-left: 1px solid gray;box-sizing: border-box;top: 0;bottom: 0;left: 50%;z-index: 0;}#sk-container-id-3 div.sk-serial {display: flex;flex-direction: column;align-items: center;background-color: white;padding-right: 0.2em;padding-left: 0.2em;position: relative;}#sk-container-id-3 div.sk-item {position: relative;z-index: 1;}#sk-container-id-3 div.sk-parallel {display: flex;align-items: stretch;justify-content: center;background-color: white;position: relative;}#sk-container-id-3 div.sk-item::before, #sk-container-id-3 div.sk-parallel-item::before {content: \"\";position: absolute;border-left: 1px solid gray;box-sizing: border-box;top: 0;bottom: 0;left: 50%;z-index: -1;}#sk-container-id-3 div.sk-parallel-item {display: flex;flex-direction: column;z-index: 1;position: relative;background-color: white;}#sk-container-id-3 div.sk-parallel-item:first-child::after {align-self: flex-end;width: 50%;}#sk-container-id-3 div.sk-parallel-item:last-child::after {align-self: flex-start;width: 50%;}#sk-container-id-3 div.sk-parallel-item:only-child::after {width: 0;}#sk-container-id-3 div.sk-dashed-wrapped {border: 1px dashed gray;margin: 0 0.4em 0.5em 0.4em;box-sizing: border-box;padding-bottom: 0.4em;background-color: white;}#sk-container-id-3 div.sk-label label {font-family: monospace;font-weight: bold;display: inline-block;line-height: 1.2em;}#sk-container-id-3 div.sk-label-container {text-align: center;}#sk-container-id-3 div.sk-container {/* jupyter's `normalize.less` sets `[hidden] { display: none; }` but bootstrap.min.css set `[hidden] { display: none !important; }` so we also need the `!important` here to be able to override the default hidden behavior on the sphinx rendered scikit-learn.org. See: https://github.com/scikit-learn/scikit-learn/issues/21755 */display: inline-block !important;position: relative;}#sk-container-id-3 div.sk-text-repr-fallback {display: none;}</style><div id=\"sk-container-id-3\" class=\"sk-top-container\"><div class=\"sk-text-repr-fallback\"><pre>KNeighborsRegressor(n_neighbors=7, p=1)</pre><b>In a Jupyter environment, please rerun this cell to show the HTML representation or trust the notebook. <br />On GitHub, the HTML representation is unable to render, please try loading this page with nbviewer.org.</b></div><div class=\"sk-container\" hidden><div class=\"sk-item\"><div class=\"sk-estimator sk-toggleable\"><input class=\"sk-toggleable__control sk-hidden--visually\" id=\"sk-estimator-id-3\" type=\"checkbox\" checked><label for=\"sk-estimator-id-3\" class=\"sk-toggleable__label sk-toggleable__label-arrow\">KNeighborsRegressor</label><div class=\"sk-toggleable__content\"><pre>KNeighborsRegressor(n_neighbors=7, p=1)</pre></div></div></div></div></div>"
            ]
          },
          "metadata": {},
          "execution_count": 37
        }
      ],
      "source": [
        "#KNN\n",
        "from sklearn.neighbors import KNeighborsRegressor\n",
        "grid = {\n",
        "    'n_neighbors': [1,2,3,4,5,6,7,8,9,10,11,12],\n",
        "    'weights': ['uniform', 'distance'],\n",
        "    'p': [1,2] # p=1 compute manhattan distance, p=2 compute euclidean distance\n",
        "    }\n",
        "model = KNeighborsRegressor()\n",
        "train_model(model, grid, X_train_scaled, y_train_scaled)"
      ]
    },
    {
      "cell_type": "code",
      "execution_count": null,
      "metadata": {
        "colab": {
          "base_uri": "https://localhost:8080/"
        },
        "id": "4cQL21Fzeql8",
        "outputId": "fca1de59-6b60-48a4-a607-d3b28d0cd1c0"
      },
      "outputs": [
        {
          "output_type": "stream",
          "name": "stdout",
          "text": [
            "Training Metrics:\n",
            "-----------------\n",
            "Best R-squared on training data: 0.959409 using the following parameters: {}\n",
            "Best Adjusted R-squared on training data: 0.958957\n",
            "Mean Absolute Error on training data: 0.095345\n",
            "Mean Squared Error on training data: 0.040591\n",
            "\n",
            "Cross-Validation Metrics:\n",
            "-------------------------\n",
            "R-squared: 0.666255 (0.248263) with parameters: {}\n"
          ]
        }
      ],
      "source": [
        "#Random forest\n",
        "from sklearn.ensemble import RandomForestRegressor\n",
        "grid ={}\n",
        "model = RandomForestRegressor(n_estimators=200,random_state=42,max_depth=10)\n",
        "RF_trained_model = train_model(model, grid, X_train_scaled, y_train_scaled)"
      ]
    },
    {
      "cell_type": "code",
      "source": [
        "# Random Forest is best, try on test set\n",
        "y_pred_RF = RF_trained_model.predict(X_test_scaled)\n",
        "# Printing Testing metrics\n",
        "print(\"Testing Metrics:\")\n",
        "print(\"-----------------\")\n",
        "print(\"Best R-squared on testing data: %f \" % (r2_score(y_test_scaled, y_pred_RF)))\n",
        "print(\"Mean Absolute Error on testing data: %f\" % mean_absolute_error(y_test_scaled, y_pred_RF))\n",
        "print(\"Mean Squared Error on testing data: %f\" % mean_squared_error(y_test_scaled, y_pred_RF))"
      ],
      "metadata": {
        "colab": {
          "base_uri": "https://localhost:8080/"
        },
        "id": "BFel3OKWhthN",
        "outputId": "0375aec5-a8d3-4ff4-e3d7-a72b7935679a"
      },
      "execution_count": null,
      "outputs": [
        {
          "output_type": "stream",
          "name": "stdout",
          "text": [
            "Testing Metrics:\n",
            "-----------------\n",
            "Best R-squared on testing data: 0.829418 \n",
            "Mean Absolute Error on testing data: 0.220557\n",
            "Mean Squared Error on testing data: 0.194233\n"
          ]
        }
      ]
    },
    {
      "cell_type": "code",
      "source": [
        "from sklearn.linear_model import Ridge\n",
        "model = Ridge()\n",
        "grid = {}\n",
        "train_model(model, grid, X_train_scaled, y_train_scaled)"
      ],
      "metadata": {
        "colab": {
          "base_uri": "https://localhost:8080/",
          "height": 248
        },
        "id": "FHZbQsjngvOQ",
        "outputId": "b1cb565d-0fb3-4e14-d469-ed1f3590ff94"
      },
      "execution_count": null,
      "outputs": [
        {
          "output_type": "stream",
          "name": "stdout",
          "text": [
            "Training Metrics:\n",
            "-----------------\n",
            "Best R-squared on training data: 0.418998 using the following parameters: {}\n",
            "Best Adjusted R-squared on training data: 0.412519\n",
            "Mean Absolute Error on training data: 0.495713\n",
            "Mean Squared Error on training data: 0.581002\n",
            "\n",
            "Cross-Validation Metrics:\n",
            "-------------------------\n",
            "R-squared: 0.382804 (0.082189) with parameters: {}\n"
          ]
        },
        {
          "output_type": "execute_result",
          "data": {
            "text/plain": [
              "Ridge()"
            ],
            "text/html": [
              "<style>#sk-container-id-4 {color: black;background-color: white;}#sk-container-id-4 pre{padding: 0;}#sk-container-id-4 div.sk-toggleable {background-color: white;}#sk-container-id-4 label.sk-toggleable__label {cursor: pointer;display: block;width: 100%;margin-bottom: 0;padding: 0.3em;box-sizing: border-box;text-align: center;}#sk-container-id-4 label.sk-toggleable__label-arrow:before {content: \"▸\";float: left;margin-right: 0.25em;color: #696969;}#sk-container-id-4 label.sk-toggleable__label-arrow:hover:before {color: black;}#sk-container-id-4 div.sk-estimator:hover label.sk-toggleable__label-arrow:before {color: black;}#sk-container-id-4 div.sk-toggleable__content {max-height: 0;max-width: 0;overflow: hidden;text-align: left;background-color: #f0f8ff;}#sk-container-id-4 div.sk-toggleable__content pre {margin: 0.2em;color: black;border-radius: 0.25em;background-color: #f0f8ff;}#sk-container-id-4 input.sk-toggleable__control:checked~div.sk-toggleable__content {max-height: 200px;max-width: 100%;overflow: auto;}#sk-container-id-4 input.sk-toggleable__control:checked~label.sk-toggleable__label-arrow:before {content: \"▾\";}#sk-container-id-4 div.sk-estimator input.sk-toggleable__control:checked~label.sk-toggleable__label {background-color: #d4ebff;}#sk-container-id-4 div.sk-label input.sk-toggleable__control:checked~label.sk-toggleable__label {background-color: #d4ebff;}#sk-container-id-4 input.sk-hidden--visually {border: 0;clip: rect(1px 1px 1px 1px);clip: rect(1px, 1px, 1px, 1px);height: 1px;margin: -1px;overflow: hidden;padding: 0;position: absolute;width: 1px;}#sk-container-id-4 div.sk-estimator {font-family: monospace;background-color: #f0f8ff;border: 1px dotted black;border-radius: 0.25em;box-sizing: border-box;margin-bottom: 0.5em;}#sk-container-id-4 div.sk-estimator:hover {background-color: #d4ebff;}#sk-container-id-4 div.sk-parallel-item::after {content: \"\";width: 100%;border-bottom: 1px solid gray;flex-grow: 1;}#sk-container-id-4 div.sk-label:hover label.sk-toggleable__label {background-color: #d4ebff;}#sk-container-id-4 div.sk-serial::before {content: \"\";position: absolute;border-left: 1px solid gray;box-sizing: border-box;top: 0;bottom: 0;left: 50%;z-index: 0;}#sk-container-id-4 div.sk-serial {display: flex;flex-direction: column;align-items: center;background-color: white;padding-right: 0.2em;padding-left: 0.2em;position: relative;}#sk-container-id-4 div.sk-item {position: relative;z-index: 1;}#sk-container-id-4 div.sk-parallel {display: flex;align-items: stretch;justify-content: center;background-color: white;position: relative;}#sk-container-id-4 div.sk-item::before, #sk-container-id-4 div.sk-parallel-item::before {content: \"\";position: absolute;border-left: 1px solid gray;box-sizing: border-box;top: 0;bottom: 0;left: 50%;z-index: -1;}#sk-container-id-4 div.sk-parallel-item {display: flex;flex-direction: column;z-index: 1;position: relative;background-color: white;}#sk-container-id-4 div.sk-parallel-item:first-child::after {align-self: flex-end;width: 50%;}#sk-container-id-4 div.sk-parallel-item:last-child::after {align-self: flex-start;width: 50%;}#sk-container-id-4 div.sk-parallel-item:only-child::after {width: 0;}#sk-container-id-4 div.sk-dashed-wrapped {border: 1px dashed gray;margin: 0 0.4em 0.5em 0.4em;box-sizing: border-box;padding-bottom: 0.4em;background-color: white;}#sk-container-id-4 div.sk-label label {font-family: monospace;font-weight: bold;display: inline-block;line-height: 1.2em;}#sk-container-id-4 div.sk-label-container {text-align: center;}#sk-container-id-4 div.sk-container {/* jupyter's `normalize.less` sets `[hidden] { display: none; }` but bootstrap.min.css set `[hidden] { display: none !important; }` so we also need the `!important` here to be able to override the default hidden behavior on the sphinx rendered scikit-learn.org. See: https://github.com/scikit-learn/scikit-learn/issues/21755 */display: inline-block !important;position: relative;}#sk-container-id-4 div.sk-text-repr-fallback {display: none;}</style><div id=\"sk-container-id-4\" class=\"sk-top-container\"><div class=\"sk-text-repr-fallback\"><pre>Ridge()</pre><b>In a Jupyter environment, please rerun this cell to show the HTML representation or trust the notebook. <br />On GitHub, the HTML representation is unable to render, please try loading this page with nbviewer.org.</b></div><div class=\"sk-container\" hidden><div class=\"sk-item\"><div class=\"sk-estimator sk-toggleable\"><input class=\"sk-toggleable__control sk-hidden--visually\" id=\"sk-estimator-id-4\" type=\"checkbox\" checked><label for=\"sk-estimator-id-4\" class=\"sk-toggleable__label sk-toggleable__label-arrow\">Ridge</label><div class=\"sk-toggleable__content\"><pre>Ridge()</pre></div></div></div></div></div>"
            ]
          },
          "metadata": {},
          "execution_count": 40
        }
      ]
    },
    {
      "cell_type": "code",
      "source": [
        "from sklearn.linear_model import Lasso\n",
        "model = Lasso()\n",
        "grid={}\n",
        "train_model(model, grid, X_train_scaled, y_train_scaled)"
      ],
      "metadata": {
        "colab": {
          "base_uri": "https://localhost:8080/",
          "height": 248
        },
        "id": "ZDEtEvlgg2sP",
        "outputId": "d35a5e7d-3510-4a8f-9c86-4d4502b83227"
      },
      "execution_count": null,
      "outputs": [
        {
          "output_type": "stream",
          "name": "stdout",
          "text": [
            "Training Metrics:\n",
            "-----------------\n",
            "Best R-squared on training data: 0.000000 using the following parameters: {}\n",
            "Best Adjusted R-squared on training data: -0.011152\n",
            "Mean Absolute Error on training data: 0.628581\n",
            "Mean Squared Error on training data: 1.000000\n",
            "\n",
            "Cross-Validation Metrics:\n",
            "-------------------------\n",
            "R-squared: -0.016464 (0.010604) with parameters: {}\n"
          ]
        },
        {
          "output_type": "execute_result",
          "data": {
            "text/plain": [
              "Lasso()"
            ],
            "text/html": [
              "<style>#sk-container-id-5 {color: black;background-color: white;}#sk-container-id-5 pre{padding: 0;}#sk-container-id-5 div.sk-toggleable {background-color: white;}#sk-container-id-5 label.sk-toggleable__label {cursor: pointer;display: block;width: 100%;margin-bottom: 0;padding: 0.3em;box-sizing: border-box;text-align: center;}#sk-container-id-5 label.sk-toggleable__label-arrow:before {content: \"▸\";float: left;margin-right: 0.25em;color: #696969;}#sk-container-id-5 label.sk-toggleable__label-arrow:hover:before {color: black;}#sk-container-id-5 div.sk-estimator:hover label.sk-toggleable__label-arrow:before {color: black;}#sk-container-id-5 div.sk-toggleable__content {max-height: 0;max-width: 0;overflow: hidden;text-align: left;background-color: #f0f8ff;}#sk-container-id-5 div.sk-toggleable__content pre {margin: 0.2em;color: black;border-radius: 0.25em;background-color: #f0f8ff;}#sk-container-id-5 input.sk-toggleable__control:checked~div.sk-toggleable__content {max-height: 200px;max-width: 100%;overflow: auto;}#sk-container-id-5 input.sk-toggleable__control:checked~label.sk-toggleable__label-arrow:before {content: \"▾\";}#sk-container-id-5 div.sk-estimator input.sk-toggleable__control:checked~label.sk-toggleable__label {background-color: #d4ebff;}#sk-container-id-5 div.sk-label input.sk-toggleable__control:checked~label.sk-toggleable__label {background-color: #d4ebff;}#sk-container-id-5 input.sk-hidden--visually {border: 0;clip: rect(1px 1px 1px 1px);clip: rect(1px, 1px, 1px, 1px);height: 1px;margin: -1px;overflow: hidden;padding: 0;position: absolute;width: 1px;}#sk-container-id-5 div.sk-estimator {font-family: monospace;background-color: #f0f8ff;border: 1px dotted black;border-radius: 0.25em;box-sizing: border-box;margin-bottom: 0.5em;}#sk-container-id-5 div.sk-estimator:hover {background-color: #d4ebff;}#sk-container-id-5 div.sk-parallel-item::after {content: \"\";width: 100%;border-bottom: 1px solid gray;flex-grow: 1;}#sk-container-id-5 div.sk-label:hover label.sk-toggleable__label {background-color: #d4ebff;}#sk-container-id-5 div.sk-serial::before {content: \"\";position: absolute;border-left: 1px solid gray;box-sizing: border-box;top: 0;bottom: 0;left: 50%;z-index: 0;}#sk-container-id-5 div.sk-serial {display: flex;flex-direction: column;align-items: center;background-color: white;padding-right: 0.2em;padding-left: 0.2em;position: relative;}#sk-container-id-5 div.sk-item {position: relative;z-index: 1;}#sk-container-id-5 div.sk-parallel {display: flex;align-items: stretch;justify-content: center;background-color: white;position: relative;}#sk-container-id-5 div.sk-item::before, #sk-container-id-5 div.sk-parallel-item::before {content: \"\";position: absolute;border-left: 1px solid gray;box-sizing: border-box;top: 0;bottom: 0;left: 50%;z-index: -1;}#sk-container-id-5 div.sk-parallel-item {display: flex;flex-direction: column;z-index: 1;position: relative;background-color: white;}#sk-container-id-5 div.sk-parallel-item:first-child::after {align-self: flex-end;width: 50%;}#sk-container-id-5 div.sk-parallel-item:last-child::after {align-self: flex-start;width: 50%;}#sk-container-id-5 div.sk-parallel-item:only-child::after {width: 0;}#sk-container-id-5 div.sk-dashed-wrapped {border: 1px dashed gray;margin: 0 0.4em 0.5em 0.4em;box-sizing: border-box;padding-bottom: 0.4em;background-color: white;}#sk-container-id-5 div.sk-label label {font-family: monospace;font-weight: bold;display: inline-block;line-height: 1.2em;}#sk-container-id-5 div.sk-label-container {text-align: center;}#sk-container-id-5 div.sk-container {/* jupyter's `normalize.less` sets `[hidden] { display: none; }` but bootstrap.min.css set `[hidden] { display: none !important; }` so we also need the `!important` here to be able to override the default hidden behavior on the sphinx rendered scikit-learn.org. See: https://github.com/scikit-learn/scikit-learn/issues/21755 */display: inline-block !important;position: relative;}#sk-container-id-5 div.sk-text-repr-fallback {display: none;}</style><div id=\"sk-container-id-5\" class=\"sk-top-container\"><div class=\"sk-text-repr-fallback\"><pre>Lasso()</pre><b>In a Jupyter environment, please rerun this cell to show the HTML representation or trust the notebook. <br />On GitHub, the HTML representation is unable to render, please try loading this page with nbviewer.org.</b></div><div class=\"sk-container\" hidden><div class=\"sk-item\"><div class=\"sk-estimator sk-toggleable\"><input class=\"sk-toggleable__control sk-hidden--visually\" id=\"sk-estimator-id-5\" type=\"checkbox\" checked><label for=\"sk-estimator-id-5\" class=\"sk-toggleable__label sk-toggleable__label-arrow\">Lasso</label><div class=\"sk-toggleable__content\"><pre>Lasso()</pre></div></div></div></div></div>"
            ]
          },
          "metadata": {},
          "execution_count": 41
        }
      ]
    },
    {
      "cell_type": "code",
      "execution_count": null,
      "metadata": {
        "id": "GQRlYobv7KzM",
        "colab": {
          "base_uri": "https://localhost:8080/",
          "height": 439
        },
        "outputId": "ae2179a9-7d6c-4af3-8943-dca1f55a77a2"
      },
      "outputs": [
        {
          "output_type": "stream",
          "name": "stdout",
          "text": [
            "Training Metrics:\n",
            "-----------------\n",
            "Best R-squared on training data: 0.411573 using the following parameters: {'alpha': 0.1, 'l1_ratio': 0.1}\n",
            "Best Adjusted R-squared on training data: 0.405011\n",
            "Mean Absolute Error on training data: 0.481547\n",
            "Mean Squared Error on training data: 0.588427\n",
            "\n",
            "Cross-Validation Metrics:\n",
            "-------------------------\n",
            "R-squared: 0.389291 (0.070769) with parameters: {'alpha': 0.1, 'l1_ratio': 0.1}\n",
            "R-squared: 0.384455 (0.071440) with parameters: {'alpha': 0.1, 'l1_ratio': 0.5}\n",
            "R-squared: 0.380918 (0.074028) with parameters: {'alpha': 0.1, 'l1_ratio': 0.7}\n",
            "R-squared: 0.375439 (0.077530) with parameters: {'alpha': 0.1, 'l1_ratio': 0.9}\n",
            "R-squared: 0.361181 (0.073236) with parameters: {'alpha': 0.5, 'l1_ratio': 0.1}\n",
            "R-squared: 0.281524 (0.073356) with parameters: {'alpha': 0.5, 'l1_ratio': 0.5}\n",
            "R-squared: 0.216677 (0.064027) with parameters: {'alpha': 0.5, 'l1_ratio': 0.7}\n",
            "R-squared: 0.150973 (0.055263) with parameters: {'alpha': 0.5, 'l1_ratio': 0.9}\n",
            "R-squared: 0.298431 (0.073253) with parameters: {'alpha': 1.0, 'l1_ratio': 0.1}\n",
            "R-squared: 0.069260 (0.036726) with parameters: {'alpha': 1.0, 'l1_ratio': 0.5}\n",
            "R-squared: -0.016464 (0.010604) with parameters: {'alpha': 1.0, 'l1_ratio': 0.7}\n",
            "R-squared: -0.016464 (0.010604) with parameters: {'alpha': 1.0, 'l1_ratio': 0.9}\n"
          ]
        },
        {
          "output_type": "execute_result",
          "data": {
            "text/plain": [
              "ElasticNet(alpha=0.1, l1_ratio=0.1)"
            ],
            "text/html": [
              "<style>#sk-container-id-6 {color: black;background-color: white;}#sk-container-id-6 pre{padding: 0;}#sk-container-id-6 div.sk-toggleable {background-color: white;}#sk-container-id-6 label.sk-toggleable__label {cursor: pointer;display: block;width: 100%;margin-bottom: 0;padding: 0.3em;box-sizing: border-box;text-align: center;}#sk-container-id-6 label.sk-toggleable__label-arrow:before {content: \"▸\";float: left;margin-right: 0.25em;color: #696969;}#sk-container-id-6 label.sk-toggleable__label-arrow:hover:before {color: black;}#sk-container-id-6 div.sk-estimator:hover label.sk-toggleable__label-arrow:before {color: black;}#sk-container-id-6 div.sk-toggleable__content {max-height: 0;max-width: 0;overflow: hidden;text-align: left;background-color: #f0f8ff;}#sk-container-id-6 div.sk-toggleable__content pre {margin: 0.2em;color: black;border-radius: 0.25em;background-color: #f0f8ff;}#sk-container-id-6 input.sk-toggleable__control:checked~div.sk-toggleable__content {max-height: 200px;max-width: 100%;overflow: auto;}#sk-container-id-6 input.sk-toggleable__control:checked~label.sk-toggleable__label-arrow:before {content: \"▾\";}#sk-container-id-6 div.sk-estimator input.sk-toggleable__control:checked~label.sk-toggleable__label {background-color: #d4ebff;}#sk-container-id-6 div.sk-label input.sk-toggleable__control:checked~label.sk-toggleable__label {background-color: #d4ebff;}#sk-container-id-6 input.sk-hidden--visually {border: 0;clip: rect(1px 1px 1px 1px);clip: rect(1px, 1px, 1px, 1px);height: 1px;margin: -1px;overflow: hidden;padding: 0;position: absolute;width: 1px;}#sk-container-id-6 div.sk-estimator {font-family: monospace;background-color: #f0f8ff;border: 1px dotted black;border-radius: 0.25em;box-sizing: border-box;margin-bottom: 0.5em;}#sk-container-id-6 div.sk-estimator:hover {background-color: #d4ebff;}#sk-container-id-6 div.sk-parallel-item::after {content: \"\";width: 100%;border-bottom: 1px solid gray;flex-grow: 1;}#sk-container-id-6 div.sk-label:hover label.sk-toggleable__label {background-color: #d4ebff;}#sk-container-id-6 div.sk-serial::before {content: \"\";position: absolute;border-left: 1px solid gray;box-sizing: border-box;top: 0;bottom: 0;left: 50%;z-index: 0;}#sk-container-id-6 div.sk-serial {display: flex;flex-direction: column;align-items: center;background-color: white;padding-right: 0.2em;padding-left: 0.2em;position: relative;}#sk-container-id-6 div.sk-item {position: relative;z-index: 1;}#sk-container-id-6 div.sk-parallel {display: flex;align-items: stretch;justify-content: center;background-color: white;position: relative;}#sk-container-id-6 div.sk-item::before, #sk-container-id-6 div.sk-parallel-item::before {content: \"\";position: absolute;border-left: 1px solid gray;box-sizing: border-box;top: 0;bottom: 0;left: 50%;z-index: -1;}#sk-container-id-6 div.sk-parallel-item {display: flex;flex-direction: column;z-index: 1;position: relative;background-color: white;}#sk-container-id-6 div.sk-parallel-item:first-child::after {align-self: flex-end;width: 50%;}#sk-container-id-6 div.sk-parallel-item:last-child::after {align-self: flex-start;width: 50%;}#sk-container-id-6 div.sk-parallel-item:only-child::after {width: 0;}#sk-container-id-6 div.sk-dashed-wrapped {border: 1px dashed gray;margin: 0 0.4em 0.5em 0.4em;box-sizing: border-box;padding-bottom: 0.4em;background-color: white;}#sk-container-id-6 div.sk-label label {font-family: monospace;font-weight: bold;display: inline-block;line-height: 1.2em;}#sk-container-id-6 div.sk-label-container {text-align: center;}#sk-container-id-6 div.sk-container {/* jupyter's `normalize.less` sets `[hidden] { display: none; }` but bootstrap.min.css set `[hidden] { display: none !important; }` so we also need the `!important` here to be able to override the default hidden behavior on the sphinx rendered scikit-learn.org. See: https://github.com/scikit-learn/scikit-learn/issues/21755 */display: inline-block !important;position: relative;}#sk-container-id-6 div.sk-text-repr-fallback {display: none;}</style><div id=\"sk-container-id-6\" class=\"sk-top-container\"><div class=\"sk-text-repr-fallback\"><pre>ElasticNet(alpha=0.1, l1_ratio=0.1)</pre><b>In a Jupyter environment, please rerun this cell to show the HTML representation or trust the notebook. <br />On GitHub, the HTML representation is unable to render, please try loading this page with nbviewer.org.</b></div><div class=\"sk-container\" hidden><div class=\"sk-item\"><div class=\"sk-estimator sk-toggleable\"><input class=\"sk-toggleable__control sk-hidden--visually\" id=\"sk-estimator-id-6\" type=\"checkbox\" checked><label for=\"sk-estimator-id-6\" class=\"sk-toggleable__label sk-toggleable__label-arrow\">ElasticNet</label><div class=\"sk-toggleable__content\"><pre>ElasticNet(alpha=0.1, l1_ratio=0.1)</pre></div></div></div></div></div>"
            ]
          },
          "metadata": {},
          "execution_count": 42
        }
      ],
      "source": [
        "# Elastic Net\n",
        "grid = {\n",
        "    'alpha': [0.1, 0.5, 1.0],  # Regularization strength\n",
        "    'l1_ratio': [0.1, 0.5, 0.7, 0.9]  # Mixing parameter, with 0 <= l1_ratio <= 1.\n",
        "}\n",
        "from sklearn.linear_model import ElasticNet\n",
        "model = ElasticNet()\n",
        "\n",
        "train_model(model, grid, X_train_scaled, y_train_scaled)"
      ]
    },
    {
      "cell_type": "code",
      "source": [
        "from datetime import datetime, timedelta\n",
        "\n",
        "\n",
        "start_date = datetime(2024, 1, 1)\n",
        "end_date = datetime(2024, 12, 31)\n",
        "\n",
        "results_df = pd.DataFrame(columns=['sample_index', 'max_revenue_date', 'max_revenue_value'])\n",
        "\n",
        "\n",
        "for index, row in X_test.iterrows():\n",
        "    vote_average = row['vote_average']\n",
        "    vote_count = row['vote_count']\n",
        "    runtime = row['runtime']\n",
        "    overview = row['overview']\n",
        "    budget = row['budget']\n",
        "\n",
        "    max_revenue_date = None\n",
        "    max_revenue_value = float('-inf')\n",
        "\n",
        "    current_date = start_date\n",
        "    while current_date <= end_date:\n",
        "\n",
        "        input_features = pd.DataFrame({\n",
        "            'vote_average': [vote_average],\n",
        "            'vote_count': [vote_count],\n",
        "            'runtime': [runtime],\n",
        "            'overview': [overview],\n",
        "            'release_month': [current_date.month],\n",
        "            'release_year': [current_date.year],\n",
        "            'release_day_of_week': [current_date.weekday()],\n",
        "            'release_season': [current_date.month % 12 // 3 + 1],\n",
        "            'budget': [budget]\n",
        "        })\n",
        "\n",
        "\n",
        "        input_features_scaled = scaler.transform(input_features)\n",
        "\n",
        "\n",
        "\n",
        "        predicted_revenue = RF_trained_model.predict(input_features_scaled)[0]\n",
        "\n",
        "\n",
        "        if predicted_revenue > max_revenue_value:\n",
        "            max_revenue_date = current_date\n",
        "            max_revenue_value = predicted_revenue\n",
        "\n",
        "\n",
        "\n",
        "        current_date += timedelta(days=1)\n",
        "\n",
        "    # Inverse transform the predicted maximum revenue using the same scaler used for the target variable\n",
        "    max_revenue_value = y_scaler.inverse_transform([[max_revenue_value]])[0][0]\n",
        "\n",
        "\n",
        "    new_row = pd.DataFrame([{\n",
        "    'sample_index': index,\n",
        "    'max_revenue_date': max_revenue_date,\n",
        "    'max_revenue_value': max_revenue_value\n",
        "}])\n",
        "\n",
        "\n",
        "    results_df = pd.concat([results_df,new_row], ignore_index=True)\n",
        "\n",
        "print(results_df)"
      ],
      "metadata": {
        "colab": {
          "base_uri": "https://localhost:8080/"
        },
        "id": "ogMwOlokixCs",
        "outputId": "c137a10f-2f8c-4f00-8a5f-c61f2da24cb6"
      },
      "execution_count": null,
      "outputs": [
        {
          "output_type": "stream",
          "name": "stdout",
          "text": [
            "    sample_index max_revenue_date  max_revenue_value\n",
            "0            858       2024-11-03       1.377930e+08\n",
            "1           1318       2024-01-07       5.541671e+07\n",
            "2           2892       2024-01-07       5.737219e+07\n",
            "3            133       2024-11-07       2.123965e+08\n",
            "4           1932       2024-01-07       8.630025e+07\n",
            "..           ...              ...                ...\n",
            "200          423       2024-11-04       1.197476e+08\n",
            "201         2579       2024-01-07       5.760468e+07\n",
            "202         2071       2024-12-01       1.281819e+08\n",
            "203          669       2024-12-01       9.823075e+07\n",
            "204        15026       2024-01-07       3.894095e+07\n",
            "\n",
            "[205 rows x 3 columns]\n"
          ]
        }
      ]
    },
    {
      "cell_type": "code",
      "source": [
        "animation_processed['release_season'].unique()"
      ],
      "metadata": {
        "colab": {
          "base_uri": "https://localhost:8080/"
        },
        "id": "xivFsfi4iJ9F",
        "outputId": "c6a38daa-5bff-4348-a259-e5ecc01442e1"
      },
      "execution_count": null,
      "outputs": [
        {
          "output_type": "execute_result",
          "data": {
            "text/plain": [
              "array([4, 1, 2, 3], dtype=int32)"
            ]
          },
          "metadata": {},
          "execution_count": 44
        }
      ]
    },
    {
      "cell_type": "code",
      "source": [
        "# Extract the release season from the 'max_revenue_date'\n",
        "results_df['release_season'] = results_df['max_revenue_date'].dt.month % 12 // 3 + 1\n",
        "\n",
        "# Group by release season and calculate the average predicted revenue\n",
        "seasonality_df = results_df.groupby('release_season')['max_revenue_value'].mean().reset_index()\n",
        "\n",
        "# Print the seasonality results\n",
        "print(\"Seasonality Analysis:\")\n",
        "print(\"---------------------\")\n",
        "print(seasonality_df)\n",
        "\n",
        "# Visualize the seasonality using a bar plot\n",
        "import matplotlib.pyplot as plt\n",
        "\n",
        "plt.figure(figsize=(8, 6))\n",
        "plt.bar(seasonality_df['release_season'], seasonality_df['max_revenue_value'])\n",
        "plt.xlabel('Release Season')\n",
        "plt.ylabel('Average Predicted Revenue')\n",
        "plt.title('Seasonality Analysis')\n",
        "plt.xticks(seasonality_df['release_season'], ['Winter', 'Spring', 'Summer', 'Fall'])\n",
        "plt.show()"
      ],
      "metadata": {
        "colab": {
          "base_uri": "https://localhost:8080/",
          "height": 685
        },
        "id": "a9yveBu0_vvy",
        "outputId": "ac477bcc-6ad9-496a-a95a-944a4f47fe29"
      },
      "execution_count": null,
      "outputs": [
        {
          "output_type": "stream",
          "name": "stdout",
          "text": [
            "Seasonality Analysis:\n",
            "---------------------\n",
            "   release_season  max_revenue_value\n",
            "0               1       1.007851e+08\n",
            "1               2       7.917446e+08\n",
            "2               3       7.411642e+08\n",
            "3               4       1.356278e+08\n"
          ]
        },
        {
          "output_type": "display_data",
          "data": {
            "text/plain": [
              "<Figure size 800x600 with 1 Axes>"
            ],
            "image/png": "[encoded data removed]"
          },
          "metadata": {}
        }
      ]
    },
    {
      "cell_type": "code",
      "source": [
        "from scipy.stats import f_oneway\n",
        "\n",
        "winter_revenue = results_df[results_df['release_season'] == 1]['max_revenue_value']\n",
        "spring_revenue = results_df[results_df['release_season'] == 2]['max_revenue_value']\n",
        "summer_revenue = results_df[results_df['release_season'] == 3]['max_revenue_value']\n",
        "fall_revenue = results_df[results_df['release_season'] == 4]['max_revenue_value']\n",
        "\n",
        "f_statistic, p_value = f_oneway(winter_revenue, spring_revenue, summer_revenue, fall_revenue)\n",
        "\n",
        "print(\"\\nOne-way ANOVA Results:\")\n",
        "print(\"----------------------\")\n",
        "print(f\"F-statistic: {f_statistic}\")\n",
        "print(f\"p-value: {p_value}\")\n"
      ],
      "metadata": {
        "colab": {
          "base_uri": "https://localhost:8080/"
        },
        "id": "CHSgDJPgA3Bt",
        "outputId": "7e516c64-d6e6-480a-fbb0-baa3ed11f83a"
      },
      "execution_count": null,
      "outputs": [
        {
          "output_type": "stream",
          "name": "stdout",
          "text": [
            "\n",
            "One-way ANOVA Results:\n",
            "----------------------\n",
            "F-statistic: 366.5983330269283\n",
            "p-value: 3.25318403426854e-81\n"
          ]
        }
      ]
    },
    {
      "cell_type": "code",
      "source": [
        "importances = RF_trained_model.feature_importances_\n",
        "\n",
        "feature_names = X.columns\n",
        "\n",
        "indices = np.argsort(importances)[::-1]\n",
        "\n",
        "plt.figure(figsize=(10, 6))\n",
        "plt.barh(range(len(importances)), importances[indices])\n",
        "plt.yticks(range(len(importances)), feature_names[indices])\n",
        "plt.xlabel('Importance')\n",
        "plt.ylabel('Features')\n",
        "plt.title('Feature Importance')\n",
        "plt.tight_layout()\n",
        "plt.show()"
      ],
      "metadata": {
        "colab": {
          "base_uri": "https://localhost:8080/",
          "height": 607
        },
        "id": "W-Cy8TIHE-fc",
        "outputId": "1de85d43-5d05-4553-9d13-736176c598d1"
      },
      "execution_count": null,
      "outputs": [
        {
          "output_type": "display_data",
          "data": {
            "text/plain": [
              "<Figure size 1000x600 with 1 Axes>"
            ],
            "image/png": "[encoded data removed]"
          },
          "metadata": {}
        }
      ]
    },
    {
      "cell_type": "markdown",
      "source": [
        "## Method 2"
      ],
      "metadata": {
        "id": "icMf_FELRgsx"
      }
    },
    {
      "cell_type": "code",
      "source": [
        "from datetime import datetime\n",
        "\n",
        "animation_processed['release_date'] = pd.to_datetime(animation_processed['release_date'])\n",
        "\n",
        "# Find the earliest date in the 'release_date' column\n",
        "reference_date = animation_processed['release_date'].min()\n",
        "\n",
        "animation_processed['days_since_ref'] = (animation_processed['release_date'] - reference_date).dt.days\n",
        "animation_processed = animation_processed.drop('release_date', axis=1)"
      ],
      "metadata": {
        "id": "z3HTcovfSJJw"
      },
      "execution_count": null,
      "outputs": []
    },
    {
      "cell_type": "code",
      "source": [
        "from sklearn.preprocessing import StandardScaler\n",
        "from sklearn.model_selection import train_test_split\n",
        "\n",
        "\n",
        "# Extract relevant features for prediction\n",
        "X = animation_processed[['vote_average', 'vote_count', 'runtime', 'overview', 'days_since_ref' ,'release_season', 'budget']]\n",
        "y = animation_processed['revenue']\n",
        "\n",
        "\n",
        "X_train, X_test, y_train, y_test = train_test_split(X, y, test_size=0.2, random_state=42)\n",
        "\n",
        "# Scale the features\n",
        "scaler = StandardScaler()\n",
        "X_train_scaled = scaler.fit_transform(X_train)\n",
        "X_test_scaled = scaler.transform(X_test)\n",
        "# Scale the target variable\n",
        "y_scaler = StandardScaler()\n",
        "y_train_scaled = y_scaler.fit_transform(y_train.values.reshape(-1, 1)).flatten()\n",
        "y_test_scaled = y_scaler.transform(y_test.values.reshape(-1, 1)).flatten()"
      ],
      "metadata": {
        "id": "xF23G9cFUSSR"
      },
      "execution_count": null,
      "outputs": []
    },
    {
      "cell_type": "code",
      "source": [
        "from sklearn.ensemble import RandomForestRegressor\n",
        "grid ={}\n",
        "model = RandomForestRegressor()\n",
        "RF_trained_model = train_model(model, grid, X_train_scaled, y_train_scaled)"
      ],
      "metadata": {
        "colab": {
          "base_uri": "https://localhost:8080/"
        },
        "id": "8_gYiNIOXBM5",
        "outputId": "981348c4-5945-4c03-a4b7-1bdbf6ca017c"
      },
      "execution_count": null,
      "outputs": [
        {
          "output_type": "stream",
          "name": "stderr",
          "text": [
            "/usr/local/lib/python3.10/dist-packages/joblib/externals/loky/backend/fork_exec.py:38: RuntimeWarning: os.fork() was called. os.fork() is incompatible with multithreaded code, and JAX is multithreaded, so this will likely lead to a deadlock.\n",
            "  pid = os.fork()\n"
          ]
        },
        {
          "output_type": "stream",
          "name": "stdout",
          "text": [
            "Training Metrics:\n",
            "-----------------\n",
            "Best R-squared on training data: 0.959669 using the following parameters: {}\n",
            "Best Adjusted R-squared on training data: 0.959320\n",
            "Mean Absolute Error on training data: 0.088358\n",
            "Mean Squared Error on training data: 0.040331\n",
            "\n",
            "Cross-Validation Metrics:\n",
            "-------------------------\n",
            "R-squared: 0.669951 (0.262598) with parameters: {}\n"
          ]
        }
      ]
    },
    {
      "cell_type": "code",
      "source": [
        "# Random Forest is best, try on test set\n",
        "y_pred_RF = RF_trained_model.predict(X_test_scaled)\n",
        "# Printing Testing metrics\n",
        "print(\"Testing Metrics:\")\n",
        "print(\"-----------------\")\n",
        "print(\"Best R-squared on testing data: %f \" % (r2_score(y_test_scaled, y_pred_RF)))\n",
        "print(\"Mean Absolute Error on testing data: %f\" % mean_absolute_error(y_test_scaled, y_pred_RF))\n",
        "print(\"Mean Squared Error on testing data: %f\" % mean_squared_error(y_test_scaled, y_pred_RF))"
      ],
      "metadata": {
        "colab": {
          "base_uri": "https://localhost:8080/"
        },
        "id": "E72a74l9XSqo",
        "outputId": "1c65fdcb-392b-45c3-d4f8-2b1e5d368626"
      },
      "execution_count": null,
      "outputs": [
        {
          "output_type": "stream",
          "name": "stdout",
          "text": [
            "Testing Metrics:\n",
            "-----------------\n",
            "Best R-squared on testing data: 0.828233 \n",
            "Mean Absolute Error on testing data: 0.222037\n",
            "Mean Squared Error on testing data: 0.195583\n"
          ]
        }
      ]
    },
    {
      "cell_type": "code",
      "source": [
        "from datetime import datetime, timedelta\n",
        "\n",
        "results_df = pd.DataFrame(columns=['sample_index', 'max_revenue_date', 'max_revenue_value'])\n",
        "\n",
        "for index, row in X_test.iterrows():\n",
        "    vote_average = row['vote_average']\n",
        "    vote_count = row['vote_count']\n",
        "    runtime = row['runtime']\n",
        "    overview = row['overview']\n",
        "    budget = row['budget']\n",
        "    release_season = row['release_season']\n",
        "    days_since_ref = row['days_since_ref']\n",
        "\n",
        "    # Calculate the actual release date for the test sample\n",
        "    release_date = reference_date + timedelta(days=days_since_ref)\n",
        "\n",
        "    # Set the start and end dates based on the release date\n",
        "    start_date = release_date\n",
        "    end_date = release_date + timedelta(days=365)\n",
        "\n",
        "    max_revenue_date = None\n",
        "    max_revenue_value = float('-inf')\n",
        "\n",
        "    current_date = start_date\n",
        "    while current_date <= end_date:\n",
        "        days_since_ref = (current_date - reference_date).days\n",
        "\n",
        "        input_features = pd.DataFrame({\n",
        "            'vote_average': [vote_average],\n",
        "            'vote_count': [vote_count],\n",
        "            'runtime': [runtime],\n",
        "            'overview': [overview],\n",
        "            'days_since_ref': [days_since_ref],\n",
        "            'release_season': [release_season],\n",
        "            'budget': [budget]\n",
        "        })\n",
        "\n",
        "        input_features_scaled = scaler.transform(input_features)\n",
        "        predicted_revenue = RF_trained_model.predict(input_features_scaled)[0]\n",
        "\n",
        "        if predicted_revenue > max_revenue_value:\n",
        "            max_revenue_date = current_date\n",
        "            max_revenue_value = predicted_revenue\n",
        "\n",
        "        current_date += timedelta(days=1)\n",
        "\n",
        "    # Inverse transform the predicted maximum revenue using the same scaler used for the target variable\n",
        "    max_revenue_value = y_scaler.inverse_transform([[max_revenue_value]])[0][0]\n",
        "\n",
        "    # Format the date as \"mm-dd-yyyy\"\n",
        "    formatted_date = max_revenue_date.strftime(\"%m-%d-%Y\")\n",
        "\n",
        "    new_row = pd.DataFrame([{\n",
        "        'sample_index': index,\n",
        "        'max_revenue_date': formatted_date,\n",
        "        'max_revenue_value': max_revenue_value\n",
        "    }])\n",
        "\n",
        "    results_df = pd.concat([results_df, new_row], ignore_index=True)\n",
        "\n",
        "print(results_df)"
      ],
      "metadata": {
        "colab": {
          "base_uri": "https://localhost:8080/"
        },
        "id": "c5IW_W-ZXaMx",
        "outputId": "df2bdddb-0179-4c43-b12e-c878d655c35e"
      },
      "execution_count": null,
      "outputs": [
        {
          "output_type": "stream",
          "name": "stdout",
          "text": [
            "    sample_index max_revenue_date  max_revenue_value\n",
            "0            858       01-07-2023       1.385319e+08\n",
            "1           1318       05-01-2012       6.852220e+06\n",
            "2           2892       04-03-2017       3.400564e+06\n",
            "3            133       11-08-1973       7.863896e+07\n",
            "4           1932       12-17-2015       5.178023e+07\n",
            "..           ...              ...                ...\n",
            "200          423       10-06-2011       1.149347e+08\n",
            "201         2579       01-11-2018       4.457915e+06\n",
            "202         2071       01-24-2022       5.845061e+07\n",
            "203          669       07-15-2014       3.901492e+07\n",
            "204        15026       06-17-2018       1.537495e+04\n",
            "\n",
            "[205 rows x 3 columns]\n"
          ]
        }
      ]
    },
    {
      "cell_type": "code",
      "source": [
        "import matplotlib.pyplot as plt\n",
        "\n",
        "# Extract the month from the 'max_revenue_date' column\n",
        "results_df['max_revenue_month'] = pd.to_datetime(results_df['max_revenue_date']).dt.month\n",
        "\n",
        "# Map the month numbers to season names\n",
        "season_map = {\n",
        "    12: 'Winter', 1: 'Winter', 2: 'Winter',\n",
        "    3: 'Spring', 4: 'Spring', 5: 'Spring',\n",
        "    6: 'Summer', 7: 'Summer', 8: 'Summer',\n",
        "    9: 'Fall', 10: 'Fall', 11: 'Fall'\n",
        "}\n",
        "\n",
        "# Create a new column 'max_revenue_season' based on the 'max_revenue_month'\n",
        "results_df['max_revenue_season'] = results_df['max_revenue_month'].map(season_map)\n",
        "\n",
        "# Group by 'max_revenue_season' and calculate the mean 'max_revenue_value'\n",
        "seasonality_df = results_df.groupby('max_revenue_season')['max_revenue_value'].mean().reset_index()\n",
        "\n",
        "# Create a bar plot of the seasonality analysis\n",
        "plt.figure(figsize=(8, 6))\n",
        "plt.bar(seasonality_df['max_revenue_season'], seasonality_df['max_revenue_value'])\n",
        "plt.xlabel('Season')\n",
        "plt.ylabel('Average Maximum Revenue')\n",
        "plt.title('Seasonality Analysis')\n",
        "plt.show()"
      ],
      "metadata": {
        "colab": {
          "base_uri": "https://localhost:8080/",
          "height": 564
        },
        "id": "E21Vw9zHYqwf",
        "outputId": "1360cf62-c2a3-41f2-cb08-3dfea082a007"
      },
      "execution_count": null,
      "outputs": [
        {
          "output_type": "display_data",
          "data": {
            "text/plain": [
              "<Figure size 800x600 with 1 Axes>"
            ],
            "image/png": "[encoded data removed]"
          },
          "metadata": {}
        }
      ]
    },
    {
      "cell_type": "code",
      "source": [
        "importances = RF_trained_model.feature_importances_\n",
        "\n",
        "feature_names = X.columns\n",
        "\n",
        "indices = np.argsort(importances)[::-1]\n",
        "\n",
        "plt.figure(figsize=(10, 6))\n",
        "plt.barh(range(len(importances)), importances[indices])\n",
        "plt.yticks(range(len(importances)), feature_names[indices])\n",
        "plt.xlabel('Importance')\n",
        "plt.ylabel('Features')\n",
        "plt.title('Feature Importance')\n",
        "plt.tight_layout()\n",
        "plt.show()"
      ],
      "metadata": {
        "colab": {
          "base_uri": "https://localhost:8080/",
          "height": 607
        },
        "id": "FrMvtF72eF-A",
        "outputId": "1f635ef6-f47c-47ca-ce97-ed01476f4961"
      },
      "execution_count": null,
      "outputs": [
        {
          "output_type": "display_data",
          "data": {
            "text/plain": [
              "<Figure size 1000x600 with 1 Axes>"
            ],
            "image/png": "[encoded data removed]"
          },
          "metadata": {}
        }
      ]
    },
    {
      "cell_type": "code",
      "source": [
        "seasons = results_df['max_revenue_season'].unique()\n",
        "revenue_data = [results_df[results_df['max_revenue_season'] == season]['max_revenue_value'] for season in seasons]\n",
        "f_statistic, p_value = f_oneway(*revenue_data)\n",
        "\n",
        "print(\"One-way ANOVA:\")\n",
        "print(\"F-statistic:\", f_statistic)\n",
        "print(\"p-value:\", p_value)"
      ],
      "metadata": {
        "colab": {
          "base_uri": "https://localhost:8080/"
        },
        "id": "VWSchXCve1lg",
        "outputId": "f009726c-8594-494f-80c7-cdf86e871362"
      },
      "execution_count": null,
      "outputs": [
        {
          "output_type": "stream",
          "name": "stdout",
          "text": [
            "One-way ANOVA:\n",
            "F-statistic: 1.2292951516443122\n",
            "p-value: 0.30016516111742975\n"
          ]
        }
      ]
    },
    {
      "cell_type": "code",
      "source": [
        "from scipy.stats import f_oneway\n",
        "\n",
        "# Convert 'release_date' to datetime format\n",
        "animation_processed['release_date'] = pd.to_datetime(data['release_date'])\n",
        "\n",
        "# Group 'release_date' into years or any other suitable interval\n",
        "animation_processed['release_year'] = animation_processed['release_date'].dt.year\n",
        "\n",
        "# Perform one-way ANOVA\n",
        "years = animation_processed['release_year'].unique()\n",
        "revenue_data = [animation_processed[animation_processed['release_year'] == year]['revenue'] for year in years]\n",
        "f_statistic, p_value = f_oneway(*revenue_data)\n",
        "\n",
        "print(\"One-way ANOVA (Revenue vs Release Year):\")\n",
        "print(\"F-statistic:\", f_statistic)\n",
        "print(\"p-value:\", p_value)\n",
        "\n",
        "# Create a bar plot of the revenue by release year\n",
        "revenue_by_year = animation_processed.groupby('release_year')['revenue'].mean().reset_index()\n",
        "\n",
        "plt.figure(figsize=(10, 6))\n",
        "plt.bar(revenue_by_year['release_year'], revenue_by_year['revenue'])\n",
        "plt.xlabel('Release Year')\n",
        "plt.ylabel('Average Revenue')\n",
        "plt.title('Revenue by Release Year')\n",
        "plt.xticks()\n",
        "plt.show()"
      ],
      "metadata": {
        "colab": {
          "base_uri": "https://localhost:8080/",
          "height": 616
        },
        "id": "sL8Jk3fof2bX",
        "outputId": "c7d2a9de-5250-418d-b44d-7a2d78708167"
      },
      "execution_count": null,
      "outputs": [
        {
          "output_type": "stream",
          "name": "stdout",
          "text": [
            "One-way ANOVA (Revenue vs Release Year):\n",
            "F-statistic: 0.5369327781461589\n",
            "p-value: 0.9993655388109791\n"
          ]
        },
        {
          "output_type": "display_data",
          "data": {
            "text/plain": [
              "<Figure size 1000x600 with 1 Axes>"
            ],
            "image/png": "[encoded data removed]"
          },
          "metadata": {}
        }
      ]
    },
    {
      "cell_type": "markdown",
      "source": [
        "In Method 2,we have encoded date in different way. Instead of seperating date into three different entities, date is encoded as a single entity. A reference date is which is the earliest date in the dataset. All the dates are calculated as difference from actual date and the reference date.\n",
        "\n",
        "**Result** : Encoding date in this method is giving comparetively less accuracy. Hence we are prefering the 1st method."
      ],
      "metadata": {
        "id": "QwzMf_X4vPHV"
      }
    },
    {
      "cell_type": "code",
      "source": [],
      "metadata": {
        "id": "DE5GoVqFwHiJ"
      },
      "execution_count": null,
      "outputs": []
    }
  ],
  "metadata": {
    "accelerator": "GPU",
    "colab": {
      "gpuType": "T4",
      "machine_shape": "hm",
      "provenance": [],
      "toc_visible": true
    },
    "kernelspec": {
      "display_name": "Python 3",
      "name": "python3"
    },
    "language_info": {
      "name": "python"
    },
    "widgets": {
      "application/vnd.jupyter.widget-state+json": {
        "bf7ffb451f0843a5a86bd23481e44156": {
          "model_module": "@jupyter-widgets/controls",
          "model_name": "HBoxModel",
          "model_module_version": "1.5.0",
          "state": {
            "_dom_classes": [],
            "_model_module": "@jupyter-widgets/controls",
            "_model_module_version": "1.5.0",
            "_model_name": "HBoxModel",
            "_view_count": null,
            "_view_module": "@jupyter-widgets/controls",
            "_view_module_version": "1.5.0",
            "_view_name": "HBoxView",
            "box_style": "",
            "children": [
              "IPY_MODEL_69003bb755504ff88a25ae6f2e2055c1",
              "IPY_MODEL_c1a03a3d8efb4631954e072a733c877c",
              "IPY_MODEL_7e869f69ac2a4d83ac8de245843a0710"
            ],
            "layout": "IPY_MODEL_a6b0b01235a34cb7ab020f999997ca80"
          }
        },
        "69003bb755504ff88a25ae6f2e2055c1": {
          "model_module": "@jupyter-widgets/controls",
          "model_name": "HTMLModel",
          "model_module_version": "1.5.0",
          "state": {
            "_dom_classes": [],
            "_model_module": "@jupyter-widgets/controls",
            "_model_module_version": "1.5.0",
            "_model_name": "HTMLModel",
            "_view_count": null,
            "_view_module": "@jupyter-widgets/controls",
            "_view_module_version": "1.5.0",
            "_view_name": "HTMLView",
            "description": "",
            "description_tooltip": null,
            "layout": "IPY_MODEL_a51ae7de335245618710f65cf10e0a37",
            "placeholder": "​",
            "style": "IPY_MODEL_496b51e1286d4ea98a5736bc298cdaba",
            "value": "tokenizer_config.json: 100%"
          }
        },
        "c1a03a3d8efb4631954e072a733c877c": {
          "model_module": "@jupyter-widgets/controls",
          "model_name": "FloatProgressModel",
          "model_module_version": "1.5.0",
          "state": {
            "_dom_classes": [],
            "_model_module": "@jupyter-widgets/controls",
            "_model_module_version": "1.5.0",
            "_model_name": "FloatProgressModel",
            "_view_count": null,
            "_view_module": "@jupyter-widgets/controls",
            "_view_module_version": "1.5.0",
            "_view_name": "ProgressView",
            "bar_style": "success",
            "description": "",
            "description_tooltip": null,
            "layout": "IPY_MODEL_2d1261cfc85d4621b4f4c0acc3cabfe2",
            "max": 49,
            "min": 0,
            "orientation": "horizontal",
            "style": "IPY_MODEL_8c75ec15731444729cf39ecedfffbe65",
            "value": 49
          }
        },
        "7e869f69ac2a4d83ac8de245843a0710": {
          "model_module": "@jupyter-widgets/controls",
          "model_name": "HTMLModel",
          "model_module_version": "1.5.0",
          "state": {
            "_dom_classes": [],
            "_model_module": "@jupyter-widgets/controls",
            "_model_module_version": "1.5.0",
            "_model_name": "HTMLModel",
            "_view_count": null,
            "_view_module": "@jupyter-widgets/controls",
            "_view_module_version": "1.5.0",
            "_view_name": "HTMLView",
            "description": "",
            "description_tooltip": null,
            "layout": "IPY_MODEL_d9a9fc43f77d4ebdbb11086e65c1e1ce",
            "placeholder": "​",
            "style": "IPY_MODEL_eec8efde20da4f24b24f19032782dc4d",
            "value": " 49.0/49.0 [00:00&lt;00:00, 4.18kB/s]"
          }
        },
        "a6b0b01235a34cb7ab020f999997ca80": {
          "model_module": "@jupyter-widgets/base",
          "model_name": "LayoutModel",
          "model_module_version": "1.2.0",
          "state": {
            "_model_module": "@jupyter-widgets/base",
            "_model_module_version": "1.2.0",
            "_model_name": "LayoutModel",
            "_view_count": null,
            "_view_module": "@jupyter-widgets/base",
            "_view_module_version": "1.2.0",
            "_view_name": "LayoutView",
            "align_content": null,
            "align_items": null,
            "align_self": null,
            "border": null,
            "bottom": null,
            "display": null,
            "flex": null,
            "flex_flow": null,
            "grid_area": null,
            "grid_auto_columns": null,
            "grid_auto_flow": null,
            "grid_auto_rows": null,
            "grid_column": null,
            "grid_gap": null,
            "grid_row": null,
            "grid_template_areas": null,
            "grid_template_columns": null,
            "grid_template_rows": null,
            "height": null,
            "justify_content": null,
            "justify_items": null,
            "left": null,
            "margin": null,
            "max_height": null,
            "max_width": null,
            "min_height": null,
            "min_width": null,
            "object_fit": null,
            "object_position": null,
            "order": null,
            "overflow": null,
            "overflow_x": null,
            "overflow_y": null,
            "padding": null,
            "right": null,
            "top": null,
            "visibility": null,
            "width": null
          }
        },
        "a51ae7de335245618710f65cf10e0a37": {
          "model_module": "@jupyter-widgets/base",
          "model_name": "LayoutModel",
          "model_module_version": "1.2.0",
          "state": {
            "_model_module": "@jupyter-widgets/base",
            "_model_module_version": "1.2.0",
            "_model_name": "LayoutModel",
            "_view_count": null,
            "_view_module": "@jupyter-widgets/base",
            "_view_module_version": "1.2.0",
            "_view_name": "LayoutView",
            "align_content": null,
            "align_items": null,
            "align_self": null,
            "border": null,
            "bottom": null,
            "display": null,
            "flex": null,
            "flex_flow": null,
            "grid_area": null,
            "grid_auto_columns": null,
            "grid_auto_flow": null,
            "grid_auto_rows": null,
            "grid_column": null,
            "grid_gap": null,
            "grid_row": null,
            "grid_template_areas": null,
            "grid_template_columns": null,
            "grid_template_rows": null,
            "height": null,
            "justify_content": null,
            "justify_items": null,
            "left": null,
            "margin": null,
            "max_height": null,
            "max_width": null,
            "min_height": null,
            "min_width": null,
            "object_fit": null,
            "object_position": null,
            "order": null,
            "overflow": null,
            "overflow_x": null,
            "overflow_y": null,
            "padding": null,
            "right": null,
            "top": null,
            "visibility": null,
            "width": null
          }
        },
        "496b51e1286d4ea98a5736bc298cdaba": {
          "model_module": "@jupyter-widgets/controls",
          "model_name": "DescriptionStyleModel",
          "model_module_version": "1.5.0",
          "state": {
            "_model_module": "@jupyter-widgets/controls",
            "_model_module_version": "1.5.0",
            "_model_name": "DescriptionStyleModel",
            "_view_count": null,
            "_view_module": "@jupyter-widgets/base",
            "_view_module_version": "1.2.0",
            "_view_name": "StyleView",
            "description_width": ""
          }
        },
        "2d1261cfc85d4621b4f4c0acc3cabfe2": {
          "model_module": "@jupyter-widgets/base",
          "model_name": "LayoutModel",
          "model_module_version": "1.2.0",
          "state": {
            "_model_module": "@jupyter-widgets/base",
            "_model_module_version": "1.2.0",
            "_model_name": "LayoutModel",
            "_view_count": null,
            "_view_module": "@jupyter-widgets/base",
            "_view_module_version": "1.2.0",
            "_view_name": "LayoutView",
            "align_content": null,
            "align_items": null,
            "align_self": null,
            "border": null,
            "bottom": null,
            "display": null,
            "flex": null,
            "flex_flow": null,
            "grid_area": null,
            "grid_auto_columns": null,
            "grid_auto_flow": null,
            "grid_auto_rows": null,
            "grid_column": null,
            "grid_gap": null,
            "grid_row": null,
            "grid_template_areas": null,
            "grid_template_columns": null,
            "grid_template_rows": null,
            "height": null,
            "justify_content": null,
            "justify_items": null,
            "left": null,
            "margin": null,
            "max_height": null,
            "max_width": null,
            "min_height": null,
            "min_width": null,
            "object_fit": null,
            "object_position": null,
            "order": null,
            "overflow": null,
            "overflow_x": null,
            "overflow_y": null,
            "padding": null,
            "right": null,
            "top": null,
            "visibility": null,
            "width": null
          }
        },
        "8c75ec15731444729cf39ecedfffbe65": {
          "model_module": "@jupyter-widgets/controls",
          "model_name": "ProgressStyleModel",
          "model_module_version": "1.5.0",
          "state": {
            "_model_module": "@jupyter-widgets/controls",
            "_model_module_version": "1.5.0",
            "_model_name": "ProgressStyleModel",
            "_view_count": null,
            "_view_module": "@jupyter-widgets/base",
            "_view_module_version": "1.2.0",
            "_view_name": "StyleView",
            "bar_color": null,
            "description_width": ""
          }
        },
        "d9a9fc43f77d4ebdbb11086e65c1e1ce": {
          "model_module": "@jupyter-widgets/base",
          "model_name": "LayoutModel",
          "model_module_version": "1.2.0",
          "state": {
            "_model_module": "@jupyter-widgets/base",
            "_model_module_version": "1.2.0",
            "_model_name": "LayoutModel",
            "_view_count": null,
            "_view_module": "@jupyter-widgets/base",
            "_view_module_version": "1.2.0",
            "_view_name": "LayoutView",
            "align_content": null,
            "align_items": null,
            "align_self": null,
            "border": null,
            "bottom": null,
            "display": null,
            "flex": null,
            "flex_flow": null,
            "grid_area": null,
            "grid_auto_columns": null,
            "grid_auto_flow": null,
            "grid_auto_rows": null,
            "grid_column": null,
            "grid_gap": null,
            "grid_row": null,
            "grid_template_areas": null,
            "grid_template_columns": null,
            "grid_template_rows": null,
            "height": null,
            "justify_content": null,
            "justify_items": null,
            "left": null,
            "margin": null,
            "max_height": null,
            "max_width": null,
            "min_height": null,
            "min_width": null,
            "object_fit": null,
            "object_position": null,
            "order": null,
            "overflow": null,
            "overflow_x": null,
            "overflow_y": null,
            "padding": null,
            "right": null,
            "top": null,
            "visibility": null,
            "width": null
          }
        },
        "eec8efde20da4f24b24f19032782dc4d": {
          "model_module": "@jupyter-widgets/controls",
          "model_name": "DescriptionStyleModel",
          "model_module_version": "1.5.0",
          "state": {
            "_model_module": "@jupyter-widgets/controls",
            "_model_module_version": "1.5.0",
            "_model_name": "DescriptionStyleModel",
            "_view_count": null,
            "_view_module": "@jupyter-widgets/base",
            "_view_module_version": "1.2.0",
            "_view_name": "StyleView",
            "description_width": ""
          }
        },
        "ba3bf67994874310ad15dd10d92c4589": {
          "model_module": "@jupyter-widgets/controls",
          "model_name": "HBoxModel",
          "model_module_version": "1.5.0",
          "state": {
            "_dom_classes": [],
            "_model_module": "@jupyter-widgets/controls",
            "_model_module_version": "1.5.0",
            "_model_name": "HBoxModel",
            "_view_count": null,
            "_view_module": "@jupyter-widgets/controls",
            "_view_module_version": "1.5.0",
            "_view_name": "HBoxView",
            "box_style": "",
            "children": [
              "IPY_MODEL_b5622cfad91241538566b5cbd8b82ee8",
              "IPY_MODEL_ef7bca9b28a74a5a8a6f4793ae8fdd5e",
              "IPY_MODEL_87d847e2dfe74269ae1fe319ae497468"
            ],
            "layout": "IPY_MODEL_f98f8c211ccd4b3cba1f52cb240e26f4"
          }
        },
        "b5622cfad91241538566b5cbd8b82ee8": {
          "model_module": "@jupyter-widgets/controls",
          "model_name": "HTMLModel",
          "model_module_version": "1.5.0",
          "state": {
            "_dom_classes": [],
            "_model_module": "@jupyter-widgets/controls",
            "_model_module_version": "1.5.0",
            "_model_name": "HTMLModel",
            "_view_count": null,
            "_view_module": "@jupyter-widgets/controls",
            "_view_module_version": "1.5.0",
            "_view_name": "HTMLView",
            "description": "",
            "description_tooltip": null,
            "layout": "IPY_MODEL_bc9a2af59e424db7860bcb4177c36c59",
            "placeholder": "​",
            "style": "IPY_MODEL_a3d1fb6911594dd0b84872fae7c172ef",
            "value": "config.json: 100%"
          }
        },
        "ef7bca9b28a74a5a8a6f4793ae8fdd5e": {
          "model_module": "@jupyter-widgets/controls",
          "model_name": "FloatProgressModel",
          "model_module_version": "1.5.0",
          "state": {
            "_dom_classes": [],
            "_model_module": "@jupyter-widgets/controls",
            "_model_module_version": "1.5.0",
            "_model_name": "FloatProgressModel",
            "_view_count": null,
            "_view_module": "@jupyter-widgets/controls",
            "_view_module_version": "1.5.0",
            "_view_name": "ProgressView",
            "bar_style": "success",
            "description": "",
            "description_tooltip": null,
            "layout": "IPY_MODEL_013b6345c03a493f8f9ea832e9fbb4f7",
            "max": 570,
            "min": 0,
            "orientation": "horizontal",
            "style": "IPY_MODEL_5895c88da6c746f8b0a215e2ac8a5aa1",
            "value": 570
          }
        },
        "87d847e2dfe74269ae1fe319ae497468": {
          "model_module": "@jupyter-widgets/controls",
          "model_name": "HTMLModel",
          "model_module_version": "1.5.0",
          "state": {
            "_dom_classes": [],
            "_model_module": "@jupyter-widgets/controls",
            "_model_module_version": "1.5.0",
            "_model_name": "HTMLModel",
            "_view_count": null,
            "_view_module": "@jupyter-widgets/controls",
            "_view_module_version": "1.5.0",
            "_view_name": "HTMLView",
            "description": "",
            "description_tooltip": null,
            "layout": "IPY_MODEL_d61b9fb2cd5e4b4da5a9f72c494961e3",
            "placeholder": "​",
            "style": "IPY_MODEL_6dd55dc5a33b4b56bd39db97d652bb55",
            "value": " 570/570 [00:00&lt;00:00, 49.9kB/s]"
          }
        },
        "f98f8c211ccd4b3cba1f52cb240e26f4": {
          "model_module": "@jupyter-widgets/base",
          "model_name": "LayoutModel",
          "model_module_version": "1.2.0",
          "state": {
            "_model_module": "@jupyter-widgets/base",
            "_model_module_version": "1.2.0",
            "_model_name": "LayoutModel",
            "_view_count": null,
            "_view_module": "@jupyter-widgets/base",
            "_view_module_version": "1.2.0",
            "_view_name": "LayoutView",
            "align_content": null,
            "align_items": null,
            "align_self": null,
            "border": null,
            "bottom": null,
            "display": null,
            "flex": null,
            "flex_flow": null,
            "grid_area": null,
            "grid_auto_columns": null,
            "grid_auto_flow": null,
            "grid_auto_rows": null,
            "grid_column": null,
            "grid_gap": null,
            "grid_row": null,
            "grid_template_areas": null,
            "grid_template_columns": null,
            "grid_template_rows": null,
            "height": null,
            "justify_content": null,
            "justify_items": null,
            "left": null,
            "margin": null,
            "max_height": null,
            "max_width": null,
            "min_height": null,
            "min_width": null,
            "object_fit": null,
            "object_position": null,
            "order": null,
            "overflow": null,
            "overflow_x": null,
            "overflow_y": null,
            "padding": null,
            "right": null,
            "top": null,
            "visibility": null,
            "width": null
          }
        },
        "bc9a2af59e424db7860bcb4177c36c59": {
          "model_module": "@jupyter-widgets/base",
          "model_name": "LayoutModel",
          "model_module_version": "1.2.0",
          "state": {
            "_model_module": "@jupyter-widgets/base",
            "_model_module_version": "1.2.0",
            "_model_name": "LayoutModel",
            "_view_count": null,
            "_view_module": "@jupyter-widgets/base",
            "_view_module_version": "1.2.0",
            "_view_name": "LayoutView",
            "align_content": null,
            "align_items": null,
            "align_self": null,
            "border": null,
            "bottom": null,
            "display": null,
            "flex": null,
            "flex_flow": null,
            "grid_area": null,
            "grid_auto_columns": null,
            "grid_auto_flow": null,
            "grid_auto_rows": null,
            "grid_column": null,
            "grid_gap": null,
            "grid_row": null,
            "grid_template_areas": null,
            "grid_template_columns": null,
            "grid_template_rows": null,
            "height": null,
            "justify_content": null,
            "justify_items": null,
            "left": null,
            "margin": null,
            "max_height": null,
            "max_width": null,
            "min_height": null,
            "min_width": null,
            "object_fit": null,
            "object_position": null,
            "order": null,
            "overflow": null,
            "overflow_x": null,
            "overflow_y": null,
            "padding": null,
            "right": null,
            "top": null,
            "visibility": null,
            "width": null
          }
        },
        "a3d1fb6911594dd0b84872fae7c172ef": {
          "model_module": "@jupyter-widgets/controls",
          "model_name": "DescriptionStyleModel",
          "model_module_version": "1.5.0",
          "state": {
            "_model_module": "@jupyter-widgets/controls",
            "_model_module_version": "1.5.0",
            "_model_name": "DescriptionStyleModel",
            "_view_count": null,
            "_view_module": "@jupyter-widgets/base",
            "_view_module_version": "1.2.0",
            "_view_name": "StyleView",
            "description_width": ""
          }
        },
        "013b6345c03a493f8f9ea832e9fbb4f7": {
          "model_module": "@jupyter-widgets/base",
          "model_name": "LayoutModel",
          "model_module_version": "1.2.0",
          "state": {
            "_model_module": "@jupyter-widgets/base",
            "_model_module_version": "1.2.0",
            "_model_name": "LayoutModel",
            "_view_count": null,
            "_view_module": "@jupyter-widgets/base",
            "_view_module_version": "1.2.0",
            "_view_name": "LayoutView",
            "align_content": null,
            "align_items": null,
            "align_self": null,
            "border": null,
            "bottom": null,
            "display": null,
            "flex": null,
            "flex_flow": null,
            "grid_area": null,
            "grid_auto_columns": null,
            "grid_auto_flow": null,
            "grid_auto_rows": null,
            "grid_column": null,
            "grid_gap": null,
            "grid_row": null,
            "grid_template_areas": null,
            "grid_template_columns": null,
            "grid_template_rows": null,
            "height": null,
            "justify_content": null,
            "justify_items": null,
            "left": null,
            "margin": null,
            "max_height": null,
            "max_width": null,
            "min_height": null,
            "min_width": null,
            "object_fit": null,
            "object_position": null,
            "order": null,
            "overflow": null,
            "overflow_x": null,
            "overflow_y": null,
            "padding": null,
            "right": null,
            "top": null,
            "visibility": null,
            "width": null
          }
        },
        "5895c88da6c746f8b0a215e2ac8a5aa1": {
          "model_module": "@jupyter-widgets/controls",
          "model_name": "ProgressStyleModel",
          "model_module_version": "1.5.0",
          "state": {
            "_model_module": "@jupyter-widgets/controls",
            "_model_module_version": "1.5.0",
            "_model_name": "ProgressStyleModel",
            "_view_count": null,
            "_view_module": "@jupyter-widgets/base",
            "_view_module_version": "1.2.0",
            "_view_name": "StyleView",
            "bar_color": null,
            "description_width": ""
          }
        },
        "d61b9fb2cd5e4b4da5a9f72c494961e3": {
          "model_module": "@jupyter-widgets/base",
          "model_name": "LayoutModel",
          "model_module_version": "1.2.0",
          "state": {
            "_model_module": "@jupyter-widgets/base",
            "_model_module_version": "1.2.0",
            "_model_name": "LayoutModel",
            "_view_count": null,
            "_view_module": "@jupyter-widgets/base",
            "_view_module_version": "1.2.0",
            "_view_name": "LayoutView",
            "align_content": null,
            "align_items": null,
            "align_self": null,
            "border": null,
            "bottom": null,
            "display": null,
            "flex": null,
            "flex_flow": null,
            "grid_area": null,
            "grid_auto_columns": null,
            "grid_auto_flow": null,
            "grid_auto_rows": null,
            "grid_column": null,
            "grid_gap": null,
            "grid_row": null,
            "grid_template_areas": null,
            "grid_template_columns": null,
            "grid_template_rows": null,
            "height": null,
            "justify_content": null,
            "justify_items": null,
            "left": null,
            "margin": null,
            "max_height": null,
            "max_width": null,
            "min_height": null,
            "min_width": null,
            "object_fit": null,
            "object_position": null,
            "order": null,
            "overflow": null,
            "overflow_x": null,
            "overflow_y": null,
            "padding": null,
            "right": null,
            "top": null,
            "visibility": null,
            "width": null
          }
        },
        "6dd55dc5a33b4b56bd39db97d652bb55": {
          "model_module": "@jupyter-widgets/controls",
          "model_name": "DescriptionStyleModel",
          "model_module_version": "1.5.0",
          "state": {
            "_model_module": "@jupyter-widgets/controls",
            "_model_module_version": "1.5.0",
            "_model_name": "DescriptionStyleModel",
            "_view_count": null,
            "_view_module": "@jupyter-widgets/base",
            "_view_module_version": "1.2.0",
            "_view_name": "StyleView",
            "description_width": ""
          }
        },
        "20d6b2d650c04da7b58ea890f05ce82d": {
          "model_module": "@jupyter-widgets/controls",
          "model_name": "HBoxModel",
          "model_module_version": "1.5.0",
          "state": {
            "_dom_classes": [],
            "_model_module": "@jupyter-widgets/controls",
            "_model_module_version": "1.5.0",
            "_model_name": "HBoxModel",
            "_view_count": null,
            "_view_module": "@jupyter-widgets/controls",
            "_view_module_version": "1.5.0",
            "_view_name": "HBoxView",
            "box_style": "",
            "children": [
              "IPY_MODEL_53596094c22141ae9a59bde0887fe5ef",
              "IPY_MODEL_641e13142b9741c096173abd179f18c2",
              "IPY_MODEL_8fbd8aec4ae74c16bb5908a6a29408cd"
            ],
            "layout": "IPY_MODEL_00993cda3a514e4da38988de2dd32a93"
          }
        },
        "53596094c22141ae9a59bde0887fe5ef": {
          "model_module": "@jupyter-widgets/controls",
          "model_name": "HTMLModel",
          "model_module_version": "1.5.0",
          "state": {
            "_dom_classes": [],
            "_model_module": "@jupyter-widgets/controls",
            "_model_module_version": "1.5.0",
            "_model_name": "HTMLModel",
            "_view_count": null,
            "_view_module": "@jupyter-widgets/controls",
            "_view_module_version": "1.5.0",
            "_view_name": "HTMLView",
            "description": "",
            "description_tooltip": null,
            "layout": "IPY_MODEL_4e5d068569be4bf3b51b814b9d8cef51",
            "placeholder": "​",
            "style": "IPY_MODEL_cdb53ef93b6a4c30985416aa5b8a686f",
            "value": "vocab.txt: 100%"
          }
        },
        "641e13142b9741c096173abd179f18c2": {
          "model_module": "@jupyter-widgets/controls",
          "model_name": "FloatProgressModel",
          "model_module_version": "1.5.0",
          "state": {
            "_dom_classes": [],
            "_model_module": "@jupyter-widgets/controls",
            "_model_module_version": "1.5.0",
            "_model_name": "FloatProgressModel",
            "_view_count": null,
            "_view_module": "@jupyter-widgets/controls",
            "_view_module_version": "1.5.0",
            "_view_name": "ProgressView",
            "bar_style": "success",
            "description": "",
            "description_tooltip": null,
            "layout": "IPY_MODEL_39ed5ab4e539441684c4ea2aade066af",
            "max": 213450,
            "min": 0,
            "orientation": "horizontal",
            "style": "IPY_MODEL_692c005aa01e43da9ba9233206c78e84",
            "value": 213450
          }
        },
        "8fbd8aec4ae74c16bb5908a6a29408cd": {
          "model_module": "@jupyter-widgets/controls",
          "model_name": "HTMLModel",
          "model_module_version": "1.5.0",
          "state": {
            "_dom_classes": [],
            "_model_module": "@jupyter-widgets/controls",
            "_model_module_version": "1.5.0",
            "_model_name": "HTMLModel",
            "_view_count": null,
            "_view_module": "@jupyter-widgets/controls",
            "_view_module_version": "1.5.0",
            "_view_name": "HTMLView",
            "description": "",
            "description_tooltip": null,
            "layout": "IPY_MODEL_91f8656f2ae14f23975f8c1ab79262da",
            "placeholder": "​",
            "style": "IPY_MODEL_b77949dc588f4b5797692ada7dde137e",
            "value": " 213k/213k [00:00&lt;00:00, 12.3MB/s]"
          }
        },
        "00993cda3a514e4da38988de2dd32a93": {
          "model_module": "@jupyter-widgets/base",
          "model_name": "LayoutModel",
          "model_module_version": "1.2.0",
          "state": {
            "_model_module": "@jupyter-widgets/base",
            "_model_module_version": "1.2.0",
            "_model_name": "LayoutModel",
            "_view_count": null,
            "_view_module": "@jupyter-widgets/base",
            "_view_module_version": "1.2.0",
            "_view_name": "LayoutView",
            "align_content": null,
            "align_items": null,
            "align_self": null,
            "border": null,
            "bottom": null,
            "display": null,
            "flex": null,
            "flex_flow": null,
            "grid_area": null,
            "grid_auto_columns": null,
            "grid_auto_flow": null,
            "grid_auto_rows": null,
            "grid_column": null,
            "grid_gap": null,
            "grid_row": null,
            "grid_template_areas": null,
            "grid_template_columns": null,
            "grid_template_rows": null,
            "height": null,
            "justify_content": null,
            "justify_items": null,
            "left": null,
            "margin": null,
            "max_height": null,
            "max_width": null,
            "min_height": null,
            "min_width": null,
            "object_fit": null,
            "object_position": null,
            "order": null,
            "overflow": null,
            "overflow_x": null,
            "overflow_y": null,
            "padding": null,
            "right": null,
            "top": null,
            "visibility": null,
            "width": null
          }
        },
        "4e5d068569be4bf3b51b814b9d8cef51": {
          "model_module": "@jupyter-widgets/base",
          "model_name": "LayoutModel",
          "model_module_version": "1.2.0",
          "state": {
            "_model_module": "@jupyter-widgets/base",
            "_model_module_version": "1.2.0",
            "_model_name": "LayoutModel",
            "_view_count": null,
            "_view_module": "@jupyter-widgets/base",
            "_view_module_version": "1.2.0",
            "_view_name": "LayoutView",
            "align_content": null,
            "align_items": null,
            "align_self": null,
            "border": null,
            "bottom": null,
            "display": null,
            "flex": null,
            "flex_flow": null,
            "grid_area": null,
            "grid_auto_columns": null,
            "grid_auto_flow": null,
            "grid_auto_rows": null,
            "grid_column": null,
            "grid_gap": null,
            "grid_row": null,
            "grid_template_areas": null,
            "grid_template_columns": null,
            "grid_template_rows": null,
            "height": null,
            "justify_content": null,
            "justify_items": null,
            "left": null,
            "margin": null,
            "max_height": null,
            "max_width": null,
            "min_height": null,
            "min_width": null,
            "object_fit": null,
            "object_position": null,
            "order": null,
            "overflow": null,
            "overflow_x": null,
            "overflow_y": null,
            "padding": null,
            "right": null,
            "top": null,
            "visibility": null,
            "width": null
          }
        },
        "cdb53ef93b6a4c30985416aa5b8a686f": {
          "model_module": "@jupyter-widgets/controls",
          "model_name": "DescriptionStyleModel",
          "model_module_version": "1.5.0",
          "state": {
            "_model_module": "@jupyter-widgets/controls",
            "_model_module_version": "1.5.0",
            "_model_name": "DescriptionStyleModel",
            "_view_count": null,
            "_view_module": "@jupyter-widgets/base",
            "_view_module_version": "1.2.0",
            "_view_name": "StyleView",
            "description_width": ""
          }
        },
        "39ed5ab4e539441684c4ea2aade066af": {
          "model_module": "@jupyter-widgets/base",
          "model_name": "LayoutModel",
          "model_module_version": "1.2.0",
          "state": {
            "_model_module": "@jupyter-widgets/base",
            "_model_module_version": "1.2.0",
            "_model_name": "LayoutModel",
            "_view_count": null,
            "_view_module": "@jupyter-widgets/base",
            "_view_module_version": "1.2.0",
            "_view_name": "LayoutView",
            "align_content": null,
            "align_items": null,
            "align_self": null,
            "border": null,
            "bottom": null,
            "display": null,
            "flex": null,
            "flex_flow": null,
            "grid_area": null,
            "grid_auto_columns": null,
            "grid_auto_flow": null,
            "grid_auto_rows": null,
            "grid_column": null,
            "grid_gap": null,
            "grid_row": null,
            "grid_template_areas": null,
            "grid_template_columns": null,
            "grid_template_rows": null,
            "height": null,
            "justify_content": null,
            "justify_items": null,
            "left": null,
            "margin": null,
            "max_height": null,
            "max_width": null,
            "min_height": null,
            "min_width": null,
            "object_fit": null,
            "object_position": null,
            "order": null,
            "overflow": null,
            "overflow_x": null,
            "overflow_y": null,
            "padding": null,
            "right": null,
            "top": null,
            "visibility": null,
            "width": null
          }
        },
        "692c005aa01e43da9ba9233206c78e84": {
          "model_module": "@jupyter-widgets/controls",
          "model_name": "ProgressStyleModel",
          "model_module_version": "1.5.0",
          "state": {
            "_model_module": "@jupyter-widgets/controls",
            "_model_module_version": "1.5.0",
            "_model_name": "ProgressStyleModel",
            "_view_count": null,
            "_view_module": "@jupyter-widgets/base",
            "_view_module_version": "1.2.0",
            "_view_name": "StyleView",
            "bar_color": null,
            "description_width": ""
          }
        },
        "91f8656f2ae14f23975f8c1ab79262da": {
          "model_module": "@jupyter-widgets/base",
          "model_name": "LayoutModel",
          "model_module_version": "1.2.0",
          "state": {
            "_model_module": "@jupyter-widgets/base",
            "_model_module_version": "1.2.0",
            "_model_name": "LayoutModel",
            "_view_count": null,
            "_view_module": "@jupyter-widgets/base",
            "_view_module_version": "1.2.0",
            "_view_name": "LayoutView",
            "align_content": null,
            "align_items": null,
            "align_self": null,
            "border": null,
            "bottom": null,
            "display": null,
            "flex": null,
            "flex_flow": null,
            "grid_area": null,
            "grid_auto_columns": null,
            "grid_auto_flow": null,
            "grid_auto_rows": null,
            "grid_column": null,
            "grid_gap": null,
            "grid_row": null,
            "grid_template_areas": null,
            "grid_template_columns": null,
            "grid_template_rows": null,
            "height": null,
            "justify_content": null,
            "justify_items": null,
            "left": null,
            "margin": null,
            "max_height": null,
            "max_width": null,
            "min_height": null,
            "min_width": null,
            "object_fit": null,
            "object_position": null,
            "order": null,
            "overflow": null,
            "overflow_x": null,
            "overflow_y": null,
            "padding": null,
            "right": null,
            "top": null,
            "visibility": null,
            "width": null
          }
        },
        "b77949dc588f4b5797692ada7dde137e": {
          "model_module": "@jupyter-widgets/controls",
          "model_name": "DescriptionStyleModel",
          "model_module_version": "1.5.0",
          "state": {
            "_model_module": "@jupyter-widgets/controls",
            "_model_module_version": "1.5.0",
            "_model_name": "DescriptionStyleModel",
            "_view_count": null,
            "_view_module": "@jupyter-widgets/base",
            "_view_module_version": "1.2.0",
            "_view_name": "StyleView",
            "description_width": ""
          }
        },
        "b9d81dfa5cb54c6d9c0fbd46720df6d7": {
          "model_module": "@jupyter-widgets/controls",
          "model_name": "HBoxModel",
          "model_module_version": "1.5.0",
          "state": {
            "_dom_classes": [],
            "_model_module": "@jupyter-widgets/controls",
            "_model_module_version": "1.5.0",
            "_model_name": "HBoxModel",
            "_view_count": null,
            "_view_module": "@jupyter-widgets/controls",
            "_view_module_version": "1.5.0",
            "_view_name": "HBoxView",
            "box_style": "",
            "children": [
              "IPY_MODEL_e32dce9df740494fa34f13367c3137fb",
              "IPY_MODEL_bc0e57afc9e0456bb1d4dad69c92c238",
              "IPY_MODEL_84c6aaa26cd44d419c99437a4e836176"
            ],
            "layout": "IPY_MODEL_93515a315da941efa17f54ac12d55e80"
          }
        },
        "e32dce9df740494fa34f13367c3137fb": {
          "model_module": "@jupyter-widgets/controls",
          "model_name": "HTMLModel",
          "model_module_version": "1.5.0",
          "state": {
            "_dom_classes": [],
            "_model_module": "@jupyter-widgets/controls",
            "_model_module_version": "1.5.0",
            "_model_name": "HTMLModel",
            "_view_count": null,
            "_view_module": "@jupyter-widgets/controls",
            "_view_module_version": "1.5.0",
            "_view_name": "HTMLView",
            "description": "",
            "description_tooltip": null,
            "layout": "IPY_MODEL_4fe33fd5f88d4053b7c4d1d3b3432573",
            "placeholder": "​",
            "style": "IPY_MODEL_f047a77654124203944f04cfbf604be7",
            "value": "tokenizer.json: 100%"
          }
        },
        "bc0e57afc9e0456bb1d4dad69c92c238": {
          "model_module": "@jupyter-widgets/controls",
          "model_name": "FloatProgressModel",
          "model_module_version": "1.5.0",
          "state": {
            "_dom_classes": [],
            "_model_module": "@jupyter-widgets/controls",
            "_model_module_version": "1.5.0",
            "_model_name": "FloatProgressModel",
            "_view_count": null,
            "_view_module": "@jupyter-widgets/controls",
            "_view_module_version": "1.5.0",
            "_view_name": "ProgressView",
            "bar_style": "success",
            "description": "",
            "description_tooltip": null,
            "layout": "IPY_MODEL_ebfe1174cecf406481a1278ad715852f",
            "max": 435797,
            "min": 0,
            "orientation": "horizontal",
            "style": "IPY_MODEL_ae2f264145c040acb05c3a3c220a5d6d",
            "value": 435797
          }
        },
        "84c6aaa26cd44d419c99437a4e836176": {
          "model_module": "@jupyter-widgets/controls",
          "model_name": "HTMLModel",
          "model_module_version": "1.5.0",
          "state": {
            "_dom_classes": [],
            "_model_module": "@jupyter-widgets/controls",
            "_model_module_version": "1.5.0",
            "_model_name": "HTMLModel",
            "_view_count": null,
            "_view_module": "@jupyter-widgets/controls",
            "_view_module_version": "1.5.0",
            "_view_name": "HTMLView",
            "description": "",
            "description_tooltip": null,
            "layout": "IPY_MODEL_75cf346e50a5451dac644cefd322884b",
            "placeholder": "​",
            "style": "IPY_MODEL_4f0cb31a7ecf4445bce60511eb9c2894",
            "value": " 436k/436k [00:00&lt;00:00, 590kB/s]"
          }
        },
        "93515a315da941efa17f54ac12d55e80": {
          "model_module": "@jupyter-widgets/base",
          "model_name": "LayoutModel",
          "model_module_version": "1.2.0",
          "state": {
            "_model_module": "@jupyter-widgets/base",
            "_model_module_version": "1.2.0",
            "_model_name": "LayoutModel",
            "_view_count": null,
            "_view_module": "@jupyter-widgets/base",
            "_view_module_version": "1.2.0",
            "_view_name": "LayoutView",
            "align_content": null,
            "align_items": null,
            "align_self": null,
            "border": null,
            "bottom": null,
            "display": null,
            "flex": null,
            "flex_flow": null,
            "grid_area": null,
            "grid_auto_columns": null,
            "grid_auto_flow": null,
            "grid_auto_rows": null,
            "grid_column": null,
            "grid_gap": null,
            "grid_row": null,
            "grid_template_areas": null,
            "grid_template_columns": null,
            "grid_template_rows": null,
            "height": null,
            "justify_content": null,
            "justify_items": null,
            "left": null,
            "margin": null,
            "max_height": null,
            "max_width": null,
            "min_height": null,
            "min_width": null,
            "object_fit": null,
            "object_position": null,
            "order": null,
            "overflow": null,
            "overflow_x": null,
            "overflow_y": null,
            "padding": null,
            "right": null,
            "top": null,
            "visibility": null,
            "width": null
          }
        },
        "4fe33fd5f88d4053b7c4d1d3b3432573": {
          "model_module": "@jupyter-widgets/base",
          "model_name": "LayoutModel",
          "model_module_version": "1.2.0",
          "state": {
            "_model_module": "@jupyter-widgets/base",
            "_model_module_version": "1.2.0",
            "_model_name": "LayoutModel",
            "_view_count": null,
            "_view_module": "@jupyter-widgets/base",
            "_view_module_version": "1.2.0",
            "_view_name": "LayoutView",
            "align_content": null,
            "align_items": null,
            "align_self": null,
            "border": null,
            "bottom": null,
            "display": null,
            "flex": null,
            "flex_flow": null,
            "grid_area": null,
            "grid_auto_columns": null,
            "grid_auto_flow": null,
            "grid_auto_rows": null,
            "grid_column": null,
            "grid_gap": null,
            "grid_row": null,
            "grid_template_areas": null,
            "grid_template_columns": null,
            "grid_template_rows": null,
            "height": null,
            "justify_content": null,
            "justify_items": null,
            "left": null,
            "margin": null,
            "max_height": null,
            "max_width": null,
            "min_height": null,
            "min_width": null,
            "object_fit": null,
            "object_position": null,
            "order": null,
            "overflow": null,
            "overflow_x": null,
            "overflow_y": null,
            "padding": null,
            "right": null,
            "top": null,
            "visibility": null,
            "width": null
          }
        },
        "f047a77654124203944f04cfbf604be7": {
          "model_module": "@jupyter-widgets/controls",
          "model_name": "DescriptionStyleModel",
          "model_module_version": "1.5.0",
          "state": {
            "_model_module": "@jupyter-widgets/controls",
            "_model_module_version": "1.5.0",
            "_model_name": "DescriptionStyleModel",
            "_view_count": null,
            "_view_module": "@jupyter-widgets/base",
            "_view_module_version": "1.2.0",
            "_view_name": "StyleView",
            "description_width": ""
          }
        },
        "ebfe1174cecf406481a1278ad715852f": {
          "model_module": "@jupyter-widgets/base",
          "model_name": "LayoutModel",
          "model_module_version": "1.2.0",
          "state": {
            "_model_module": "@jupyter-widgets/base",
            "_model_module_version": "1.2.0",
            "_model_name": "LayoutModel",
            "_view_count": null,
            "_view_module": "@jupyter-widgets/base",
            "_view_module_version": "1.2.0",
            "_view_name": "LayoutView",
            "align_content": null,
            "align_items": null,
            "align_self": null,
            "border": null,
            "bottom": null,
            "display": null,
            "flex": null,
            "flex_flow": null,
            "grid_area": null,
            "grid_auto_columns": null,
            "grid_auto_flow": null,
            "grid_auto_rows": null,
            "grid_column": null,
            "grid_gap": null,
            "grid_row": null,
            "grid_template_areas": null,
            "grid_template_columns": null,
            "grid_template_rows": null,
            "height": null,
            "justify_content": null,
            "justify_items": null,
            "left": null,
            "margin": null,
            "max_height": null,
            "max_width": null,
            "min_height": null,
            "min_width": null,
            "object_fit": null,
            "object_position": null,
            "order": null,
            "overflow": null,
            "overflow_x": null,
            "overflow_y": null,
            "padding": null,
            "right": null,
            "top": null,
            "visibility": null,
            "width": null
          }
        },
        "ae2f264145c040acb05c3a3c220a5d6d": {
          "model_module": "@jupyter-widgets/controls",
          "model_name": "ProgressStyleModel",
          "model_module_version": "1.5.0",
          "state": {
            "_model_module": "@jupyter-widgets/controls",
            "_model_module_version": "1.5.0",
            "_model_name": "ProgressStyleModel",
            "_view_count": null,
            "_view_module": "@jupyter-widgets/base",
            "_view_module_version": "1.2.0",
            "_view_name": "StyleView",
            "bar_color": null,
            "description_width": ""
          }
        },
        "75cf346e50a5451dac644cefd322884b": {
          "model_module": "@jupyter-widgets/base",
          "model_name": "LayoutModel",
          "model_module_version": "1.2.0",
          "state": {
            "_model_module": "@jupyter-widgets/base",
            "_model_module_version": "1.2.0",
            "_model_name": "LayoutModel",
            "_view_count": null,
            "_view_module": "@jupyter-widgets/base",
            "_view_module_version": "1.2.0",
            "_view_name": "LayoutView",
            "align_content": null,
            "align_items": null,
            "align_self": null,
            "border": null,
            "bottom": null,
            "display": null,
            "flex": null,
            "flex_flow": null,
            "grid_area": null,
            "grid_auto_columns": null,
            "grid_auto_flow": null,
            "grid_auto_rows": null,
            "grid_column": null,
            "grid_gap": null,
            "grid_row": null,
            "grid_template_areas": null,
            "grid_template_columns": null,
            "grid_template_rows": null,
            "height": null,
            "justify_content": null,
            "justify_items": null,
            "left": null,
            "margin": null,
            "max_height": null,
            "max_width": null,
            "min_height": null,
            "min_width": null,
            "object_fit": null,
            "object_position": null,
            "order": null,
            "overflow": null,
            "overflow_x": null,
            "overflow_y": null,
            "padding": null,
            "right": null,
            "top": null,
            "visibility": null,
            "width": null
          }
        },
        "4f0cb31a7ecf4445bce60511eb9c2894": {
          "model_module": "@jupyter-widgets/controls",
          "model_name": "DescriptionStyleModel",
          "model_module_version": "1.5.0",
          "state": {
            "_model_module": "@jupyter-widgets/controls",
            "_model_module_version": "1.5.0",
            "_model_name": "DescriptionStyleModel",
            "_view_count": null,
            "_view_module": "@jupyter-widgets/base",
            "_view_module_version": "1.2.0",
            "_view_name": "StyleView",
            "description_width": ""
          }
        },
        "e067b50056ce41c0a7d83c75ad3ae362": {
          "model_module": "@jupyter-widgets/controls",
          "model_name": "HBoxModel",
          "model_module_version": "1.5.0",
          "state": {
            "_dom_classes": [],
            "_model_module": "@jupyter-widgets/controls",
            "_model_module_version": "1.5.0",
            "_model_name": "HBoxModel",
            "_view_count": null,
            "_view_module": "@jupyter-widgets/controls",
            "_view_module_version": "1.5.0",
            "_view_name": "HBoxView",
            "box_style": "",
            "children": [
              "IPY_MODEL_518c2dd8a0904b59bfebe68e5b4cd4e6",
              "IPY_MODEL_0b7d1d97b7e742cfb274e454a1670136",
              "IPY_MODEL_ab2caa4baaab4fb6a892156212d65f79"
            ],
            "layout": "IPY_MODEL_1d259b482fb24caeba11ce211a3c06e0"
          }
        },
        "518c2dd8a0904b59bfebe68e5b4cd4e6": {
          "model_module": "@jupyter-widgets/controls",
          "model_name": "HTMLModel",
          "model_module_version": "1.5.0",
          "state": {
            "_dom_classes": [],
            "_model_module": "@jupyter-widgets/controls",
            "_model_module_version": "1.5.0",
            "_model_name": "HTMLModel",
            "_view_count": null,
            "_view_module": "@jupyter-widgets/controls",
            "_view_module_version": "1.5.0",
            "_view_name": "HTMLView",
            "description": "",
            "description_tooltip": null,
            "layout": "IPY_MODEL_814d256101f84ca4960f9e1a7a577792",
            "placeholder": "​",
            "style": "IPY_MODEL_aa28d72b32c247d3828f15922dd61dcd",
            "value": "model.safetensors: 100%"
          }
        },
        "0b7d1d97b7e742cfb274e454a1670136": {
          "model_module": "@jupyter-widgets/controls",
          "model_name": "FloatProgressModel",
          "model_module_version": "1.5.0",
          "state": {
            "_dom_classes": [],
            "_model_module": "@jupyter-widgets/controls",
            "_model_module_version": "1.5.0",
            "_model_name": "FloatProgressModel",
            "_view_count": null,
            "_view_module": "@jupyter-widgets/controls",
            "_view_module_version": "1.5.0",
            "_view_name": "ProgressView",
            "bar_style": "success",
            "description": "",
            "description_tooltip": null,
            "layout": "IPY_MODEL_51d125e593d74a35b034498085bb2b0d",
            "max": 435755784,
            "min": 0,
            "orientation": "horizontal",
            "style": "IPY_MODEL_decaabaa5e884c23b39df9c155841f4b",
            "value": 435755784
          }
        },
        "ab2caa4baaab4fb6a892156212d65f79": {
          "model_module": "@jupyter-widgets/controls",
          "model_name": "HTMLModel",
          "model_module_version": "1.5.0",
          "state": {
            "_dom_classes": [],
            "_model_module": "@jupyter-widgets/controls",
            "_model_module_version": "1.5.0",
            "_model_name": "HTMLModel",
            "_view_count": null,
            "_view_module": "@jupyter-widgets/controls",
            "_view_module_version": "1.5.0",
            "_view_name": "HTMLView",
            "description": "",
            "description_tooltip": null,
            "layout": "IPY_MODEL_93fa0a0d767f4608aa4a02d60c3cb989",
            "placeholder": "​",
            "style": "IPY_MODEL_e7e4efa3cbb94a868f5e9302b862a0bb",
            "value": " 436M/436M [00:00&lt;00:00, 517MB/s]"
          }
        },
        "1d259b482fb24caeba11ce211a3c06e0": {
          "model_module": "@jupyter-widgets/base",
          "model_name": "LayoutModel",
          "model_module_version": "1.2.0",
          "state": {
            "_model_module": "@jupyter-widgets/base",
            "_model_module_version": "1.2.0",
            "_model_name": "LayoutModel",
            "_view_count": null,
            "_view_module": "@jupyter-widgets/base",
            "_view_module_version": "1.2.0",
            "_view_name": "LayoutView",
            "align_content": null,
            "align_items": null,
            "align_self": null,
            "border": null,
            "bottom": null,
            "display": null,
            "flex": null,
            "flex_flow": null,
            "grid_area": null,
            "grid_auto_columns": null,
            "grid_auto_flow": null,
            "grid_auto_rows": null,
            "grid_column": null,
            "grid_gap": null,
            "grid_row": null,
            "grid_template_areas": null,
            "grid_template_columns": null,
            "grid_template_rows": null,
            "height": null,
            "justify_content": null,
            "justify_items": null,
            "left": null,
            "margin": null,
            "max_height": null,
            "max_width": null,
            "min_height": null,
            "min_width": null,
            "object_fit": null,
            "object_position": null,
            "order": null,
            "overflow": null,
            "overflow_x": null,
            "overflow_y": null,
            "padding": null,
            "right": null,
            "top": null,
            "visibility": null,
            "width": null
          }
        },
        "814d256101f84ca4960f9e1a7a577792": {
          "model_module": "@jupyter-widgets/base",
          "model_name": "LayoutModel",
          "model_module_version": "1.2.0",
          "state": {
            "_model_module": "@jupyter-widgets/base",
            "_model_module_version": "1.2.0",
            "_model_name": "LayoutModel",
            "_view_count": null,
            "_view_module": "@jupyter-widgets/base",
            "_view_module_version": "1.2.0",
            "_view_name": "LayoutView",
            "align_content": null,
            "align_items": null,
            "align_self": null,
            "border": null,
            "bottom": null,
            "display": null,
            "flex": null,
            "flex_flow": null,
            "grid_area": null,
            "grid_auto_columns": null,
            "grid_auto_flow": null,
            "grid_auto_rows": null,
            "grid_column": null,
            "grid_gap": null,
            "grid_row": null,
            "grid_template_areas": null,
            "grid_template_columns": null,
            "grid_template_rows": null,
            "height": null,
            "justify_content": null,
            "justify_items": null,
            "left": null,
            "margin": null,
            "max_height": null,
            "max_width": null,
            "min_height": null,
            "min_width": null,
            "object_fit": null,
            "object_position": null,
            "order": null,
            "overflow": null,
            "overflow_x": null,
            "overflow_y": null,
            "padding": null,
            "right": null,
            "top": null,
            "visibility": null,
            "width": null
          }
        },
        "aa28d72b32c247d3828f15922dd61dcd": {
          "model_module": "@jupyter-widgets/controls",
          "model_name": "DescriptionStyleModel",
          "model_module_version": "1.5.0",
          "state": {
            "_model_module": "@jupyter-widgets/controls",
            "_model_module_version": "1.5.0",
            "_model_name": "DescriptionStyleModel",
            "_view_count": null,
            "_view_module": "@jupyter-widgets/base",
            "_view_module_version": "1.2.0",
            "_view_name": "StyleView",
            "description_width": ""
          }
        },
        "51d125e593d74a35b034498085bb2b0d": {
          "model_module": "@jupyter-widgets/base",
          "model_name": "LayoutModel",
          "model_module_version": "1.2.0",
          "state": {
            "_model_module": "@jupyter-widgets/base",
            "_model_module_version": "1.2.0",
            "_model_name": "LayoutModel",
            "_view_count": null,
            "_view_module": "@jupyter-widgets/base",
            "_view_module_version": "1.2.0",
            "_view_name": "LayoutView",
            "align_content": null,
            "align_items": null,
            "align_self": null,
            "border": null,
            "bottom": null,
            "display": null,
            "flex": null,
            "flex_flow": null,
            "grid_area": null,
            "grid_auto_columns": null,
            "grid_auto_flow": null,
            "grid_auto_rows": null,
            "grid_column": null,
            "grid_gap": null,
            "grid_row": null,
            "grid_template_areas": null,
            "grid_template_columns": null,
            "grid_template_rows": null,
            "height": null,
            "justify_content": null,
            "justify_items": null,
            "left": null,
            "margin": null,
            "max_height": null,
            "max_width": null,
            "min_height": null,
            "min_width": null,
            "object_fit": null,
            "object_position": null,
            "order": null,
            "overflow": null,
            "overflow_x": null,
            "overflow_y": null,
            "padding": null,
            "right": null,
            "top": null,
            "visibility": null,
            "width": null
          }
        },
        "decaabaa5e884c23b39df9c155841f4b": {
          "model_module": "@jupyter-widgets/controls",
          "model_name": "ProgressStyleModel",
          "model_module_version": "1.5.0",
          "state": {
            "_model_module": "@jupyter-widgets/controls",
            "_model_module_version": "1.5.0",
            "_model_name": "ProgressStyleModel",
            "_view_count": null,
            "_view_module": "@jupyter-widgets/base",
            "_view_module_version": "1.2.0",
            "_view_name": "StyleView",
            "bar_color": null,
            "description_width": ""
          }
        },
        "93fa0a0d767f4608aa4a02d60c3cb989": {
          "model_module": "@jupyter-widgets/base",
          "model_name": "LayoutModel",
          "model_module_version": "1.2.0",
          "state": {
            "_model_module": "@jupyter-widgets/base",
            "_model_module_version": "1.2.0",
            "_model_name": "LayoutModel",
            "_view_count": null,
            "_view_module": "@jupyter-widgets/base",
            "_view_module_version": "1.2.0",
            "_view_name": "LayoutView",
            "align_content": null,
            "align_items": null,
            "align_self": null,
            "border": null,
            "bottom": null,
            "display": null,
            "flex": null,
            "flex_flow": null,
            "grid_area": null,
            "grid_auto_columns": null,
            "grid_auto_flow": null,
            "grid_auto_rows": null,
            "grid_column": null,
            "grid_gap": null,
            "grid_row": null,
            "grid_template_areas": null,
            "grid_template_columns": null,
            "grid_template_rows": null,
            "height": null,
            "justify_content": null,
            "justify_items": null,
            "left": null,
            "margin": null,
            "max_height": null,
            "max_width": null,
            "min_height": null,
            "min_width": null,
            "object_fit": null,
            "object_position": null,
            "order": null,
            "overflow": null,
            "overflow_x": null,
            "overflow_y": null,
            "padding": null,
            "right": null,
            "top": null,
            "visibility": null,
            "width": null
          }
        },
        "e7e4efa3cbb94a868f5e9302b862a0bb": {
          "model_module": "@jupyter-widgets/controls",
          "model_name": "DescriptionStyleModel",
          "model_module_version": "1.5.0",
          "state": {
            "_model_module": "@jupyter-widgets/controls",
            "_model_module_version": "1.5.0",
            "_model_name": "DescriptionStyleModel",
            "_view_count": null,
            "_view_module": "@jupyter-widgets/base",
            "_view_module_version": "1.2.0",
            "_view_name": "StyleView",
            "description_width": ""
          }
        }
      }
    }
  },
  "nbformat": 4,
  "nbformat_minor": 0
}